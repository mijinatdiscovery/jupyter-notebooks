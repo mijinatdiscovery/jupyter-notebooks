{
 "cells": [
  {
   "cell_type": "code",
   "execution_count": 1,
   "metadata": {
    "id": "D7vdQZ6FxEiR"
   },
   "outputs": [],
   "source": [
    "import numpy as np\n",
    "import pandas as pd\n",
    "from sklearn.preprocessing import StandardScaler\n",
    "from sklearn.linear_model import LogisticRegression\n",
    "from sklearn.metrics import confusion_matrix, accuracy_score\n",
    "import matplotlib.pyplot as plt"
   ]
  },
  {
   "cell_type": "markdown",
   "metadata": {
    "id": "-R7jPtW2Z0iz"
   },
   "source": [
    "# Introduction\n",
    "\n",
    "In this notebook we will investigate Logistic Regression on the Pima Indians Diabetes dataset (https://www.kaggle.com/uciml/pima-indians-diabetes-database) where we will try to predict the onset of Diabetes, based on certain diagnostics and measurements.\n",
    "\n",
    "Begin by downloading, and importing the data set.\n",
    "\n",
    "This will be followed by a short recap of logistic regression, and the training procedure. The first set of exercises will ask you to submit a short proof that the sigmoid function always lies between 0 and 1, and also to fit the data-set to a Logistic Regression model.\n",
    "\n",
    "We then look at choosing the best model for classification. For this, we will consider the same variable selection as seen in the first notebook. We will then have a short introduction on regularization. This is a very important concept in Machine Learning, it can be used to avoid over-fitting, as well as for variable selection (which we will not cover). The second set of exercises consists in choosing the best regularization constant, and exploring its effect on the model.\n",
    "\n",
    "Finally, we will look at *interpreting* the output of the model to make decisions. We do this by changing the probability thresholds for classification, and explain how we will choose them by considering risk of misclassification."
   ]
  },
  {
   "cell_type": "markdown",
   "metadata": {
    "id": "TnSu23jhOVZA"
   },
   "source": [
    "# Downloading and pre-processing the data"
   ]
  },
  {
   "cell_type": "code",
   "execution_count": 2,
   "metadata": {
    "colab": {
     "base_uri": "https://localhost:8080/",
     "height": 204
    },
    "id": "eYNRqkcqyH0M",
    "outputId": "c55aa28a-7d6e-4c78-b149-19dbe69b9d0f"
   },
   "outputs": [
    {
     "data": {
      "text/html": [
       "<div>\n",
       "<style scoped>\n",
       "    .dataframe tbody tr th:only-of-type {\n",
       "        vertical-align: middle;\n",
       "    }\n",
       "\n",
       "    .dataframe tbody tr th {\n",
       "        vertical-align: top;\n",
       "    }\n",
       "\n",
       "    .dataframe thead th {\n",
       "        text-align: right;\n",
       "    }\n",
       "</style>\n",
       "<table border=\"1\" class=\"dataframe\">\n",
       "  <thead>\n",
       "    <tr style=\"text-align: right;\">\n",
       "      <th></th>\n",
       "      <th>Pregnancies</th>\n",
       "      <th>Glucose</th>\n",
       "      <th>BloodPressure</th>\n",
       "      <th>SkinThickness</th>\n",
       "      <th>Insulin</th>\n",
       "      <th>BMI</th>\n",
       "      <th>DiabetesPedigreeFunction</th>\n",
       "      <th>Age</th>\n",
       "      <th>Outcome</th>\n",
       "    </tr>\n",
       "  </thead>\n",
       "  <tbody>\n",
       "    <tr>\n",
       "      <th>0</th>\n",
       "      <td>6</td>\n",
       "      <td>148</td>\n",
       "      <td>72</td>\n",
       "      <td>35</td>\n",
       "      <td>0</td>\n",
       "      <td>33.6</td>\n",
       "      <td>0.627</td>\n",
       "      <td>50</td>\n",
       "      <td>1</td>\n",
       "    </tr>\n",
       "    <tr>\n",
       "      <th>1</th>\n",
       "      <td>1</td>\n",
       "      <td>85</td>\n",
       "      <td>66</td>\n",
       "      <td>29</td>\n",
       "      <td>0</td>\n",
       "      <td>26.6</td>\n",
       "      <td>0.351</td>\n",
       "      <td>31</td>\n",
       "      <td>0</td>\n",
       "    </tr>\n",
       "    <tr>\n",
       "      <th>2</th>\n",
       "      <td>8</td>\n",
       "      <td>183</td>\n",
       "      <td>64</td>\n",
       "      <td>0</td>\n",
       "      <td>0</td>\n",
       "      <td>23.3</td>\n",
       "      <td>0.672</td>\n",
       "      <td>32</td>\n",
       "      <td>1</td>\n",
       "    </tr>\n",
       "    <tr>\n",
       "      <th>3</th>\n",
       "      <td>1</td>\n",
       "      <td>89</td>\n",
       "      <td>66</td>\n",
       "      <td>23</td>\n",
       "      <td>94</td>\n",
       "      <td>28.1</td>\n",
       "      <td>0.167</td>\n",
       "      <td>21</td>\n",
       "      <td>0</td>\n",
       "    </tr>\n",
       "    <tr>\n",
       "      <th>4</th>\n",
       "      <td>0</td>\n",
       "      <td>137</td>\n",
       "      <td>40</td>\n",
       "      <td>35</td>\n",
       "      <td>168</td>\n",
       "      <td>43.1</td>\n",
       "      <td>2.288</td>\n",
       "      <td>33</td>\n",
       "      <td>1</td>\n",
       "    </tr>\n",
       "  </tbody>\n",
       "</table>\n",
       "</div>"
      ],
      "text/plain": [
       "   Pregnancies  Glucose  BloodPressure  SkinThickness  Insulin   BMI  \\\n",
       "0            6      148             72             35        0  33.6   \n",
       "1            1       85             66             29        0  26.6   \n",
       "2            8      183             64              0        0  23.3   \n",
       "3            1       89             66             23       94  28.1   \n",
       "4            0      137             40             35      168  43.1   \n",
       "\n",
       "   DiabetesPedigreeFunction  Age  Outcome  \n",
       "0                     0.627   50        1  \n",
       "1                     0.351   31        0  \n",
       "2                     0.672   32        1  \n",
       "3                     0.167   21        0  \n",
       "4                     2.288   33        1  "
      ]
     },
     "execution_count": 2,
     "metadata": {},
     "output_type": "execute_result"
    }
   ],
   "source": [
    "data = pd.read_csv('diabetes.csv')\n",
    "data.head()"
   ]
  },
  {
   "cell_type": "markdown",
   "metadata": {
    "id": "E0qemfflyYSb"
   },
   "source": [
    "We must then split the data into inputs and outputs. We also remove the Insulin variable, since the data is incomplete (there are ways of dealing with incomplete data, but that is not the purpose of this notebook)."
   ]
  },
  {
   "cell_type": "code",
   "execution_count": 3,
   "metadata": {
    "id": "U6z2SNgVyWJX"
   },
   "outputs": [],
   "source": [
    "outputs = ['Outcome']\n",
    "inputs = ['Pregnancies', 'Glucose', 'BloodPressure', 'SkinThickness', 'BMI', 'DiabetesPedigreeFunction', 'Age']\n",
    "\n",
    "X = data[inputs]\n",
    "Y = data[outputs].to_numpy().reshape(-1)"
   ]
  },
  {
   "cell_type": "markdown",
   "metadata": {
    "id": "OqX_Zn3Hxhfd"
   },
   "source": [
    "We will now scale the data. Can you explain why this step needs to be done?"
   ]
  },
  {
   "cell_type": "code",
   "execution_count": 4,
   "metadata": {
    "id": "RdH34bJixuRh"
   },
   "outputs": [],
   "source": [
    "scaler = StandardScaler().fit(X)\n",
    "X = scaler.transform(X)"
   ]
  },
  {
   "cell_type": "markdown",
   "metadata": {
    "id": "iyPlsKPP608P"
   },
   "source": [
    "Finally, we divide it into a 80 / 20 training and testing split."
   ]
  },
  {
   "cell_type": "code",
   "execution_count": 5,
   "metadata": {
    "id": "XrzVsMpryuxB"
   },
   "outputs": [],
   "source": [
    "num_of_points = len(Y)\n",
    "\n",
    "idx = list(range(num_of_points))\n",
    "np.random.shuffle(idx)\n",
    "idx_train = idx[:int(num_of_points * 0.8)]\n",
    "idx_train.sort()\n",
    "idx_test = idx[int(num_of_points * 0.8):]\n",
    "idx_test.sort()\n",
    "\n",
    "X_train = X[idx_train, :]\n",
    "X_test = X[idx_test, :]\n",
    "\n",
    "Y_train = Y[idx_train]\n",
    "Y_test = Y[idx_test]"
   ]
  },
  {
   "cell_type": "markdown",
   "metadata": {
    "id": "wAmjUYZjxPVF"
   },
   "source": [
    "# Logistic Regression\n",
    "\n",
    "Recall that logistic regression is a model that is very well suited to problems where we have a binary output. That is, we are trying to use certain predictors to classify a particular input into one of two classes. We can write this down more formally.\n",
    "\n",
    "Assume we have a set of predictors $x \\in \\mathcal{X}$, and a set of outputs $y \\in \\{0, 1 \\}$. We are then interested in estimating the probability of belonging to a certain class, that is, we want to build an estimator, $\\hat{p}(x)$, such that:\n",
    "$$\n",
    "\\hat{p}(x) = \\mathbb{P}( Y = 1 | X = x )\n",
    "$$\n",
    "\n",
    "There are many real-world scenarios where this might be the case. Consider for example, we might be interested in predicting if a particular individual infected with COVID will need hospital treatment. In this case, we would define $Y = 1$ the scenario where the individual requires treatment, and $Y = 0$ otherwise. For predictors we could use $X = $ age. \n",
    "\n",
    "We could decide to use linear regression, that is, a model of the form:\n",
    "$$\n",
    "\\hat{p}(x) = \\beta_0 + x \\beta_1\n",
    "$$\n",
    "\n",
    "However, we run into trouble. Probabilities must lie between 0 and 1! The linear model is unable to incorporate this property into its predictions!\n",
    "\n",
    "We can instead wrap our linear model in a function that guarantees all our outputs lie between 0 and 1. We will be using the sigmoid function, defined as:\n",
    "$$\n",
    "\\sigma(x) = \\frac{1}{1 + e^{-x}}\n",
    "$$\n",
    "\n",
    "After wrapping the linear model, we obtain the logistic regression model, given by:\n",
    "$$\n",
    "\\hat{p}(x) = \\sigma(\\beta_0 + x \\beta_1)\n",
    "$$\n",
    "\n",
    "Which we can write as:\n",
    "$$\n",
    "\\hat{p}(x) = \\frac{e^{\\beta_0 + x \\beta_1}}{1 + e^{\\beta_0 + x \\beta_1}}\n",
    "$$"
   ]
  },
  {
   "cell_type": "markdown",
   "metadata": {
    "id": "l9LRuT3WCn7J"
   },
   "source": [
    "# Training the function\n",
    "\n",
    "The parameters of a linear regression model can be estimated using least squares. However, it is not the best optimiser for logistic regression. This is because we are not estimating $Y$ directly, instead we are estimating $\\textit{the probability}$ of Y. This means maximum likelihood estimation is much more appropriate for logistic regression. We can write the likelihood function easily:\n",
    "$$\n",
    "\\mathcal{L} = \\prod_{i : y_i = 1} \\mathbb{P}(Y = 1 | X = x_i) \\prod_{i' : y_{i'} = 0} (1 - \\mathbb{P}(Y = 0 | X = x_{i'}))\n",
    "$$\n",
    "\n",
    "Instead of maximising this directly, it is more common to minimise the negative log-likelihood:\n",
    "$$\n",
    "\\ell(\\beta) = - \\log \\mathcal{L}(\\beta) = - \\sum_{i : y_i = 1} \\log\\sigma(x_i^T \\beta) - \\sum_{i' : y_{i'} = 0}\\log \\sigma(x_{i'}^T\\beta)\n",
    "$$\n",
    "So that we choose our parameters, $\\hat{\\beta}$:\n",
    "$$\n",
    "\\hat{\\beta} = \\arg\\min_{\\beta} \\ell(\\beta)\n",
    "$$\n",
    "\n",
    "Finding the minimum can easily be done using any gradient-based optimiser. In addition, we can also add regularisation, which helps us avoid overfitting. We will begin by investigating this."
   ]
  },
  {
   "cell_type": "markdown",
   "metadata": {
    "id": "R90i_2UNu_0l"
   },
   "source": [
    "## Exercise 1:\n",
    "\n",
    "1. Prove that the sigmoid function always gives an output between 0 and 1. (Hint: consider the limits as $x \\rightarrow \\pm \\infty$, and show the function is always increasing).\n",
    "\n",
    "2. Using scikit.learn's LogisticRegression class, train a model on the data-set above, make sure you are not regularising (read the sklearn's documentation! - https://scikit-learn.org/stable/modules/generated/sklearn.linear_model.LogisticRegression.html). Show the model's training and test accuracy, and build a confusion matrix for each set. (Hint: the methods and functions required are $ \\texttt{.fit()} $, $\\texttt{.predict()}$, $\\texttt{confusion\\_matrix()}$, and $\\texttt{accuracy\\_score()}$."
   ]
  },
  {
   "cell_type": "markdown",
   "metadata": {
    "id": "JrPqXOjM_KTT"
   },
   "source": [
    "## Solution"
   ]
  },
  {
   "cell_type": "markdown",
   "metadata": {},
   "source": [
    "1. Note that as $x \\rightarrow -\\infty$, $\\sigma(x) \\rightarrow 0$ and as $x \\rightarrow \\infty$, $\\sigma(x) \\rightarrow 1$. Furthermore, the function is strictly increasing since the derivative is always positive. This means that $0 \\leq f(x) \\leq 1$ for any $x$! This makes the function very useful for our purposes.  "
   ]
  },
  {
   "cell_type": "code",
   "execution_count": 6,
   "metadata": {
    "colab": {
     "base_uri": "https://localhost:8080/"
    },
    "id": "czPv6MgAvoKN",
    "outputId": "7f6a43fa-d991-472a-d92a-37d0af794667"
   },
   "outputs": [
    {
     "name": "stdout",
     "output_type": "stream",
     "text": [
      "Training Confusion Matrix\n",
      "[[350  45]\n",
      " [ 90 129]]\n",
      "\n",
      "Training accuracy = 0.7801302931596091\n",
      "\n",
      "Testing Confusion Matrix\n",
      "[[87 18]\n",
      " [20 29]]\n",
      "\n",
      "Testing accuracy = 0.7532467532467533\n"
     ]
    }
   ],
   "source": [
    "# define the model\n",
    "model = LogisticRegression(penalty = 'none')\n",
    "# train the model\n",
    "model.fit(X_train, Y_train)\n",
    "# create the predictions\n",
    "Y_train_pred = model.predict(X_train)\n",
    "Y_test_pred = model.predict(X_test)\n",
    "# build the confusion matrices\n",
    "confusion_matrix_train = confusion_matrix(Y_train, Y_train_pred)\n",
    "confusion_matrix_test = confusion_matrix(Y_test, Y_test_pred)\n",
    "# calculate accuracies\n",
    "train_accuracy = accuracy_score(Y_train, Y_train_pred)\n",
    "test_accuracy = accuracy_score(Y_test, Y_test_pred)\n",
    "# display the results\n",
    "print('Training Confusion Matrix')\n",
    "print(confusion_matrix_train)\n",
    "print()\n",
    "print(f'Training accuracy = {train_accuracy}')\n",
    "print()\n",
    "print('Testing Confusion Matrix')\n",
    "print(confusion_matrix_test)\n",
    "print()\n",
    "print(f'Testing accuracy = {test_accuracy}')"
   ]
  },
  {
   "cell_type": "markdown",
   "metadata": {
    "id": "BCvHNIle66HT"
   },
   "source": [
    "## Excercise 2\n",
    "\n",
    "Regularisation happens when we add a penalty to the loss function. We do this to decrease the complexity of the model, in an attempt to stop the model from over-fitting. Ideally, this should lead to better generalisation. To be more precise, for L2 regulatisation we will now choose our parameters by minimising the modified loss function:\n",
    "$$\n",
    "\\hat{\\beta} = \\arg\\min_\\beta \\{ C \\cdot \\ell(\\beta) + \\frac{1}{2}\\beta^T \\beta \\}\n",
    "$$\n",
    "\n",
    "Note that the new penalisation means that $\\beta$ should be closer to zero (this is what we mean by 'a simpler model').\n",
    "\n",
    "Investigate the effect of L2 regulariastion. In particular, focus on the how the testing accuracy changes for different values of $C$. Create a plot that shows how $C$ varies, starting at $10^{-6}$ and ending at $10^{-2}$.\n",
    "\n",
    "1. What behaviour do you observe as you increase regularisation (that is, as $C$ becomes small)?\n",
    "\n",
    "2. From your investigation, choose the best regularisation constant. How does it compare with previous testing accuracy?\n",
    "\n",
    "3. For which values of $C$ can you recover your previous training accuracy? Can you explain why does this happen?"
   ]
  },
  {
   "cell_type": "markdown",
   "metadata": {
    "id": "r4yMFaxR98wr"
   },
   "source": [
    "## Solution"
   ]
  },
  {
   "cell_type": "markdown",
   "metadata": {
    "id": "dWUAbWC8_GKa"
   },
   "source": [
    "1. Our model will become too simple, and we will lose performance.\n",
    "\n",
    "2. It is likely there is some improvement, but it is not necesarily the case. Assess on an individual basis.\n",
    "\n",
    "3. We can recover the unregularised estimates for large enough $C$ values. This happens because the penalisation part of the loss will lose importance as $C$ increases."
   ]
  },
  {
   "cell_type": "code",
   "execution_count": 7,
   "metadata": {
    "colab": {
     "base_uri": "https://localhost:8080/",
     "height": 346
    },
    "id": "IdyH1TBvzcKw",
    "outputId": "8871c666-b19d-490d-9165-e878de05d340"
   },
   "outputs": [
    {
     "name": "stdout",
     "output_type": "stream",
     "text": [
      "Best test accuracy was achieved with C = 0.006039547738693467, giving an accuracy of 0.7792207792207793.\n",
      "Without regularisation, we achieved an accuracy of 0.7532467532467533.\n",
      "\n"
     ]
    },
    {
     "data": {
      "image/png": "[encoded data removed]",
      "text/plain": [
       "<Figure size 432x288 with 1 Axes>"
      ]
     },
     "metadata": {
      "needs_background": "light"
     },
     "output_type": "display_data"
    }
   ],
   "source": [
    "\n",
    "C_space = np.linspace(10e-6, 10e-2, 200)\n",
    "accuracies = []\n",
    "\n",
    "for C in C_space:\n",
    "  model = LogisticRegression(penalty = 'l2', C = C)\n",
    "  model.fit(X_train, Y_train)\n",
    "  Y_test_pred = model.predict(X_test)\n",
    "  accuracies.append(accuracy_score(Y_test, Y_test_pred))\n",
    "\n",
    "plt.plot(C_space, accuracies)\n",
    "plt.xlabel('C')\n",
    "plt.ylabel('Testing Accuracy')\n",
    "plt.title('Analysis of Regularisation')\n",
    "\n",
    "best_model = np.argmax(accuracies)\n",
    "best_accuracy = accuracies[best_model]\n",
    "best_C = C_space[best_model]\n",
    "\n",
    "print(f'Best test accuracy was achieved with C = {best_C}, giving an accuracy of {best_accuracy}.') \n",
    "print(f'Without regularisation, we achieved an accuracy of {test_accuracy}.')\n",
    "print()"
   ]
  },
  {
   "cell_type": "markdown",
   "metadata": {
    "id": "SWRSCSFf--br"
   },
   "source": [
    "# Probability Thresholds"
   ]
  },
  {
   "cell_type": "markdown",
   "metadata": {
    "id": "pv_JxY-R_n0r"
   },
   "source": [
    "Recall that we are not estimating $Y$ directly, but instead the probability of $Y = 1 | X$. So far, our classification has been based on the which class has the higher probability. In other words, we have been using the classifier:\n",
    "$$\n",
    "  \\hat{Y}(x) =\n",
    "    \\begin{cases}\n",
    "      0 & \\text{if } \\hat{p}(x) < 0.5 \\\\\n",
    "      1 & \\text{if } \\hat{p}(x) \\geq 0.5 \\\\\n",
    "    \\end{cases}       \n",
    "$$\n",
    "\n",
    "However, we must also consider that the probability threshold of 0.5 might not be optimal. Indeed, consider our current data-set. Let's say we were going to use our model to decide who should go see a doctor and possibly get preventive treatment. In this case, incorrectly predicting that someone will not have Diabetes, when they will, is very costly - the person might face severe health consequences. On the other hand, incorrectly saying someone will have Diabetes, when they won't, is not as bad because the doctor would be able to catch this, and we would just waste a little time. \n",
    "\n",
    "This is one of the greatest strengths of logistic regression. The way we define and train them, mean we obtain good uncertainty estimates, so that we might make risk assessments!"
   ]
  },
  {
   "cell_type": "markdown",
   "metadata": {
    "id": "jmizp5n_CZba"
   },
   "source": [
    "## Exercise 3\n",
    "\n",
    "1. Train a new logistic regression model, using the best regularisation constant you found in exercise 2.\n",
    "\n",
    "2. Build a new function which takes as inputs: your Logistic Regression model, a set of $X$ values in which to predict, and a probability threshold $T_p$. The function should return an array of predictions based on the new probability threshold. (Hint:  use the $\\texttt{predict\\_proba}$ method in $\\texttt{LogisticRegression}$)\n",
    "\n",
    "3. Investigate the effect of the probability threshold on the number of False Negatives and False Positives. Based on this analysis, what probability threshold would YOU choose? What kind of information would you want to make such a decision?"
   ]
  },
  {
   "cell_type": "markdown",
   "metadata": {
    "id": "tZDh0sosMEG6"
   },
   "source": [
    "## Solution"
   ]
  },
  {
   "cell_type": "markdown",
   "metadata": {
    "id": "zNOsZf4AMGJ_"
   },
   "source": [
    "For this solution, we will simply create two plot, showing how the FNR gets smaller as we decrease the threshold. We will show the FPR increasing as this happens. Overall, the question of choosing a threshold will depend on the specific situations, and how risk-averse the individual making the model is.\n",
    "\n",
    "In this particular case, we would seek to balance the risk of not treating people who will end up sick, and the risk of overwhelming the doctors which would treat them (by sending a lot of non-sick patients). "
   ]
  },
  {
   "cell_type": "code",
   "execution_count": 8,
   "metadata": {
    "colab": {
     "base_uri": "https://localhost:8080/",
     "height": 448
    },
    "id": "u95hKtPUEITK",
    "outputId": "324718bb-8ee3-424c-a1d8-4cbb949e6c94"
   },
   "outputs": [
    {
     "data": {
      "text/plain": [
       "<matplotlib.legend.Legend at 0x7fd463fc6d00>"
      ]
     },
     "execution_count": 8,
     "metadata": {},
     "output_type": "execute_result"
    },
    {
     "data": {
      "image/png": "[encoded data removed]",
      "text/plain": [
       "<Figure size 720x432 with 1 Axes>"
      ]
     },
     "metadata": {
      "needs_background": "light"
     },
     "output_type": "display_data"
    }
   ],
   "source": [
    "# define and train model\n",
    "model = LogisticRegression(penalty = 'l2', C = best_C)\n",
    "model.fit(X_train, Y_train)\n",
    "\n",
    "def predict_with_threshold(model, X, threshold):\n",
    "  # calculate the probabilites\n",
    "  probabilites = model.predict_proba(X)\n",
    "  # scikit returns the probabilities for each class. However, we only need the second column as there are only two classes\n",
    "  # and probabilites add up to one. In particular, the second column represents Pr(Y = 1 | X)\n",
    "  probabilites = probabilites[:, 1]\n",
    "  # build an array of boolean variables, checking where our probabilities are larger or equal to the threshold\n",
    "  boolean_threshold = (probabilites >= threshold)\n",
    "  # since our class labels are 1 and 0, we can simply transform the boolean variables by making them integers\n",
    "  predictions = boolean_threshold.astype(int)\n",
    "\n",
    "  return predictions\n",
    "\n",
    "# define threshold space, initialise lists\n",
    "thresholds = np.linspace(0, 1, 101)\n",
    "\n",
    "false_negatives = []\n",
    "false_positives = []\n",
    "\n",
    "# calculate number of true positives and negatives\n",
    "num_of_positives = np.sum(Y_test)\n",
    "num_of_negatives = len(Y_test) - num_of_positives\n",
    "\n",
    "for tp in thresholds:\n",
    "  # predict\n",
    "  Y_pred = predict_with_threshold(model, X_test, tp)\n",
    "  #calculate predictions\n",
    "  cm = confusion_matrix(Y_test, Y_pred)\n",
    "  # calculate false negative rate and false positive rate\n",
    "  fnr = cm[1, 0] / num_of_positives\n",
    "  fpr = cm[0, 1] / num_of_negatives\n",
    "  # append to lists\n",
    "  false_negatives.append(fnr)\n",
    "  false_positives.append(fpr)\n",
    "\n",
    "# create a plot to see how the rates change with the threshold\n",
    "fig, ax = plt.subplots(nrows=1, ncols=1)\n",
    "fig.set_figheight(6)\n",
    "fig.set_figwidth(10)\n",
    "fig.suptitle('Investigation of the FNR and FPR against Probability Threshold')\n",
    "\n",
    "ax.plot(thresholds, false_negatives, 'r', label = 'FNR')\n",
    "ax.plot(thresholds, false_positives, 'b', label = 'FPR')\n",
    "ax.set_ylabel('Performance Metrics')\n",
    "ax.set_xlabel('Probability Thresholds')\n",
    "ax.legend()"
   ]
  }
 ],
 "metadata": {
  "colab": {
   "name": "LogisticRegressionNotebook.ipynb",
   "provenance": []
  },
  "interpreter": {
   "hash": "d37abda7630e259e5026a5079657683a09f6e3d11473720762ebe7250c494840"
  },
  "kernelspec": {
   "display_name": "Python 3 (ipykernel)",
   "language": "python",
   "name": "python3"
  },
  "language_info": {
   "codemirror_mode": {
    "name": "ipython",
    "version": 3
   },
   "file_extension": ".py",
   "mimetype": "text/x-python",
   "name": "python",
   "nbconvert_exporter": "python",
   "pygments_lexer": "ipython3",
   "version": "3.11.8"
  }
 },
 "nbformat": 4,
 "nbformat_minor": 4
}
