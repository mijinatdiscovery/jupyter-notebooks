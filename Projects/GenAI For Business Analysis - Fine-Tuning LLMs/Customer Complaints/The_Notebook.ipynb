{
 "cells": [
  {
   "cell_type": "markdown",
   "metadata": {
    "id": "2AqPte8bet51"
   },
   "source": [
    "# Fine-tune GPT models using OpenAI API"
   ]
  },
  {
   "cell_type": "markdown",
   "metadata": {
    "id": "1Rp80dTGpsDD"
   },
   "source": [
    "### Task 1 - Set up the project environment"
   ]
  },
  {
   "cell_type": "markdown",
   "metadata": {
    "id": "qypdUNULptjB"
   },
   "source": [
    "Importing modules"
   ]
  },
  {
   "cell_type": "code",
   "execution_count": 3,
   "metadata": {
    "id": "YFmEp0r5T2eI"
   },
   "outputs": [],
   "source": [
    "import pandas as pd\n",
    "import os, time\n",
    "from openai import OpenAI\n",
    "import json\n",
    "import matplotlib.pyplot as plt"
   ]
  },
  {
   "cell_type": "markdown",
   "metadata": {
    "id": "XfVAcV_XqDja"
   },
   "source": [
    "Setting up the OpenAI API:\n",
    "\n",
    "* Prepare a .env file to store the OpenAI API key.\n",
    "* Uploading the .env file to our colab environment\n",
    "* Load the API key and setup the API"
   ]
  },
  {
   "cell_type": "code",
   "execution_count": 4,
   "metadata": {
    "id": "rbXC4QM4qCBe"
   },
   "outputs": [],
   "source": [
    "import os\n",
    "import openai\n",
    "from dotenv import load_dotenv, find_dotenv\n",
    "_ = load_dotenv(find_dotenv()) # read local .env file\n",
    "\n",
    "openai.api_key  = os.getenv('OPENAI_API_KEY')"
   ]
  },
  {
   "cell_type": "markdown",
   "metadata": {
    "id": "rWxipGQIpxH8"
   },
   "source": [
    "Creating OpenAI Client"
   ]
  },
  {
   "cell_type": "code",
   "execution_count": 8,
   "metadata": {
    "id": "nHj-RaA5p0WE"
   },
   "outputs": [
    {
     "data": {
      "text/plain": [
       "<openai.OpenAI at 0x136bba650>"
      ]
     },
     "execution_count": 8,
     "metadata": {},
     "output_type": "execute_result"
    }
   ],
   "source": [
    "client = OpenAI()\n",
    "client"
   ]
  },
  {
   "cell_type": "markdown",
   "metadata": {
    "id": "0r2XnfwnqTCK"
   },
   "source": [
    "### Task 2 - Prepare the training data"
   ]
  },
  {
   "cell_type": "markdown",
   "metadata": {
    "id": "-_Alc-CyuHmE"
   },
   "source": [
    "Loading the provided `Customer Complaints.csv`\n",
    "\n"
   ]
  },
  {
   "cell_type": "code",
   "execution_count": 5,
   "metadata": {
    "id": "jan2OKk5qW1J"
   },
   "outputs": [
    {
     "data": {
      "text/html": [
       "<div>\n",
       "<style scoped>\n",
       "    .dataframe tbody tr th:only-of-type {\n",
       "        vertical-align: middle;\n",
       "    }\n",
       "\n",
       "    .dataframe tbody tr th {\n",
       "        vertical-align: top;\n",
       "    }\n",
       "\n",
       "    .dataframe thead th {\n",
       "        text-align: right;\n",
       "    }\n",
       "</style>\n",
       "<table border=\"1\" class=\"dataframe\">\n",
       "  <thead>\n",
       "    <tr style=\"text-align: right;\">\n",
       "      <th></th>\n",
       "      <th>Complaints</th>\n",
       "      <th>Details</th>\n",
       "    </tr>\n",
       "  </thead>\n",
       "  <tbody>\n",
       "    <tr>\n",
       "      <th>0</th>\n",
       "      <td>Unreliable internet! Sick of constant outages...</td>\n",
       "      <td>{\"Topic\": \"Internet\", \"Problem\": \"Unreliable s...</td>\n",
       "    </tr>\n",
       "    <tr>\n",
       "      <th>1</th>\n",
       "      <td>TV signal keeps dropping during crucial momen...</td>\n",
       "      <td>{\"Topic\": \"TV\", \"Problem\": \"Signal dropout\", \"...</td>\n",
       "    </tr>\n",
       "    <tr>\n",
       "      <th>2</th>\n",
       "      <td>Phone line always crackling! Can't hear a thi...</td>\n",
       "      <td>{\"Topic\": \"Phone\", \"Problem\": \"Crackling line\"...</td>\n",
       "    </tr>\n",
       "    <tr>\n",
       "      <th>3</th>\n",
       "      <td>Ridiculous prices for such terrible service! ...</td>\n",
       "      <td>{\"Topic\": \"Billing\", \"Problem\": \"Overcharged\",...</td>\n",
       "    </tr>\n",
       "    <tr>\n",
       "      <th>4</th>\n",
       "      <td>Internet speed slower than a snail! Can't str...</td>\n",
       "      <td>{\"Topic\": \"Internet\", \"Problem\": \"Slow speed\",...</td>\n",
       "    </tr>\n",
       "    <tr>\n",
       "      <th>...</th>\n",
       "      <td>...</td>\n",
       "      <td>...</td>\n",
       "    </tr>\n",
       "    <tr>\n",
       "      <th>62</th>\n",
       "      <td>Poor call quality during international calls! ...</td>\n",
       "      <td>{\"Topic\": \"Phone\", \"Problem\": \"Poor call quali...</td>\n",
       "    </tr>\n",
       "    <tr>\n",
       "      <th>63</th>\n",
       "      <td>Incorrect charges on my bill every month! Unre...</td>\n",
       "      <td>{\"Topic\": \"Billing\", \"Problem\": \"Incorrect cha...</td>\n",
       "    </tr>\n",
       "    <tr>\n",
       "      <th>64</th>\n",
       "      <td>This service is terrible! Can't believe I'm pa...</td>\n",
       "      <td>{\"Topic\": \"PulseNet General\", \"Problem\": \"Gene...</td>\n",
       "    </tr>\n",
       "    <tr>\n",
       "      <th>65</th>\n",
       "      <td>This product is a complete waste of money! Dis...</td>\n",
       "      <td>{\"Topic\": \"PulseNet General\", \"Problem\": \"Gene...</td>\n",
       "    </tr>\n",
       "    <tr>\n",
       "      <th>66</th>\n",
       "      <td>I am utterly fed up with this!</td>\n",
       "      <td>{\"Topic\": \"PulseNet General\", \"Problem\": \"Gene...</td>\n",
       "    </tr>\n",
       "  </tbody>\n",
       "</table>\n",
       "<p>67 rows × 2 columns</p>\n",
       "</div>"
      ],
      "text/plain": [
       "                                           Complaints  \\\n",
       "0    Unreliable internet! Sick of constant outages...   \n",
       "1    TV signal keeps dropping during crucial momen...   \n",
       "2    Phone line always crackling! Can't hear a thi...   \n",
       "3    Ridiculous prices for such terrible service! ...   \n",
       "4    Internet speed slower than a snail! Can't str...   \n",
       "..                                                ...   \n",
       "62  Poor call quality during international calls! ...   \n",
       "63  Incorrect charges on my bill every month! Unre...   \n",
       "64  This service is terrible! Can't believe I'm pa...   \n",
       "65  This product is a complete waste of money! Dis...   \n",
       "66                     I am utterly fed up with this!   \n",
       "\n",
       "                                              Details  \n",
       "0   {\"Topic\": \"Internet\", \"Problem\": \"Unreliable s...  \n",
       "1   {\"Topic\": \"TV\", \"Problem\": \"Signal dropout\", \"...  \n",
       "2   {\"Topic\": \"Phone\", \"Problem\": \"Crackling line\"...  \n",
       "3   {\"Topic\": \"Billing\", \"Problem\": \"Overcharged\",...  \n",
       "4   {\"Topic\": \"Internet\", \"Problem\": \"Slow speed\",...  \n",
       "..                                                ...  \n",
       "62  {\"Topic\": \"Phone\", \"Problem\": \"Poor call quali...  \n",
       "63  {\"Topic\": \"Billing\", \"Problem\": \"Incorrect cha...  \n",
       "64  {\"Topic\": \"PulseNet General\", \"Problem\": \"Gene...  \n",
       "65  {\"Topic\": \"PulseNet General\", \"Problem\": \"Gene...  \n",
       "66  {\"Topic\": \"PulseNet General\", \"Problem\": \"Gene...  \n",
       "\n",
       "[67 rows x 2 columns]"
      ]
     },
     "execution_count": 5,
     "metadata": {},
     "output_type": "execute_result"
    }
   ],
   "source": [
    "training_data = pd.read_csv('Customer Complaints.csv')\n",
    "training_data"
   ]
  },
  {
   "cell_type": "markdown",
   "metadata": {
    "id": "uIK863G-qvMN"
   },
   "source": [
    "**Converting the Complaints records to json**\n",
    "\n",
    "To be able to use the data for the fine-tuning purpose, we first need to convert each row of the dataframe into the following format:\n",
    "\n",
    "<pre>\n",
    "<code>\n",
    "{\n",
    "  <span style=\"color: blue;\">\"messages\"</span>: [\n",
    "    {\n",
    "      <span style=\"color: blue;\">\"role\"</span>: <span style=\"color: red;\">\"system\"</span>,\n",
    "      <span style=\"color: blue;\">\"content\"</span>: \"<span style=\"color: green;\">Providing context about the user's prompt.\n",
    "                  It may include information about the task,\n",
    "                  instructions, or background details relevant\n",
    "                  to the conversation.</span>\"\n",
    "    },\n",
    "    {\n",
    "      <span style=\"color: blue;\">\"role\"</span>: <span style=\"color: red;\">\"user\"</span>,\n",
    "      <span style=\"color: blue;\">\"content\"</span>: \"<span style=\"color: green;\">the prompt or input provided by the user,\n",
    "                  which typically initiates the conversation with the assistant.</span>\"\n",
    "    },\n",
    "    {\n",
    "      <span style=\"color: blue;\">\"role\"</span>: <span style=\"color: red;\">\"assistant\"</span>,\n",
    "      <span style=\"color: blue;\">\"content\"</span>: \"<span style=\"color: green;\">The desired response or output generated by\n",
    "                  the assistant in response to the user's prompt.</span>\"\n",
    "    }\n",
    "  ]\n",
    "}\n",
    "</code>\n",
    "</pre>\n"
   ]
  },
  {
   "cell_type": "markdown",
   "metadata": {
    "id": "fWVCfuvRjdXa"
   },
   "source": [
    "Let's define a method that get's a row of the dataframe and convert it into the json format"
   ]
  },
  {
   "cell_type": "code",
   "execution_count": 12,
   "metadata": {
    "id": "-tHnvRamq5NK"
   },
   "outputs": [],
   "source": [
    "def save_as_json(row):\n",
    "\n",
    "  system_content = \"\"\"\n",
    "      Given a customer complaint text, extract and return the following information in json (dict) format:\n",
    "      - Topic: The product/department that the customer has a complaint about.\n",
    "      - Problem: A two or three-word description of what exactly the problem is.\n",
    "      - Customer_Dissatisfaction_Index: is a number between 0 and 100 showing\n",
    "             how angry the customer is about the problem.\n",
    "  \"\"\"\n",
    "\n",
    "  formatted_data = {\n",
    "        \"messages\": [\n",
    "            {\"role\": \"system\", \"content\": system_content},\n",
    "            {\"role\": \"user\", \"content\": row.Complaints},\n",
    "            {\"role\": \"assistant\", \"content\": row.Details}\n",
    "        ]\n",
    "      }\n",
    "\n",
    "  with open(\"training_data.json\", \"a\") as json_file:\n",
    "        json.dump(formatted_data, json_file)\n",
    "        json_file.write(\"\\n\")"
   ]
  },
  {
   "cell_type": "markdown",
   "metadata": {
    "id": "K3haPgzI-ClF"
   },
   "source": [
    "Now let's use of this method to generate the `training_data.json`"
   ]
  },
  {
   "cell_type": "code",
   "execution_count": 13,
   "metadata": {
    "id": "LNOMxwSX8dE4"
   },
   "outputs": [],
   "source": [
    "for index, row in training_data.iterrows():\n",
    "    save_as_json(row)"
   ]
  },
  {
   "cell_type": "markdown",
   "metadata": {
    "id": "Jo9HFdW0jput"
   },
   "source": [
    "### Task 3 - Fine-tune GPT 3.5 based on our training data"
   ]
  },
  {
   "cell_type": "markdown",
   "metadata": {
    "id": "h4TMhzSNj4hH"
   },
   "source": [
    "Let's import the json file we prepared as our training data"
   ]
  },
  {
   "cell_type": "code",
   "execution_count": 14,
   "metadata": {
    "id": "ExJ2cRU5-XtH"
   },
   "outputs": [
    {
     "data": {
      "text/plain": [
       "FileObject(id='file-aliSeftB55RGy4tLP4QrjNCI', bytes=46722, created_at=1721304360, filename='training_data.json', object='file', purpose='fine-tune', status='processed', status_details=None)"
      ]
     },
     "execution_count": 14,
     "metadata": {},
     "output_type": "execute_result"
    }
   ],
   "source": [
    "data_file = client.files.create(\n",
    "    file = open('training_data.json', 'rb'),\n",
    "    purpose = 'fine-tune'\n",
    ")\n",
    "data_file"
   ]
  },
  {
   "cell_type": "markdown",
   "metadata": {
    "id": "TiBcO3I0kIU5"
   },
   "source": [
    "Create the Fine Tuning Job"
   ]
  },
  {
   "cell_type": "code",
   "execution_count": 22,
   "metadata": {
    "id": "BXJB348zkMSx"
   },
   "outputs": [
    {
     "data": {
      "text/plain": [
       "FineTuningJob(id='ftjob-UmExX9XoglgCulfC5aAO1DKf', created_at=1721644026, error=Error(code=None, message=None, param=None), fine_tuned_model=None, finished_at=None, hyperparameters=Hyperparameters(n_epochs='auto', batch_size='auto', learning_rate_multiplier='auto'), model='gpt-3.5-turbo-0125', object='fine_tuning.job', organization_id='org-rN10AqMHpRsnJK7lOtVLObPR', result_files=[], seed=62567193, status='validating_files', trained_tokens=None, training_file='file-aliSeftB55RGy4tLP4QrjNCI', validation_file=None, estimated_finish=None, integrations=[], user_provided_suffix=None)"
      ]
     },
     "execution_count": 22,
     "metadata": {},
     "output_type": "execute_result"
    }
   ],
   "source": [
    "fine_tuning_job = client.fine_tuning.jobs.create(\n",
    "    training_file = data_file.id,\n",
    "    model = 'gpt-3.5-turbo',\n",
    "    hyperparameters = {\n",
    "        \"n_epochs\": 'auto'\n",
    "    }\n",
    ")\n",
    "fine_tuning_job"
   ]
  },
  {
   "cell_type": "markdown",
   "metadata": {
    "id": "u7XWcO_7kzY6"
   },
   "source": [
    "Let's retrieve the state of the fine-tune"
   ]
  },
  {
   "cell_type": "code",
   "execution_count": 24,
   "metadata": {
    "id": "hpbHjWu3AS4k"
   },
   "outputs": [
    {
     "name": "stdout",
     "output_type": "stream",
     "text": [
      "queued\n",
      "queued\n",
      "queued\n",
      "queued\n",
      "queued\n",
      "queued\n",
      "queued\n",
      "queued\n",
      "queued\n",
      "queued\n",
      "queued\n",
      "queued\n",
      "queued\n",
      "queued\n",
      "queued\n",
      "queued\n",
      "queued\n",
      "queued\n",
      "queued\n",
      "queued\n",
      "queued\n",
      "queued\n",
      "queued\n",
      "queued\n",
      "queued\n",
      "queued\n",
      "queued\n",
      "queued\n",
      "queued\n",
      "queued\n",
      "queued\n",
      "queued\n",
      "queued\n",
      "queued\n",
      "queued\n",
      "queued\n",
      "queued\n",
      "queued\n",
      "queued\n",
      "queued\n",
      "queued\n",
      "queued\n",
      "queued\n",
      "queued\n",
      "queued\n",
      "queued\n",
      "queued\n",
      "queued\n",
      "queued\n",
      "queued\n",
      "queued\n",
      "queued\n",
      "queued\n",
      "queued\n",
      "queued\n",
      "queued\n",
      "queued\n",
      "queued\n",
      "queued\n",
      "queued\n",
      "queued\n",
      "queued\n",
      "queued\n",
      "queued\n",
      "queued\n",
      "queued\n",
      "queued\n",
      "queued\n",
      "queued\n",
      "queued\n",
      "queued\n",
      "queued\n",
      "queued\n",
      "queued\n",
      "queued\n",
      "queued\n",
      "queued\n",
      "queued\n",
      "queued\n",
      "queued\n",
      "queued\n",
      "queued\n",
      "queued\n",
      "queued\n",
      "queued\n",
      "queued\n",
      "queued\n",
      "queued\n",
      "queued\n",
      "queued\n",
      "queued\n",
      "queued\n",
      "queued\n",
      "queued\n",
      "queued\n",
      "queued\n",
      "queued\n",
      "queued\n",
      "queued\n",
      "queued\n",
      "queued\n",
      "queued\n",
      "queued\n",
      "queued\n",
      "queued\n",
      "queued\n",
      "queued\n",
      "queued\n",
      "queued\n",
      "queued\n",
      "queued\n",
      "queued\n",
      "queued\n",
      "queued\n",
      "queued\n",
      "queued\n",
      "queued\n",
      "queued\n",
      "queued\n",
      "queued\n",
      "queued\n",
      "queued\n",
      "queued\n",
      "queued\n",
      "queued\n",
      "queued\n",
      "queued\n",
      "queued\n",
      "queued\n",
      "queued\n",
      "queued\n",
      "queued\n",
      "queued\n",
      "queued\n",
      "queued\n",
      "queued\n",
      "queued\n",
      "queued\n",
      "queued\n",
      "queued\n",
      "queued\n",
      "queued\n",
      "queued\n",
      "queued\n",
      "queued\n",
      "queued\n",
      "queued\n",
      "queued\n",
      "queued\n",
      "queued\n",
      "queued\n",
      "queued\n",
      "queued\n",
      "queued\n",
      "queued\n",
      "queued\n",
      "queued\n",
      "queued\n",
      "queued\n",
      "queued\n",
      "queued\n",
      "queued\n",
      "queued\n",
      "queued\n",
      "queued\n",
      "queued\n",
      "queued\n",
      "queued\n",
      "queued\n",
      "queued\n",
      "queued\n",
      "queued\n",
      "queued\n",
      "queued\n",
      "queued\n",
      "queued\n",
      "queued\n",
      "queued\n",
      "queued\n",
      "queued\n",
      "queued\n",
      "queued\n",
      "queued\n",
      "queued\n",
      "queued\n",
      "queued\n",
      "running\n",
      "running\n",
      "running\n",
      "running\n",
      "running\n",
      "running\n",
      "running\n",
      "running\n",
      "running\n",
      "running\n",
      "running\n",
      "running\n",
      "running\n",
      "running\n",
      "running\n",
      "running\n",
      "running\n",
      "running\n",
      "running\n",
      "running\n",
      "running\n",
      "running\n",
      "running\n",
      "running\n",
      "running\n",
      "running\n",
      "running\n",
      "running\n",
      "running\n",
      "running\n",
      "running\n",
      "running\n",
      "running\n",
      "running\n",
      "running\n",
      "running\n",
      "running\n",
      "running\n",
      "running\n",
      "running\n",
      "running\n",
      "running\n",
      "running\n",
      "running\n",
      "running\n",
      "running\n",
      "running\n",
      "running\n",
      "running\n",
      "running\n",
      "running\n",
      "running\n",
      "running\n",
      "running\n",
      "running\n",
      "running\n",
      "running\n",
      "running\n",
      "running\n",
      "running\n",
      "running\n",
      "running\n",
      "running\n",
      "running\n",
      "running\n",
      "running\n",
      "running\n",
      "running\n",
      "running\n",
      "running\n",
      "running\n",
      "running\n",
      "running\n",
      "running\n",
      "running\n",
      "running\n",
      "running\n",
      "running\n",
      "running\n",
      "running\n",
      "running\n",
      "running\n",
      "running\n",
      "running\n",
      "running\n",
      "running\n",
      "running\n",
      "running\n",
      "running\n",
      "running\n",
      "running\n",
      "running\n",
      "running\n",
      "running\n",
      "running\n",
      "running\n",
      "running\n",
      "running\n",
      "running\n",
      "running\n",
      "running\n",
      "running\n",
      "running\n",
      "running\n",
      "running\n",
      "running\n",
      "running\n",
      "running\n",
      "running\n",
      "running\n",
      "running\n",
      "running\n",
      "running\n",
      "running\n",
      "running\n",
      "running\n",
      "running\n",
      "running\n",
      "running\n",
      "running\n",
      "running\n",
      "running\n",
      "running\n",
      "running\n",
      "running\n",
      "running\n",
      "running\n",
      "running\n",
      "running\n",
      "running\n",
      "running\n",
      "running\n",
      "running\n",
      "running\n",
      "running\n",
      "running\n",
      "running\n",
      "running\n",
      "running\n",
      "running\n",
      "running\n",
      "running\n",
      "running\n",
      "running\n",
      "running\n",
      "running\n",
      "running\n",
      "running\n",
      "running\n",
      "running\n",
      "running\n",
      "running\n",
      "running\n",
      "running\n",
      "running\n",
      "running\n",
      "running\n",
      "running\n",
      "running\n",
      "running\n",
      "running\n",
      "running\n",
      "running\n",
      "running\n",
      "running\n",
      "running\n",
      "running\n",
      "running\n",
      "running\n",
      "running\n",
      "running\n",
      "running\n",
      "running\n",
      "running\n",
      "running\n",
      "running\n",
      "running\n",
      "running\n",
      "running\n",
      "running\n",
      "running\n",
      "running\n",
      "running\n",
      "running\n",
      "running\n",
      "running\n",
      "running\n",
      "running\n",
      "running\n",
      "running\n",
      "running\n",
      "running\n",
      "running\n",
      "running\n",
      "running\n",
      "running\n",
      "running\n",
      "running\n",
      "running\n",
      "running\n",
      "running\n",
      "running\n",
      "running\n",
      "running\n",
      "running\n",
      "running\n",
      "running\n",
      "running\n",
      "running\n",
      "running\n",
      "running\n",
      "running\n",
      "running\n",
      "running\n",
      "running\n",
      "running\n",
      "running\n",
      "running\n",
      "running\n",
      "running\n",
      "running\n",
      "running\n",
      "running\n",
      "running\n",
      "running\n",
      "running\n",
      "running\n",
      "running\n",
      "running\n",
      "running\n",
      "running\n",
      "running\n",
      "running\n",
      "running\n",
      "running\n",
      "running\n",
      "running\n",
      "running\n",
      "running\n",
      "running\n",
      "running\n",
      "running\n",
      "running\n",
      "running\n",
      "running\n",
      "running\n",
      "running\n",
      "running\n",
      "running\n",
      "running\n",
      "running\n",
      "running\n",
      "running\n",
      "running\n",
      "running\n",
      "running\n",
      "running\n",
      "running\n",
      "running\n",
      "running\n",
      "running\n",
      "running\n",
      "running\n",
      "running\n",
      "running\n",
      "running\n",
      "running\n",
      "running\n",
      "running\n",
      "running\n",
      "running\n",
      "running\n",
      "running\n",
      "running\n",
      "running\n",
      "running\n",
      "running\n",
      "running\n",
      "running\n",
      "running\n",
      "running\n",
      "running\n",
      "running\n",
      "running\n",
      "succeeded\n"
     ]
    }
   ],
   "source": [
    "while True:\n",
    "    time.sleep(2)\n",
    "    retrieved_job = client.fine_tuning.jobs.retrieve(fine_tuning_job.id)\n",
    "    status = retrieved_job.status\n",
    "    print(status)\n",
    "    if(status == \"succeeded\"):\n",
    "        break"
   ]
  },
  {
   "cell_type": "markdown",
   "metadata": {
    "id": "4XB-sFc3kO4A"
   },
   "source": [
    "### Task 4 - Evaluate model"
   ]
  },
  {
   "cell_type": "markdown",
   "metadata": {
    "id": "p_3bNsW3k_eR"
   },
   "source": [
    "Let's retrieve the event messages to check out the learning process of our fine-tuning job."
   ]
  },
  {
   "cell_type": "code",
   "execution_count": 27,
   "metadata": {
    "id": "O2bif68aIEGJ"
   },
   "outputs": [
    {
     "name": "stdout",
     "output_type": "stream",
     "text": [
      "The job has successfully completed\n",
      "New fine-tuned model created: ft:gpt-3.5-turbo-0125:personal::9nkp8lR6\n",
      "Checkpoint created at step 134 with Snapshot ID: ft:gpt-3.5-turbo-0125:personal::9nkp85aD:ckpt-step-134\n",
      "Checkpoint created at step 67 with Snapshot ID: ft:gpt-3.5-turbo-0125:personal::9nkp8zkM:ckpt-step-67\n",
      "Step 201/201: training loss=0.00\n",
      "Step 200/201: training loss=0.05\n",
      "Step 199/201: training loss=0.07\n",
      "Step 198/201: training loss=0.07\n",
      "Step 197/201: training loss=0.02\n",
      "Step 196/201: training loss=0.09\n",
      "Step 195/201: training loss=0.04\n",
      "Step 194/201: training loss=0.40\n",
      "Step 193/201: training loss=0.03\n",
      "Step 192/201: training loss=0.00\n",
      "Step 191/201: training loss=0.02\n",
      "Step 190/201: training loss=0.01\n",
      "Step 189/201: training loss=0.11\n",
      "Step 188/201: training loss=0.10\n",
      "Step 187/201: training loss=0.01\n",
      "Step 186/201: training loss=0.11\n",
      "Step 185/201: training loss=0.03\n",
      "Step 184/201: training loss=0.02\n",
      "Step 183/201: training loss=0.18\n",
      "Step 182/201: training loss=0.05\n",
      "Step 181/201: training loss=0.04\n",
      "Step 180/201: training loss=0.33\n",
      "Step 179/201: training loss=0.00\n",
      "Step 178/201: training loss=0.14\n",
      "Step 177/201: training loss=0.00\n",
      "Step 176/201: training loss=0.04\n",
      "Step 175/201: training loss=0.10\n",
      "Step 174/201: training loss=0.01\n",
      "Step 173/201: training loss=0.02\n",
      "Step 172/201: training loss=0.02\n",
      "Step 171/201: training loss=0.06\n",
      "Step 170/201: training loss=0.10\n",
      "Step 169/201: training loss=0.18\n",
      "Step 168/201: training loss=0.02\n",
      "Step 167/201: training loss=0.04\n",
      "Step 166/201: training loss=0.09\n",
      "Step 165/201: training loss=0.01\n",
      "Step 164/201: training loss=0.06\n",
      "Step 163/201: training loss=0.07\n",
      "Step 162/201: training loss=0.04\n",
      "Step 161/201: training loss=0.03\n",
      "Step 160/201: training loss=0.06\n",
      "Step 159/201: training loss=0.02\n",
      "Step 158/201: training loss=0.08\n",
      "Step 157/201: training loss=0.01\n",
      "Step 156/201: training loss=0.00\n",
      "Step 155/201: training loss=0.07\n",
      "Step 154/201: training loss=0.07\n",
      "Step 153/201: training loss=0.06\n",
      "Step 152/201: training loss=0.31\n",
      "Step 151/201: training loss=0.08\n",
      "Step 150/201: training loss=0.00\n",
      "Step 149/201: training loss=0.02\n",
      "Step 148/201: training loss=0.05\n",
      "Step 147/201: training loss=0.03\n",
      "Step 146/201: training loss=0.05\n",
      "Step 145/201: training loss=0.10\n",
      "Step 144/201: training loss=0.00\n",
      "Step 143/201: training loss=0.11\n",
      "Step 142/201: training loss=0.23\n",
      "Step 141/201: training loss=0.03\n",
      "Step 140/201: training loss=0.06\n",
      "Step 139/201: training loss=0.04\n",
      "Step 138/201: training loss=0.04\n",
      "Step 137/201: training loss=0.00\n",
      "Step 136/201: training loss=0.10\n",
      "Step 135/201: training loss=0.00\n",
      "Step 134/201: training loss=0.08\n",
      "Step 133/201: training loss=0.07\n",
      "Step 132/201: training loss=0.08\n",
      "Step 131/201: training loss=0.06\n",
      "Step 130/201: training loss=0.16\n",
      "Step 129/201: training loss=0.11\n",
      "Step 128/201: training loss=0.00\n",
      "Step 127/201: training loss=0.10\n",
      "Step 126/201: training loss=0.00\n",
      "Step 125/201: training loss=0.03\n",
      "Step 124/201: training loss=0.00\n",
      "Step 123/201: training loss=0.04\n",
      "Step 122/201: training loss=0.00\n",
      "Step 121/201: training loss=0.13\n",
      "Step 120/201: training loss=0.07\n",
      "Step 119/201: training loss=0.12\n",
      "Step 118/201: training loss=0.09\n",
      "Step 117/201: training loss=0.11\n",
      "Step 116/201: training loss=0.61\n",
      "Step 115/201: training loss=0.16\n",
      "Step 114/201: training loss=0.19\n",
      "Step 113/201: training loss=0.23\n",
      "Step 112/201: training loss=0.15\n",
      "Step 111/201: training loss=0.03\n",
      "Step 110/201: training loss=0.05\n",
      "Step 109/201: training loss=0.07\n",
      "Step 108/201: training loss=0.04\n",
      "Step 107/201: training loss=0.04\n",
      "Step 106/201: training loss=0.21\n"
     ]
    }
   ],
   "source": [
    "events = list(client.fine_tuning.jobs.list_events(fine_tuning_job_id = retrieved_job.id, limit = 100).data)\n",
    "for e in events:\n",
    "    print(e.message)"
   ]
  },
  {
   "cell_type": "markdown",
   "metadata": {
    "id": "Pe3jUJJjyeO1"
   },
   "source": [
    "Let's extract the training loss in each learning step"
   ]
  },
  {
   "cell_type": "code",
   "execution_count": 28,
   "metadata": {
    "id": "oqhDoVBNzW_w"
   },
   "outputs": [
    {
     "name": "stdout",
     "output_type": "stream",
     "text": [
      "[201, 200, 199, 198, 197, 196, 195, 194, 193, 192, 191, 190, 189, 188, 187, 186, 185, 184, 183, 182, 181, 180, 179, 178, 177, 176, 175, 174, 173, 172, 171, 170, 169, 168, 167, 166, 165, 164, 163, 162, 161, 160, 159, 158, 157, 156, 155, 154, 153, 152, 151, 150, 149, 148, 147, 146, 145, 144, 143, 142, 141, 140, 139, 138, 137, 136, 135, 134, 133, 132, 131, 130, 129, 128, 127, 126, 125, 124, 123, 122, 121, 120, 119, 118, 117, 116, 115, 114, 113, 112, 111, 110, 109, 108, 107, 106]\n",
      "[2.543131586207892e-06, 0.045060157775878906, 0.06539931893348694, 0.07155510038137436, 0.02300739288330078, 0.0867139995098114, 0.03795909881591797, 0.401976078748703, 0.03306274488568306, 2.896344312830479e-06, 0.022910842671990395, 0.01399619784206152, 0.10599727928638458, 0.1035323366522789, 0.012971030548214912, 0.11343871057033539, 0.029561996459960938, 0.024425726383924484, 0.17811334133148193, 0.05128234997391701, 0.04436187818646431, 0.32601577043533325, 3.955982265324565e-06, 0.13687437772750854, 6.6403990786056966e-06, 0.03738052397966385, 0.10080968588590622, 0.013551848009228706, 0.022647928446531296, 0.02260303497314453, 0.05621182546019554, 0.10437484830617905, 0.18283604085445404, 0.017450878396630287, 0.04089795798063278, 0.09307044744491577, 0.01359764114022255, 0.05777999758720398, 0.06533997505903244, 0.035688966512680054, 0.03302574157714844, 0.060776956379413605, 0.01605216972529888, 0.0771482065320015, 0.01451851800084114, 1.4552363609254826e-05, 0.06530871987342834, 0.06916717439889908, 0.05690046399831772, 0.3051512837409973, 0.07531415671110153, 3.023500721610617e-05, 0.01602187566459179, 0.05196945741772652, 0.02759082429111004, 0.04580923169851303, 0.10325813293457031, 5.8633308071875945e-05, 0.107745461165905, 0.2257101982831955, 0.027802657335996628, 0.060989804565906525, 0.04464142024517059, 0.04497241973876953, 0.0002870913012884557, 0.10038429498672485, 0.003162525361403823, 0.07787217199802399, 0.07171475142240524, 0.08121238648891449, 0.055130768567323685, 0.15661579370498657, 0.10918837040662766, 0.0012348316377028823, 0.0984637662768364, 0.0013285742606967688, 0.02960689179599285, 0.002105995547026396, 0.04072343558073044, 0.002623805310577154, 0.13454295694828033, 0.07214384526014328, 0.11656112968921661, 0.09112664312124252, 0.11318451166152954, 0.6125234961509705, 0.1582811176776886, 0.19219836592674255, 0.23213812708854675, 0.15020759403705597, 0.028741689398884773, 0.04896354675292969, 0.07231422513723373, 0.03930670768022537, 0.0353754423558712, 0.21107681095600128]\n"
     ]
    }
   ],
   "source": [
    "steps = []\n",
    "train_loss = []\n",
    "\n",
    "for e in events:\n",
    "    if e.data:\n",
    "        steps.append(e.data['step'])\n",
    "        train_loss.append(e.data['train_loss'])\n",
    "print(steps)\n",
    "print(train_loss)"
   ]
  },
  {
   "cell_type": "markdown",
   "metadata": {
    "id": "iiiJIUuq2W4D"
   },
   "source": [
    "Use a line chart to visualize the train_loss in each step"
   ]
  },
  {
   "cell_type": "code",
   "execution_count": 31,
   "metadata": {
    "id": "EMRvEd-F2bLO"
   },
   "outputs": [
    {
     "data": {
      "text/plain": [
       "[<matplotlib.lines.Line2D at 0x15be5b3d0>]"
      ]
     },
     "execution_count": 31,
     "metadata": {},
     "output_type": "execute_result"
    },
    {
     "data": {
      "image/png": "[encoded data removed]",
      "text/plain": [
       "<Figure size 640x480 with 1 Axes>"
      ]
     },
     "metadata": {},
     "output_type": "display_data"
    }
   ],
   "source": [
    "plt.plot(steps, train_loss, marker = 'o', linestyle = '-')"
   ]
  },
  {
   "cell_type": "markdown",
   "metadata": {
    "id": "8lGyZnvk25q9"
   },
   "source": [
    "### Task 5 - Deploy our model"
   ]
  },
  {
   "cell_type": "markdown",
   "metadata": {
    "id": "EYljL-wH42ce"
   },
   "source": [
    "Let's take a look at `retrieved_job` again"
   ]
  },
  {
   "cell_type": "code",
   "execution_count": 32,
   "metadata": {
    "id": "q4ChDCWo3H85"
   },
   "outputs": [],
   "source": [
    "fine_tuned_model = retrieved_job.fine_tuned_model"
   ]
  },
  {
   "cell_type": "markdown",
   "metadata": {
    "id": "nLLfuwC4-h9K"
   },
   "source": [
    "Defining a method to extract information from a given user complaint using a specific LLM and return the results."
   ]
  },
  {
   "cell_type": "code",
   "execution_count": 33,
   "metadata": {
    "id": "P3_99_Hf5CV1"
   },
   "outputs": [],
   "source": [
    "def extract_details(user_complaint, model_name):\n",
    "    \"\"\"\n",
    "    This function extracts information from a given user complaint using a specific LLM (Large Language Model).\n",
    "\n",
    "    Parameters:\n",
    "    user_complaint (str): The text of the user's complaint.\n",
    "    model_name (str): The name of the specific LLM model to use for extraction.\n",
    "    \"\"\"\n",
    "\n",
    "    system_content = \"\"\"\n",
    "        Given a customer complaint text, extract and return the following information in JSON (dict) format:\n",
    "        - Topic\n",
    "        - Problem\n",
    "        - Customer_Dissatisfaction_Index\n",
    "    \"\"\"\n",
    "\n",
    "    # Generate a response using the specified model and the user's complaint\n",
    "    response = client.chat.completions.create(\n",
    "        model = model_name,\n",
    "        messages=[\n",
    "            {\"role\": \"system\", \"content\": system_content},  # System content explaining the expected output\n",
    "            {\"role\": \"user\", \"content\": user_complaint}  # User's complaint passed as content\n",
    "        ]\n",
    "    )\n",
    "\n",
    "    # Return the content of the generated response\n",
    "    return response.choices[0].message.content\n"
   ]
  },
  {
   "cell_type": "markdown",
   "metadata": {
    "id": "zE_O2zAwplof"
   },
   "source": [
    "Let's use our fine-tuned model to extract the details for the following user complaint:\n",
    "\n",
    "*TV channels keep disappearing from my subscription! What's going on? Extremely annoyed with this service!*"
   ]
  },
  {
   "cell_type": "code",
   "execution_count": 35,
   "metadata": {
    "id": "vD1dEjnzWTuw"
   },
   "outputs": [
    {
     "data": {
      "text/plain": [
       "'{\"Topic\": \"TV\", \"Problem\": \"Channels disappearing\", \"Customer_Dissatisfaction_Index\": 5}'"
      ]
     },
     "execution_count": 35,
     "metadata": {},
     "output_type": "execute_result"
    }
   ],
   "source": [
    "complaint = \"TV channels keep disappearing from my subscription! What's going on? Extremely annoyed with this service!\"\n",
    "extract_details(complaint, fine_tuned_model)"
   ]
  },
  {
   "cell_type": "markdown",
   "metadata": {
    "id": "LJNgLZoS6-gw"
   },
   "source": [
    "Let's test our `GPT-4` model with the same user complaint"
   ]
  },
  {
   "cell_type": "code",
   "execution_count": 36,
   "metadata": {
    "id": "G2XBuw0N47AC"
   },
   "outputs": [
    {
     "data": {
      "text/plain": [
       "'{\\n  \"Topic\": \"TV Service\",\\n  \"Problem\": \"TV channels disappearing from subscription\",\\n  \"Customer_Dissatisfaction_Index\": \"High\"\\n}'"
      ]
     },
     "execution_count": 36,
     "metadata": {},
     "output_type": "execute_result"
    }
   ],
   "source": [
    "extract_details(complaint, 'gpt-4')"
   ]
  },
  {
   "cell_type": "markdown",
   "metadata": {
    "id": "J3xZBAUitpVq"
   },
   "source": [
    "Let's try for the following complaint:\n",
    "\n",
    "*Line is down! It is really annoying!*"
   ]
  },
  {
   "cell_type": "code",
   "execution_count": 37,
   "metadata": {
    "id": "I3O6HzK_ttZ7"
   },
   "outputs": [
    {
     "data": {
      "text/plain": [
       "'{\"Topic\": \"Internet\", \"Problem\": \"Line down\", \"Customer_Dissatisfaction_Index\": 10}'"
      ]
     },
     "execution_count": 37,
     "metadata": {},
     "output_type": "execute_result"
    }
   ],
   "source": [
    "complaint = \"Line is down! It is really annoying!\"\n",
    "extract_details(complaint, fine_tuned_model)"
   ]
  },
  {
   "cell_type": "markdown",
   "metadata": {
    "id": "W4zeLRZfuNmS"
   },
   "source": [
    "Now let's compare the results from GPT-4"
   ]
  },
  {
   "cell_type": "code",
   "execution_count": 38,
   "metadata": {
    "id": "6ubUkjXXuQ8X"
   },
   "outputs": [
    {
     "data": {
      "text/plain": [
       "'{\\n  \"Topic\": \"Service\",\\n  \"Problem\": \"Line is down\",\\n  \"Customer_Dissatisfaction_Index\": \"High\"\\n}'"
      ]
     },
     "execution_count": 38,
     "metadata": {},
     "output_type": "execute_result"
    }
   ],
   "source": [
    "extract_details(complaint, 'gpt-4')"
   ]
  },
  {
   "cell_type": "markdown",
   "metadata": {
    "id": "YvqSymjWueXu"
   },
   "source": [
    "We can see that our model, which is trained on our dataset, provides better answers compared to GPT-4. Our model is fine-tuned based on our data and is familiar with the different edge cases and the context of our dataset."
   ]
  },
  {
   "cell_type": "code",
   "execution_count": 39,
   "metadata": {
    "id": "wVQQfAAXy-v8"
   },
   "outputs": [
    {
     "data": {
      "text/plain": [
       "'{\"Topic\": \"Refund\", \"Problem\": \"Request for refund\", \"Customer_Dissatisfaction_Index\": 10}'"
      ]
     },
     "execution_count": 39,
     "metadata": {},
     "output_type": "execute_result"
    }
   ],
   "source": [
    "complaint = \"I am very Angry! I want my money back!\"\n",
    "extract_details(complaint, fine_tuned_model)"
   ]
  }
 ],
 "metadata": {
  "colab": {
   "collapsed_sections": [
    "1Rp80dTGpsDD",
    "0r2XnfwnqTCK",
    "Jo9HFdW0jput",
    "4XB-sFc3kO4A",
    "8lGyZnvk25q9"
   ],
   "provenance": []
  },
  "kernelspec": {
   "display_name": "Python 3 (ipykernel)",
   "language": "python",
   "name": "python3"
  },
  "language_info": {
   "codemirror_mode": {
    "name": "ipython",
    "version": 3
   },
   "file_extension": ".py",
   "mimetype": "text/x-python",
   "name": "python",
   "nbconvert_exporter": "python",
   "pygments_lexer": "ipython3",
   "version": "3.11.8"
  }
 },
 "nbformat": 4,
 "nbformat_minor": 4
}
