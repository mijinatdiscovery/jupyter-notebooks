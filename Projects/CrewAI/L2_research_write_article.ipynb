{
 "cells": [
  {
   "cell_type": "markdown",
   "metadata": {},
   "source": [
    "You can download the `requirements.txt` for this course from the workspace of this lab. `File --> Open...`"
   ]
  },
  {
   "cell_type": "markdown",
   "metadata": {},
   "source": [
    "# L2: Create Agents to Research and Write an Article\n",
    "\n",
    "In this lesson, you will be introduced to the foundational concepts of multi-agent systems and get an overview of the crewAI framework."
   ]
  },
  {
   "cell_type": "markdown",
   "metadata": {},
   "source": [
    "The libraries are already installed in the classroom. If you're running this notebook on your own machine, you can install the following:\n",
    "```Python\n",
    "!pip install crewai==0.28.8 crewai_tools==0.1.6 langchain_community==0.0.29\n",
    "```"
   ]
  },
  {
   "cell_type": "code",
   "execution_count": 1,
   "metadata": {
    "height": 64
   },
   "outputs": [],
   "source": [
    "# Warning control\n",
    "import warnings\n",
    "warnings.filterwarnings('ignore')"
   ]
  },
  {
   "cell_type": "markdown",
   "metadata": {},
   "source": [
    "- Import from the crewAI libray."
   ]
  },
  {
   "cell_type": "code",
   "execution_count": 2,
   "metadata": {
    "height": 30
   },
   "outputs": [],
   "source": [
    "from crewai import Agent, Task, Crew"
   ]
  },
  {
   "cell_type": "markdown",
   "metadata": {},
   "source": [
    "- As a LLM for your agents, you'll be using OpenAI's `gpt-3.5-turbo`.\n",
    "\n",
    "**Optional Note:** crewAI also allow other popular models to be used as a LLM for your Agents. You can see some of the examples at the [bottom of the notebook](#1)."
   ]
  },
  {
   "cell_type": "code",
   "execution_count": 3,
   "metadata": {
    "height": 98
   },
   "outputs": [],
   "source": [
    "import os\n",
    "from utils import get_openai_api_key\n",
    "\n",
    "openai_api_key = get_openai_api_key()\n",
    "os.environ[\"OPENAI_MODEL_NAME\"] = 'gpt-3.5-turbo'"
   ]
  },
  {
   "cell_type": "markdown",
   "metadata": {},
   "source": [
    "## Creating Agents\n",
    "\n",
    "- Define your Agents, and provide them a `role`, `goal` and `backstory`.\n",
    "- It has been seen that LLMs perform better when they are role playing."
   ]
  },
  {
   "cell_type": "markdown",
   "metadata": {},
   "source": [
    "### Agent: Planner\n",
    "\n",
    "**Note**: The benefit of using _multiple strings_ :\n",
    "```Python\n",
    "varname = \"line 1 of text\"\n",
    "          \"line 2 of text\"\n",
    "```\n",
    "\n",
    "versus the _triple quote docstring_:\n",
    "```Python\n",
    "varname = \"\"\"line 1 of text\n",
    "             line 2 of text\n",
    "          \"\"\"\n",
    "```\n",
    "is that it can avoid adding those whitespaces and newline characters, making it better formatted to be passed to the LLM."
   ]
  },
  {
   "cell_type": "code",
   "execution_count": 4,
   "metadata": {
    "height": 234
   },
   "outputs": [],
   "source": [
    "planner = Agent(\n",
    "    role=\"Content Planner\",\n",
    "    goal=\"Plan engaging and factually accurate content on {topic}\",\n",
    "    backstory=\"You're working on planning a blog article \"\n",
    "              \"about the topic: {topic}.\"\n",
    "              \"You collect information that helps the \"\n",
    "              \"audience learn something \"\n",
    "              \"and make informed decisions. \"\n",
    "              \"Your work is the basis for \"\n",
    "              \"the Content Writer to write an article on this topic.\",\n",
    "    allow_delegation=False,\n",
    "\tverbose=True\n",
    ")"
   ]
  },
  {
   "cell_type": "markdown",
   "metadata": {},
   "source": [
    "### Agent: Writer"
   ]
  },
  {
   "cell_type": "code",
   "execution_count": 5,
   "metadata": {
    "height": 370
   },
   "outputs": [],
   "source": [
    "writer = Agent(\n",
    "    role=\"Content Writer\",\n",
    "    goal=\"Write insightful and factually accurate \"\n",
    "         \"opinion piece about the topic: {topic}\",\n",
    "    backstory=\"You're working on a writing \"\n",
    "              \"a new opinion piece about the topic: {topic}. \"\n",
    "              \"You base your writing on the work of \"\n",
    "              \"the Content Planner, who provides an outline \"\n",
    "              \"and relevant context about the topic. \"\n",
    "              \"You follow the main objectives and \"\n",
    "              \"direction of the outline, \"\n",
    "              \"as provide by the Content Planner. \"\n",
    "              \"You also provide objective and impartial insights \"\n",
    "              \"and back them up with information \"\n",
    "              \"provide by the Content Planner. \"\n",
    "              \"You acknowledge in your opinion piece \"\n",
    "              \"when your statements are opinions \"\n",
    "              \"as opposed to objective statements.\",\n",
    "    allow_delegation=False,\n",
    "    verbose=True\n",
    ")"
   ]
  },
  {
   "cell_type": "markdown",
   "metadata": {},
   "source": [
    "### Agent: Editor"
   ]
  },
  {
   "cell_type": "code",
   "execution_count": 6,
   "metadata": {
    "height": 268
   },
   "outputs": [],
   "source": [
    "editor = Agent(\n",
    "    role=\"Editor\",\n",
    "    goal=\"Edit a given blog post to align with \"\n",
    "         \"the writing style of the organization. \",\n",
    "    backstory=\"You are an editor who receives a blog post \"\n",
    "              \"from the Content Writer. \"\n",
    "              \"Your goal is to review the blog post \"\n",
    "              \"to ensure that it follows journalistic best practices,\"\n",
    "              \"provides balanced viewpoints \"\n",
    "              \"when providing opinions or assertions, \"\n",
    "              \"and also avoids major controversial topics \"\n",
    "              \"or opinions when possible.\",\n",
    "    allow_delegation=False,\n",
    "    verbose=True\n",
    ")"
   ]
  },
  {
   "cell_type": "markdown",
   "metadata": {},
   "source": [
    "## Creating Tasks\n",
    "\n",
    "- Define your Tasks, and provide them a `description`, `expected_output` and `agent`."
   ]
  },
  {
   "cell_type": "markdown",
   "metadata": {},
   "source": [
    "### Task: Plan"
   ]
  },
  {
   "cell_type": "code",
   "execution_count": 7,
   "metadata": {
    "height": 268
   },
   "outputs": [],
   "source": [
    "plan = Task(\n",
    "    description=(\n",
    "        \"1. Prioritize the latest trends, key players, \"\n",
    "            \"and noteworthy news on {topic}.\\n\"\n",
    "        \"2. Identify the target audience, considering \"\n",
    "            \"their interests and pain points.\\n\"\n",
    "        \"3. Develop a detailed content outline including \"\n",
    "            \"an introduction, key points, and a call to action.\\n\"\n",
    "        \"4. Include SEO keywords and relevant data or sources.\"\n",
    "    ),\n",
    "    expected_output=\"A comprehensive content plan document \"\n",
    "        \"with an outline, audience analysis, \"\n",
    "        \"SEO keywords, and resources.\",\n",
    "    agent=planner,\n",
    ")"
   ]
  },
  {
   "cell_type": "markdown",
   "metadata": {},
   "source": [
    "### Task: Write"
   ]
  },
  {
   "cell_type": "code",
   "execution_count": 8,
   "metadata": {
    "height": 319
   },
   "outputs": [],
   "source": [
    "write = Task(\n",
    "    description=(\n",
    "        \"1. Use the content plan to craft a compelling \"\n",
    "            \"blog post on {topic}.\\n\"\n",
    "        \"2. Incorporate SEO keywords naturally.\\n\"\n",
    "\t\t\"3. Sections/Subtitles are properly named \"\n",
    "            \"in an engaging manner.\\n\"\n",
    "        \"4. Ensure the post is structured with an \"\n",
    "            \"engaging introduction, insightful body, \"\n",
    "            \"and a summarizing conclusion.\\n\"\n",
    "        \"5. Proofread for grammatical errors and \"\n",
    "            \"alignment with the brand's voice.\\n\"\n",
    "    ),\n",
    "    expected_output=\"A well-written blog post \"\n",
    "        \"in markdown format, ready for publication, \"\n",
    "        \"each section should have 2 or 3 paragraphs.\",\n",
    "    agent=writer,\n",
    ")"
   ]
  },
  {
   "cell_type": "markdown",
   "metadata": {},
   "source": [
    "### Task: Edit"
   ]
  },
  {
   "cell_type": "code",
   "execution_count": 9,
   "metadata": {
    "height": 166
   },
   "outputs": [],
   "source": [
    "edit = Task(\n",
    "    description=(\"Proofread the given blog post for \"\n",
    "                 \"grammatical errors and \"\n",
    "                 \"alignment with the brand's voice.\"),\n",
    "    expected_output=\"A well-written blog post in markdown format, \"\n",
    "                    \"ready for publication, \"\n",
    "                    \"each section should have 2 or 3 paragraphs.\",\n",
    "    agent=editor\n",
    ")"
   ]
  },
  {
   "cell_type": "markdown",
   "metadata": {},
   "source": [
    "## Creating the Crew\n",
    "\n",
    "- Create your crew of Agents\n",
    "- Pass the tasks to be performed by those agents.\n",
    "    - **Note**: *For this simple example*, the tasks will be performed sequentially (i.e they are dependent on each other), so the _order_ of the task in the list _matters_.\n",
    "- `verbose=2` allows you to see all the logs of the execution. "
   ]
  },
  {
   "cell_type": "code",
   "execution_count": 10,
   "metadata": {
    "height": 98
   },
   "outputs": [],
   "source": [
    "crew = Crew(\n",
    "    agents=[planner, writer, editor],\n",
    "    tasks=[plan, write, edit],\n",
    "    verbose=2\n",
    ")"
   ]
  },
  {
   "cell_type": "markdown",
   "metadata": {},
   "source": [
    "## Running the Crew"
   ]
  },
  {
   "cell_type": "markdown",
   "metadata": {},
   "source": [
    "**Note**: LLMs can provide different outputs for they same input, so what you get might be different than what you see in the video."
   ]
  },
  {
   "cell_type": "code",
   "execution_count": 11,
   "metadata": {
    "height": 30
   },
   "outputs": [
    {
     "name": "stdout",
     "output_type": "stream",
     "text": [
      "\u001b[1m\u001b[95m [DEBUG]: == Working Agent: Content Planner\u001b[00m\n",
      "\u001b[1m\u001b[95m [INFO]: == Starting Task: 1. Prioritize the latest trends, key players, and noteworthy news on Artificial Intelligence.\n",
      "2. Identify the target audience, considering their interests and pain points.\n",
      "3. Develop a detailed content outline including an introduction, key points, and a call to action.\n",
      "4. Include SEO keywords and relevant data or sources.\u001b[00m\n",
      "\n",
      "\n",
      "\u001b[1m> Entering new CrewAgentExecutor chain...\u001b[0m\n",
      "\u001b[32;1m\u001b[1;3mI now can give a great answer\n",
      "\n",
      "Final Answer: \n",
      "\n",
      "Content Plan: \n",
      "\n",
      "Title: The Future of Artificial Intelligence: Trends, Players, and News\n",
      "\n",
      "Outline:\n",
      "I. Introduction\n",
      "- Definition of Artificial Intelligence\n",
      "- Importance of AI in today's world\n",
      "\n",
      "II. Latest Trends in Artificial Intelligence\n",
      "- Machine learning advancements\n",
      "- Natural language processing developments\n",
      "- Automation and robotics in AI\n",
      "\n",
      "III. Key Players in the AI Industry\n",
      "- Google\n",
      "- Amazon\n",
      "- Microsoft\n",
      "- IBM\n",
      "\n",
      "IV. Noteworthy News in Artificial Intelligence\n",
      "- Breakthroughs in AI healthcare applications\n",
      "- Ethical considerations in AI development\n",
      "- AI impact on job markets\n",
      "\n",
      "V. Target Audience Analysis\n",
      "- Tech enthusiasts\n",
      "- Business professionals interested in AI applications\n",
      "- Students studying AI or related fields\n",
      "\n",
      "VI. SEO Keywords\n",
      "- Artificial Intelligence trends\n",
      "- Key players in AI industry\n",
      "- Latest news on AI\n",
      "- AI developments in 2021\n",
      "\n",
      "VII. Resources\n",
      "- Forbes article on AI trends\n",
      "- Gartner report on key players in AI industry\n",
      "- Harvard Business Review article on AI news\n",
      "\n",
      "Call to Action:\n",
      "Stay informed about the latest advancements in Artificial Intelligence by subscribing to our newsletter for regular updates and insights.\n",
      "\n",
      "This content plan aims to provide a comprehensive overview of the latest trends, key players, and noteworthy news in the field of Artificial Intelligence. By targeting a diverse audience and incorporating relevant SEO keywords and resources, the blog article will engage readers and provide valuable information for those interested in AI.\u001b[0m\n",
      "\n",
      "\u001b[1m> Finished chain.\u001b[0m\n",
      "\u001b[1m\u001b[92m [DEBUG]: == [Content Planner] Task output: Content Plan: \n",
      "\n",
      "Title: The Future of Artificial Intelligence: Trends, Players, and News\n",
      "\n",
      "Outline:\n",
      "I. Introduction\n",
      "- Definition of Artificial Intelligence\n",
      "- Importance of AI in today's world\n",
      "\n",
      "II. Latest Trends in Artificial Intelligence\n",
      "- Machine learning advancements\n",
      "- Natural language processing developments\n",
      "- Automation and robotics in AI\n",
      "\n",
      "III. Key Players in the AI Industry\n",
      "- Google\n",
      "- Amazon\n",
      "- Microsoft\n",
      "- IBM\n",
      "\n",
      "IV. Noteworthy News in Artificial Intelligence\n",
      "- Breakthroughs in AI healthcare applications\n",
      "- Ethical considerations in AI development\n",
      "- AI impact on job markets\n",
      "\n",
      "V. Target Audience Analysis\n",
      "- Tech enthusiasts\n",
      "- Business professionals interested in AI applications\n",
      "- Students studying AI or related fields\n",
      "\n",
      "VI. SEO Keywords\n",
      "- Artificial Intelligence trends\n",
      "- Key players in AI industry\n",
      "- Latest news on AI\n",
      "- AI developments in 2021\n",
      "\n",
      "VII. Resources\n",
      "- Forbes article on AI trends\n",
      "- Gartner report on key players in AI industry\n",
      "- Harvard Business Review article on AI news\n",
      "\n",
      "Call to Action:\n",
      "Stay informed about the latest advancements in Artificial Intelligence by subscribing to our newsletter for regular updates and insights.\n",
      "\n",
      "This content plan aims to provide a comprehensive overview of the latest trends, key players, and noteworthy news in the field of Artificial Intelligence. By targeting a diverse audience and incorporating relevant SEO keywords and resources, the blog article will engage readers and provide valuable information for those interested in AI.\n",
      "\n",
      "\u001b[00m\n",
      "\u001b[1m\u001b[95m [DEBUG]: == Working Agent: Content Writer\u001b[00m\n",
      "\u001b[1m\u001b[95m [INFO]: == Starting Task: 1. Use the content plan to craft a compelling blog post on Artificial Intelligence.\n",
      "2. Incorporate SEO keywords naturally.\n",
      "3. Sections/Subtitles are properly named in an engaging manner.\n",
      "4. Ensure the post is structured with an engaging introduction, insightful body, and a summarizing conclusion.\n",
      "5. Proofread for grammatical errors and alignment with the brand's voice.\n",
      "\u001b[00m\n",
      "\n",
      "\n",
      "\u001b[1m> Entering new CrewAgentExecutor chain...\u001b[0m\n",
      "\u001b[32;1m\u001b[1;3mI now have a clear direction on how to craft a compelling blog post on Artificial Intelligence, incorporating the latest trends, key players, and noteworthy news in the industry.\n",
      "\n",
      "Final Answer:\n",
      "\n",
      "# The Future of Artificial Intelligence: Trends, Players, and News\n",
      "\n",
      "## Introduction\n",
      "Artificial Intelligence (AI) is a rapidly evolving field that involves the development of intelligent machines capable of performing tasks that typically require human intelligence. From self-driving cars to virtual assistants, AI has become an integral part of our daily lives. The importance of AI in today's world cannot be understated, as it has the potential to revolutionize industries, improve efficiency, and drive innovation.\n",
      "\n",
      "## Latest Trends in Artificial Intelligence\n",
      "One of the latest trends in AI is the advancements in machine learning, where algorithms are constantly improving their performance without being explicitly programmed. This has led to significant breakthroughs in various applications, such as image recognition, natural language processing, and recommendation systems. Additionally, developments in natural language processing have enabled machines to understand and generate human language, leading to the rise of chatbots and virtual assistants. Automation and robotics are also playing a crucial role in AI, with the integration of intelligent machines in manufacturing, healthcare, and other industries.\n",
      "\n",
      "## Key Players in the AI Industry\n",
      "Several tech giants are leading the way in the AI industry, including Google, Amazon, Microsoft, and IBM. These companies are investing heavily in AI research and development, creating cutting-edge technologies that are shaping the future of AI. From self-driving cars to smart home devices, these key players are driving innovation and pushing the boundaries of what is possible with AI.\n",
      "\n",
      "## Noteworthy News in Artificial Intelligence\n",
      "Recent breakthroughs in AI have focused on healthcare applications, with AI-powered tools being used to diagnose diseases, personalize treatment plans, and improve patient outcomes. However, the development of AI also raises ethical considerations, such as privacy concerns, bias in algorithms, and the potential impact on job markets. It is crucial to address these issues to ensure that AI technologies are developed and deployed responsibly.\n",
      "\n",
      "## Target Audience Analysis\n",
      "This blog post is tailored for tech enthusiasts, business professionals interested in AI applications, and students studying AI or related fields. By providing insights into the latest trends, key players, and news in the AI industry, this article aims to engage a diverse audience and keep them informed about the advancements in Artificial Intelligence.\n",
      "\n",
      "## SEO Keywords\n",
      "Artificial Intelligence trends, Key players in AI industry, Latest news on AI, AI developments in 2021\n",
      "\n",
      "## Resources\n",
      "- Forbes article on AI trends\n",
      "- Gartner report on key players in AI industry\n",
      "- Harvard Business Review article on AI news\n",
      "\n",
      "In conclusion, Artificial Intelligence is a dynamic and exciting field that continues to evolve and shape the future of technology. By staying informed about the latest trends, key players, and news in the AI industry, readers can gain valuable insights into this rapidly growing field. Stay updated on the latest advancements in Artificial Intelligence by subscribing to our newsletter for regular updates and insights.\u001b[0m\n",
      "\n",
      "\u001b[1m> Finished chain.\u001b[0m\n",
      "\u001b[1m\u001b[92m [DEBUG]: == [Content Writer] Task output: # The Future of Artificial Intelligence: Trends, Players, and News\n",
      "\n",
      "## Introduction\n",
      "Artificial Intelligence (AI) is a rapidly evolving field that involves the development of intelligent machines capable of performing tasks that typically require human intelligence. From self-driving cars to virtual assistants, AI has become an integral part of our daily lives. The importance of AI in today's world cannot be understated, as it has the potential to revolutionize industries, improve efficiency, and drive innovation.\n",
      "\n",
      "## Latest Trends in Artificial Intelligence\n",
      "One of the latest trends in AI is the advancements in machine learning, where algorithms are constantly improving their performance without being explicitly programmed. This has led to significant breakthroughs in various applications, such as image recognition, natural language processing, and recommendation systems. Additionally, developments in natural language processing have enabled machines to understand and generate human language, leading to the rise of chatbots and virtual assistants. Automation and robotics are also playing a crucial role in AI, with the integration of intelligent machines in manufacturing, healthcare, and other industries.\n",
      "\n",
      "## Key Players in the AI Industry\n",
      "Several tech giants are leading the way in the AI industry, including Google, Amazon, Microsoft, and IBM. These companies are investing heavily in AI research and development, creating cutting-edge technologies that are shaping the future of AI. From self-driving cars to smart home devices, these key players are driving innovation and pushing the boundaries of what is possible with AI.\n",
      "\n",
      "## Noteworthy News in Artificial Intelligence\n",
      "Recent breakthroughs in AI have focused on healthcare applications, with AI-powered tools being used to diagnose diseases, personalize treatment plans, and improve patient outcomes. However, the development of AI also raises ethical considerations, such as privacy concerns, bias in algorithms, and the potential impact on job markets. It is crucial to address these issues to ensure that AI technologies are developed and deployed responsibly.\n",
      "\n",
      "## Target Audience Analysis\n",
      "This blog post is tailored for tech enthusiasts, business professionals interested in AI applications, and students studying AI or related fields. By providing insights into the latest trends, key players, and news in the AI industry, this article aims to engage a diverse audience and keep them informed about the advancements in Artificial Intelligence.\n",
      "\n",
      "## SEO Keywords\n",
      "Artificial Intelligence trends, Key players in AI industry, Latest news on AI, AI developments in 2021\n",
      "\n",
      "## Resources\n",
      "- Forbes article on AI trends\n",
      "- Gartner report on key players in AI industry\n",
      "- Harvard Business Review article on AI news\n",
      "\n",
      "In conclusion, Artificial Intelligence is a dynamic and exciting field that continues to evolve and shape the future of technology. By staying informed about the latest trends, key players, and news in the AI industry, readers can gain valuable insights into this rapidly growing field. Stay updated on the latest advancements in Artificial Intelligence by subscribing to our newsletter for regular updates and insights.\n",
      "\n",
      "\u001b[00m\n",
      "\u001b[1m\u001b[95m [DEBUG]: == Working Agent: Editor\u001b[00m\n",
      "\u001b[1m\u001b[95m [INFO]: == Starting Task: Proofread the given blog post for grammatical errors and alignment with the brand's voice.\u001b[00m\n",
      "\n",
      "\n",
      "\u001b[1m> Entering new CrewAgentExecutor chain...\u001b[0m\n"
     ]
    },
    {
     "name": "stdout",
     "output_type": "stream",
     "text": [
      "\u001b[32;1m\u001b[1;3mI now can give a great answer\n",
      "\n",
      "Final Answer:\n",
      "# The Future of Artificial Intelligence: Trends, Players, and News\n",
      "\n",
      "## Introduction\n",
      "Artificial Intelligence (AI) is a rapidly evolving field that involves the development of intelligent machines capable of performing tasks that typically require human intelligence. From self-driving cars to virtual assistants, AI has become an integral part of our daily lives. The importance of AI in today's world cannot be understated, as it has the potential to revolutionize industries, improve efficiency, and drive innovation.\n",
      "\n",
      "## Latest Trends in Artificial Intelligence\n",
      "One of the latest trends in AI is the advancements in machine learning, where algorithms are constantly improving their performance without being explicitly programmed. This has led to significant breakthroughs in various applications, such as image recognition, natural language processing, and recommendation systems. Additionally, developments in natural language processing have enabled machines to understand and generate human language, leading to the rise of chatbots and virtual assistants. Automation and robotics are also playing a crucial role in AI, with the integration of intelligent machines in manufacturing, healthcare, and other industries.\n",
      "\n",
      "## Key Players in the AI Industry\n",
      "Several tech giants are leading the way in the AI industry, including Google, Amazon, Microsoft, and IBM. These companies are investing heavily in AI research and development, creating cutting-edge technologies that are shaping the future of AI. From self-driving cars to smart home devices, these key players are driving innovation and pushing the boundaries of what is possible with AI.\n",
      "\n",
      "## Noteworthy News in Artificial Intelligence\n",
      "Recent breakthroughs in AI have focused on healthcare applications, with AI-powered tools being used to diagnose diseases, personalize treatment plans, and improve patient outcomes. However, the development of AI also raises ethical considerations, such as privacy concerns, bias in algorithms, and the potential impact on job markets. It is crucial to address these issues to ensure that AI technologies are developed and deployed responsibly.\n",
      "\n",
      "## Target Audience Analysis\n",
      "This blog post is tailored for tech enthusiasts, business professionals interested in AI applications, and students studying AI or related fields. By providing insights into the latest trends, key players, and news in the AI industry, this article aims to engage a diverse audience and keep them informed about the advancements in Artificial Intelligence.\n",
      "\n",
      "## SEO Keywords\n",
      "Artificial Intelligence trends, Key players in AI industry, Latest news on AI, AI developments in 2021\n",
      "\n",
      "## Resources\n",
      "- Forbes article on AI trends\n",
      "- Gartner report on key players in AI industry\n",
      "- Harvard Business Review article on AI news\n",
      "\n",
      "In conclusion, Artificial Intelligence is a dynamic and exciting field that continues to evolve and shape the future of technology. By staying informed about the latest trends, key players, and news in the AI industry, readers can gain valuable insights into this rapidly growing field. Stay updated on the latest advancements in Artificial Intelligence by subscribing to our newsletter for regular updates and insights.\u001b[0m\n",
      "\n",
      "\u001b[1m> Finished chain.\u001b[0m\n",
      "\u001b[1m\u001b[92m [DEBUG]: == [Editor] Task output: # The Future of Artificial Intelligence: Trends, Players, and News\n",
      "\n",
      "## Introduction\n",
      "Artificial Intelligence (AI) is a rapidly evolving field that involves the development of intelligent machines capable of performing tasks that typically require human intelligence. From self-driving cars to virtual assistants, AI has become an integral part of our daily lives. The importance of AI in today's world cannot be understated, as it has the potential to revolutionize industries, improve efficiency, and drive innovation.\n",
      "\n",
      "## Latest Trends in Artificial Intelligence\n",
      "One of the latest trends in AI is the advancements in machine learning, where algorithms are constantly improving their performance without being explicitly programmed. This has led to significant breakthroughs in various applications, such as image recognition, natural language processing, and recommendation systems. Additionally, developments in natural language processing have enabled machines to understand and generate human language, leading to the rise of chatbots and virtual assistants. Automation and robotics are also playing a crucial role in AI, with the integration of intelligent machines in manufacturing, healthcare, and other industries.\n",
      "\n",
      "## Key Players in the AI Industry\n",
      "Several tech giants are leading the way in the AI industry, including Google, Amazon, Microsoft, and IBM. These companies are investing heavily in AI research and development, creating cutting-edge technologies that are shaping the future of AI. From self-driving cars to smart home devices, these key players are driving innovation and pushing the boundaries of what is possible with AI.\n",
      "\n",
      "## Noteworthy News in Artificial Intelligence\n",
      "Recent breakthroughs in AI have focused on healthcare applications, with AI-powered tools being used to diagnose diseases, personalize treatment plans, and improve patient outcomes. However, the development of AI also raises ethical considerations, such as privacy concerns, bias in algorithms, and the potential impact on job markets. It is crucial to address these issues to ensure that AI technologies are developed and deployed responsibly.\n",
      "\n",
      "## Target Audience Analysis\n",
      "This blog post is tailored for tech enthusiasts, business professionals interested in AI applications, and students studying AI or related fields. By providing insights into the latest trends, key players, and news in the AI industry, this article aims to engage a diverse audience and keep them informed about the advancements in Artificial Intelligence.\n",
      "\n",
      "## SEO Keywords\n",
      "Artificial Intelligence trends, Key players in AI industry, Latest news on AI, AI developments in 2021\n",
      "\n",
      "## Resources\n",
      "- Forbes article on AI trends\n",
      "- Gartner report on key players in AI industry\n",
      "- Harvard Business Review article on AI news\n",
      "\n",
      "In conclusion, Artificial Intelligence is a dynamic and exciting field that continues to evolve and shape the future of technology. By staying informed about the latest trends, key players, and news in the AI industry, readers can gain valuable insights into this rapidly growing field. Stay updated on the latest advancements in Artificial Intelligence by subscribing to our newsletter for regular updates and insights.\n",
      "\n",
      "\u001b[00m\n"
     ]
    }
   ],
   "source": [
    "result = crew.kickoff(inputs={\"topic\": \"Artificial Intelligence\"})"
   ]
  },
  {
   "cell_type": "markdown",
   "metadata": {},
   "source": [
    "- Display the results of your execution as markdown in the notebook."
   ]
  },
  {
   "cell_type": "code",
   "execution_count": 13,
   "metadata": {
    "height": 47
   },
   "outputs": [
    {
     "data": {
      "text/markdown": [
       "# The Benefits of Incorporating Meditation into Daily Routine\n",
       "\n",
       "In today's fast-paced and stressful world, the practice of meditation has become increasingly popular as a means of promoting mental health and overall well-being. With key players in the industry like Headspace and Calm leading the way, more individuals are turning to mindfulness practices to combat the negative effects of stress and anxiety. Studies have shown the positive impact of meditation on mental health, making it a valuable tool for young professionals struggling with high stress levels and a lack of work-life balance.\n",
       "\n",
       "## Stress Reduction\n",
       "One of the most significant benefits of incorporating meditation into a daily routine is its ability to reduce stress levels. Research studies have consistently shown the effectiveness of meditation in calming the mind and promoting relaxation. Many individuals have shared personal anecdotes of how meditation has helped them cope with the pressures of daily life, allowing them to find a sense of peace and calm amidst chaos.\n",
       "\n",
       "## Improved Focus and Concentration\n",
       "In addition to stress reduction, meditation has been found to improve focus and concentration. Scientific evidence suggests that regular meditation practice can enhance cognitive function, making it easier to stay present and attentive in various tasks. By incorporating short meditation practices into daily routines, individuals can experience increased clarity of mind and improved productivity throughout the day.\n",
       "\n",
       "## Enhanced Emotional Well-being\n",
       "Another key benefit of meditation is its ability to enhance emotional well-being. By practicing mindfulness and self-awareness, individuals can learn to manage their emotions more effectively and promote overall mental health. Testimonials from those who have integrated meditation into their lives highlight the positive impact it has had on their emotional resilience and ability to navigate challenging situations with grace.\n",
       "\n",
       "In conclusion, the benefits of incorporating meditation into daily routine are vast and impactful. From stress reduction to improved focus and emotional well-being, mindfulness practices offer a holistic approach to mental health and personal development. As we navigate the demands of modern life, establishing a daily meditation practice can be a transformative tool for finding balance and inner peace. I encourage you to explore guided meditation sessions or local classes to begin your journey towards a healthier and more mindful lifestyle."
      ],
      "text/plain": [
       "<IPython.core.display.Markdown object>"
      ]
     },
     "execution_count": 13,
     "metadata": {},
     "output_type": "execute_result"
    }
   ],
   "source": [
    "from IPython.display import Markdown\n",
    "Markdown(result)"
   ]
  },
  {
   "cell_type": "markdown",
   "metadata": {},
   "source": [
    "## Try it Yourself\n",
    "\n",
    "- Pass in a topic of your choice and see what the agents come up with!"
   ]
  },
  {
   "cell_type": "code",
   "execution_count": 14,
   "metadata": {
    "height": 47
   },
   "outputs": [
    {
     "name": "stdout",
     "output_type": "stream",
     "text": [
      "\u001b[1m\u001b[95m [DEBUG]: == Working Agent: Content Planner\u001b[00m\n",
      "\u001b[1m\u001b[95m [INFO]: == Starting Task: 1. Prioritize the latest trends, key players, and noteworthy news on Whaam.\n",
      "2. Identify the target audience, considering their interests and pain points.\n",
      "3. Develop a detailed content outline including an introduction, key points, and a call to action.\n",
      "4. Include SEO keywords and relevant data or sources.\u001b[00m\n",
      "\n",
      "\n",
      "\u001b[1m> Entering new CrewAgentExecutor chain...\u001b[0m\n",
      "\u001b[32;1m\u001b[1;3mI now can give a great answer\n",
      "\n",
      "Final Answer: \n",
      "\n",
      "Content Plan: \n",
      "\n",
      "Title: Exploring the Impact of Whaam in the Art World\n",
      "\n",
      "Outline:\n",
      "I. Introduction\n",
      "- Brief overview of the artwork \"Whaam\" by Roy Lichtenstein\n",
      "- Importance of understanding the context and significance of the piece\n",
      "- Preview of key points to be discussed\n",
      "\n",
      "II. Latest Trends and Key Players\n",
      "- Analysis of recent exhibitions featuring \"Whaam\"\n",
      "- Overview of art critics' perspectives on the impact of the artwork\n",
      "- In-depth look at the influence of Roy Lichtenstein on the Pop Art movement\n",
      "\n",
      "III. Noteworthy News on Whaam\n",
      "- Updates on recent auctions or sales of \"Whaam\"\n",
      "- Discussion of any controversies or debates surrounding the artwork\n",
      "- Exploration of the continued relevance of \"Whaam\" in contemporary art\n",
      "\n",
      "IV. Target Audience Analysis\n",
      "- Art enthusiasts interested in Pop Art and modern art movements\n",
      "- Students studying art history or visual culture\n",
      "- Collectors looking to invest in iconic artworks\n",
      "- Curious individuals seeking to learn more about renowned artworks\n",
      "\n",
      "V. SEO Keywords\n",
      "- \"Whaam artwork\"\n",
      "- \"Roy Lichtenstein impact\"\n",
      "- \"Pop Art movement\"\n",
      "- \"Artwork analysis\"\n",
      "- \"Contemporary art trends\"\n",
      "\n",
      "VI. Resources\n",
      "1. Tate Modern - Official website for information on Roy Lichtenstein and \"Whaam\"\n",
      "2. ArtNews - Source for the latest news and analysis in the art world\n",
      "3. The Metropolitan Museum of Art - Online collection featuring Roy Lichtenstein's works\n",
      "4. Artforum - Art magazine providing critical discourse on contemporary art\n",
      "\n",
      "Call to Action:\n",
      "- Encourage readers to visit a local gallery or museum to view \"Whaam\" in person\n",
      "- Invite readers to engage in discussions about the artwork on social media using relevant hashtags\n",
      "- Prompt readers to explore more artworks by Roy Lichtenstein and other Pop Art artists\n",
      "\n",
      "This content plan aims to provide a comprehensive overview of \"Whaam\" by Roy Lichtenstein, exploring its impact in the art world and engaging the target audience with relevant information and resources. By prioritizing the latest trends, key players, and noteworthy news on \"Whaam,\" this article will offer valuable insights for readers interested in art history, contemporary art, and cultural studies.\u001b[0m\n",
      "\n",
      "\u001b[1m> Finished chain.\u001b[0m\n",
      "\u001b[1m\u001b[92m [DEBUG]: == [Content Planner] Task output: Content Plan: \n",
      "\n",
      "Title: Exploring the Impact of Whaam in the Art World\n",
      "\n",
      "Outline:\n",
      "I. Introduction\n",
      "- Brief overview of the artwork \"Whaam\" by Roy Lichtenstein\n",
      "- Importance of understanding the context and significance of the piece\n",
      "- Preview of key points to be discussed\n",
      "\n",
      "II. Latest Trends and Key Players\n",
      "- Analysis of recent exhibitions featuring \"Whaam\"\n",
      "- Overview of art critics' perspectives on the impact of the artwork\n",
      "- In-depth look at the influence of Roy Lichtenstein on the Pop Art movement\n",
      "\n",
      "III. Noteworthy News on Whaam\n",
      "- Updates on recent auctions or sales of \"Whaam\"\n",
      "- Discussion of any controversies or debates surrounding the artwork\n",
      "- Exploration of the continued relevance of \"Whaam\" in contemporary art\n",
      "\n",
      "IV. Target Audience Analysis\n",
      "- Art enthusiasts interested in Pop Art and modern art movements\n",
      "- Students studying art history or visual culture\n",
      "- Collectors looking to invest in iconic artworks\n",
      "- Curious individuals seeking to learn more about renowned artworks\n",
      "\n",
      "V. SEO Keywords\n",
      "- \"Whaam artwork\"\n",
      "- \"Roy Lichtenstein impact\"\n",
      "- \"Pop Art movement\"\n",
      "- \"Artwork analysis\"\n",
      "- \"Contemporary art trends\"\n",
      "\n",
      "VI. Resources\n",
      "1. Tate Modern - Official website for information on Roy Lichtenstein and \"Whaam\"\n",
      "2. ArtNews - Source for the latest news and analysis in the art world\n",
      "3. The Metropolitan Museum of Art - Online collection featuring Roy Lichtenstein's works\n",
      "4. Artforum - Art magazine providing critical discourse on contemporary art\n",
      "\n",
      "Call to Action:\n",
      "- Encourage readers to visit a local gallery or museum to view \"Whaam\" in person\n",
      "- Invite readers to engage in discussions about the artwork on social media using relevant hashtags\n",
      "- Prompt readers to explore more artworks by Roy Lichtenstein and other Pop Art artists\n",
      "\n",
      "This content plan aims to provide a comprehensive overview of \"Whaam\" by Roy Lichtenstein, exploring its impact in the art world and engaging the target audience with relevant information and resources. By prioritizing the latest trends, key players, and noteworthy news on \"Whaam,\" this article will offer valuable insights for readers interested in art history, contemporary art, and cultural studies.\n",
      "\n",
      "\u001b[00m\n",
      "\u001b[1m\u001b[95m [DEBUG]: == Working Agent: Content Writer\u001b[00m\n",
      "\u001b[1m\u001b[95m [INFO]: == Starting Task: 1. Use the content plan to craft a compelling blog post on Whaam.\n",
      "2. Incorporate SEO keywords naturally.\n",
      "3. Sections/Subtitles are properly named in an engaging manner.\n",
      "4. Ensure the post is structured with an engaging introduction, insightful body, and a summarizing conclusion.\n",
      "5. Proofread for grammatical errors and alignment with the brand's voice.\n",
      "\u001b[00m\n",
      "\n",
      "\n",
      "\u001b[1m> Entering new CrewAgentExecutor chain...\u001b[0m\n",
      "\u001b[32;1m\u001b[1;3mI now can give a great answer\n",
      "\n",
      "Final Answer:\n",
      "\n",
      "# Exploring the Impact of Whaam in the Art World\n",
      "\n",
      "## Introduction\n",
      "\n",
      "The iconic artwork \"Whaam\" by Roy Lichtenstein has left a lasting impression on the art world since its creation in the early 1960s. This piece, inspired by comic book imagery, is a prime example of Lichtenstein's unique Pop Art style. Understanding the context and significance of \"Whaam\" is crucial to fully appreciate its impact on the art world. In this blog post, we will delve into the latest trends and key players in the art scene, explore noteworthy news surrounding \"Whaam,\" analyze its influence on the Pop Art movement, and identify the target audience interested in this renowned artwork.\n",
      "\n",
      "## Latest Trends and Key Players\n",
      "\n",
      "Recent exhibitions featuring \"Whaam\" have continued to attract art enthusiasts and critics alike. The vibrant colors and bold lines of the artwork have captivated audiences around the world, solidifying its place as a timeless masterpiece. Art critics have praised \"Whaam\" for its innovative approach to blending popular culture with fine art, highlighting Lichtenstein's role as a trailblazer in the Pop Art movement. By examining the influence of Roy Lichtenstein on his contemporaries and the art world at large, we can gain a deeper appreciation for the lasting impact of \"Whaam.\"\n",
      "\n",
      "## Noteworthy News on Whaam\n",
      "\n",
      "Updates on recent auctions or sales of \"Whaam\" shed light on the artwork's continued relevance in the contemporary art market. Despite controversies or debates surrounding the commercialization of Pop Art, \"Whaam\" remains a symbol of artistic innovation and cultural significance. By exploring the ongoing discussions and interpretations of this iconic piece, we can better understand its enduring legacy in the art world. The relevance of \"Whaam\" in contemporary art serves as a testament to Lichtenstein's ability to transcend time and connect with audiences across generations.\n",
      "\n",
      "## Target Audience Analysis\n",
      "\n",
      "Art enthusiasts, students, collectors, and curious individuals make up the diverse target audience interested in \"Whaam\" and the works of Roy Lichtenstein. Whether studying art history, seeking investment opportunities, or simply exploring renowned artworks, readers will find valuable insights in this blog post. By engaging with the themes and techniques present in \"Whaam,\" audiences can deepen their understanding of Pop Art and modern art movements, fostering a greater appreciation for Lichtenstein's contributions to the art world.\n",
      "\n",
      "In conclusion, \"Whaam\" by Roy Lichtenstein continues to hold a prominent place in the art world, captivating audiences with its bold imagery and cultural commentary. By exploring the impact of this iconic artwork, we can gain a deeper appreciation for Lichtenstein's legacy and the enduring relevance of Pop Art in contemporary society. I encourage readers to visit galleries and museums to view \"Whaam\" in person, engage in discussions on social media, and explore more artworks by Lichtenstein and other Pop Art artists to further enrich their artistic experience.\u001b[0m\n",
      "\n",
      "\u001b[1m> Finished chain.\u001b[0m\n",
      "\u001b[1m\u001b[92m [DEBUG]: == [Content Writer] Task output: # Exploring the Impact of Whaam in the Art World\n",
      "\n",
      "## Introduction\n",
      "\n",
      "The iconic artwork \"Whaam\" by Roy Lichtenstein has left a lasting impression on the art world since its creation in the early 1960s. This piece, inspired by comic book imagery, is a prime example of Lichtenstein's unique Pop Art style. Understanding the context and significance of \"Whaam\" is crucial to fully appreciate its impact on the art world. In this blog post, we will delve into the latest trends and key players in the art scene, explore noteworthy news surrounding \"Whaam,\" analyze its influence on the Pop Art movement, and identify the target audience interested in this renowned artwork.\n",
      "\n",
      "## Latest Trends and Key Players\n",
      "\n",
      "Recent exhibitions featuring \"Whaam\" have continued to attract art enthusiasts and critics alike. The vibrant colors and bold lines of the artwork have captivated audiences around the world, solidifying its place as a timeless masterpiece. Art critics have praised \"Whaam\" for its innovative approach to blending popular culture with fine art, highlighting Lichtenstein's role as a trailblazer in the Pop Art movement. By examining the influence of Roy Lichtenstein on his contemporaries and the art world at large, we can gain a deeper appreciation for the lasting impact of \"Whaam.\"\n",
      "\n",
      "## Noteworthy News on Whaam\n",
      "\n",
      "Updates on recent auctions or sales of \"Whaam\" shed light on the artwork's continued relevance in the contemporary art market. Despite controversies or debates surrounding the commercialization of Pop Art, \"Whaam\" remains a symbol of artistic innovation and cultural significance. By exploring the ongoing discussions and interpretations of this iconic piece, we can better understand its enduring legacy in the art world. The relevance of \"Whaam\" in contemporary art serves as a testament to Lichtenstein's ability to transcend time and connect with audiences across generations.\n",
      "\n",
      "## Target Audience Analysis\n",
      "\n",
      "Art enthusiasts, students, collectors, and curious individuals make up the diverse target audience interested in \"Whaam\" and the works of Roy Lichtenstein. Whether studying art history, seeking investment opportunities, or simply exploring renowned artworks, readers will find valuable insights in this blog post. By engaging with the themes and techniques present in \"Whaam,\" audiences can deepen their understanding of Pop Art and modern art movements, fostering a greater appreciation for Lichtenstein's contributions to the art world.\n",
      "\n",
      "In conclusion, \"Whaam\" by Roy Lichtenstein continues to hold a prominent place in the art world, captivating audiences with its bold imagery and cultural commentary. By exploring the impact of this iconic artwork, we can gain a deeper appreciation for Lichtenstein's legacy and the enduring relevance of Pop Art in contemporary society. I encourage readers to visit galleries and museums to view \"Whaam\" in person, engage in discussions on social media, and explore more artworks by Lichtenstein and other Pop Art artists to further enrich their artistic experience.\n",
      "\n",
      "\u001b[00m\n",
      "\u001b[1m\u001b[95m [DEBUG]: == Working Agent: Editor\u001b[00m\n",
      "\u001b[1m\u001b[95m [INFO]: == Starting Task: Proofread the given blog post for grammatical errors and alignment with the brand's voice.\u001b[00m\n",
      "\n",
      "\n",
      "\u001b[1m> Entering new CrewAgentExecutor chain...\u001b[0m\n"
     ]
    },
    {
     "name": "stdout",
     "output_type": "stream",
     "text": [
      "\u001b[32;1m\u001b[1;3mI now can give a great answer\n",
      "\n",
      "Final Answer:\n",
      "\n",
      "# Exploring the Impact of Whaam in the Art World\n",
      "\n",
      "## Introduction\n",
      "\n",
      "The iconic artwork \"Whaam\" by Roy Lichtenstein has left a lasting impression on the art world since its creation in the early 1960s. This piece, inspired by comic book imagery, is a prime example of Lichtenstein's unique Pop Art style. Understanding the context and significance of \"Whaam\" is crucial to fully appreciate its impact on the art world. In this blog post, we will delve into the latest trends and key players in the art scene, explore noteworthy news surrounding \"Whaam,\" analyze its influence on the Pop Art movement, and identify the target audience interested in this renowned artwork.\n",
      "\n",
      "## Latest Trends and Key Players\n",
      "\n",
      "Recent exhibitions featuring \"Whaam\" have continued to attract art enthusiasts and critics alike. The vibrant colors and bold lines of the artwork have captivated audiences around the world, solidifying its place as a timeless masterpiece. Art critics have praised \"Whaam\" for its innovative approach to blending popular culture with fine art, highlighting Lichtenstein's role as a trailblazer in the Pop Art movement. By examining the influence of Roy Lichtenstein on his contemporaries and the art world at large, we can gain a deeper appreciation for the lasting impact of \"Whaam.\"\n",
      "\n",
      "## Noteworthy News on Whaam\n",
      "\n",
      "Updates on recent auctions or sales of \"Whaam\" shed light on the artwork's continued relevance in the contemporary art market. Despite controversies or debates surrounding the commercialization of Pop Art, \"Whaam\" remains a symbol of artistic innovation and cultural significance. By exploring the ongoing discussions and interpretations of this iconic piece, we can better understand its enduring legacy in the art world. The relevance of \"Whaam\" in contemporary art serves as a testament to Lichtenstein's ability to transcend time and connect with audiences across generations.\n",
      "\n",
      "## Target Audience Analysis\n",
      "\n",
      "Art enthusiasts, students, collectors, and curious individuals make up the diverse target audience interested in \"Whaam\" and the works of Roy Lichtenstein. Whether studying art history, seeking investment opportunities, or simply exploring renowned artworks, readers will find valuable insights in this blog post. By engaging with the themes and techniques present in \"Whaam,\" audiences can deepen their understanding of Pop Art and modern art movements, fostering a greater appreciation for Lichtenstein's contributions to the art world.\n",
      "\n",
      "In conclusion, \"Whaam\" by Roy Lichtenstein continues to hold a prominent place in the art world, captivating audiences with its bold imagery and cultural commentary. By exploring the impact of this iconic artwork, we can gain a deeper appreciation for Lichtenstein's legacy and the enduring relevance of Pop Art in contemporary society. I encourage readers to visit galleries and museums to view \"Whaam\" in person, engage in discussions on social media, and explore more artworks by Lichtenstein and other Pop Art artists to further enrich their artistic experience.\u001b[0m\n",
      "\n",
      "\u001b[1m> Finished chain.\u001b[0m\n",
      "\u001b[1m\u001b[92m [DEBUG]: == [Editor] Task output: # Exploring the Impact of Whaam in the Art World\n",
      "\n",
      "## Introduction\n",
      "\n",
      "The iconic artwork \"Whaam\" by Roy Lichtenstein has left a lasting impression on the art world since its creation in the early 1960s. This piece, inspired by comic book imagery, is a prime example of Lichtenstein's unique Pop Art style. Understanding the context and significance of \"Whaam\" is crucial to fully appreciate its impact on the art world. In this blog post, we will delve into the latest trends and key players in the art scene, explore noteworthy news surrounding \"Whaam,\" analyze its influence on the Pop Art movement, and identify the target audience interested in this renowned artwork.\n",
      "\n",
      "## Latest Trends and Key Players\n",
      "\n",
      "Recent exhibitions featuring \"Whaam\" have continued to attract art enthusiasts and critics alike. The vibrant colors and bold lines of the artwork have captivated audiences around the world, solidifying its place as a timeless masterpiece. Art critics have praised \"Whaam\" for its innovative approach to blending popular culture with fine art, highlighting Lichtenstein's role as a trailblazer in the Pop Art movement. By examining the influence of Roy Lichtenstein on his contemporaries and the art world at large, we can gain a deeper appreciation for the lasting impact of \"Whaam.\"\n",
      "\n",
      "## Noteworthy News on Whaam\n",
      "\n",
      "Updates on recent auctions or sales of \"Whaam\" shed light on the artwork's continued relevance in the contemporary art market. Despite controversies or debates surrounding the commercialization of Pop Art, \"Whaam\" remains a symbol of artistic innovation and cultural significance. By exploring the ongoing discussions and interpretations of this iconic piece, we can better understand its enduring legacy in the art world. The relevance of \"Whaam\" in contemporary art serves as a testament to Lichtenstein's ability to transcend time and connect with audiences across generations.\n",
      "\n",
      "## Target Audience Analysis\n",
      "\n",
      "Art enthusiasts, students, collectors, and curious individuals make up the diverse target audience interested in \"Whaam\" and the works of Roy Lichtenstein. Whether studying art history, seeking investment opportunities, or simply exploring renowned artworks, readers will find valuable insights in this blog post. By engaging with the themes and techniques present in \"Whaam,\" audiences can deepen their understanding of Pop Art and modern art movements, fostering a greater appreciation for Lichtenstein's contributions to the art world.\n",
      "\n",
      "In conclusion, \"Whaam\" by Roy Lichtenstein continues to hold a prominent place in the art world, captivating audiences with its bold imagery and cultural commentary. By exploring the impact of this iconic artwork, we can gain a deeper appreciation for Lichtenstein's legacy and the enduring relevance of Pop Art in contemporary society. I encourage readers to visit galleries and museums to view \"Whaam\" in person, engage in discussions on social media, and explore more artworks by Lichtenstein and other Pop Art artists to further enrich their artistic experience.\n",
      "\n",
      "\u001b[00m\n"
     ]
    }
   ],
   "source": [
    "topic = \"Whaam\"\n",
    "result = crew.kickoff(inputs={\"topic\": topic})"
   ]
  },
  {
   "cell_type": "code",
   "execution_count": 15,
   "metadata": {
    "height": 30
   },
   "outputs": [
    {
     "data": {
      "text/markdown": [
       "# Exploring the Impact of Whaam in the Art World\n",
       "\n",
       "## Introduction\n",
       "\n",
       "The iconic artwork \"Whaam\" by Roy Lichtenstein has left a lasting impression on the art world since its creation in the early 1960s. This piece, inspired by comic book imagery, is a prime example of Lichtenstein's unique Pop Art style. Understanding the context and significance of \"Whaam\" is crucial to fully appreciate its impact on the art world. In this blog post, we will delve into the latest trends and key players in the art scene, explore noteworthy news surrounding \"Whaam,\" analyze its influence on the Pop Art movement, and identify the target audience interested in this renowned artwork.\n",
       "\n",
       "## Latest Trends and Key Players\n",
       "\n",
       "Recent exhibitions featuring \"Whaam\" have continued to attract art enthusiasts and critics alike. The vibrant colors and bold lines of the artwork have captivated audiences around the world, solidifying its place as a timeless masterpiece. Art critics have praised \"Whaam\" for its innovative approach to blending popular culture with fine art, highlighting Lichtenstein's role as a trailblazer in the Pop Art movement. By examining the influence of Roy Lichtenstein on his contemporaries and the art world at large, we can gain a deeper appreciation for the lasting impact of \"Whaam.\"\n",
       "\n",
       "## Noteworthy News on Whaam\n",
       "\n",
       "Updates on recent auctions or sales of \"Whaam\" shed light on the artwork's continued relevance in the contemporary art market. Despite controversies or debates surrounding the commercialization of Pop Art, \"Whaam\" remains a symbol of artistic innovation and cultural significance. By exploring the ongoing discussions and interpretations of this iconic piece, we can better understand its enduring legacy in the art world. The relevance of \"Whaam\" in contemporary art serves as a testament to Lichtenstein's ability to transcend time and connect with audiences across generations.\n",
       "\n",
       "## Target Audience Analysis\n",
       "\n",
       "Art enthusiasts, students, collectors, and curious individuals make up the diverse target audience interested in \"Whaam\" and the works of Roy Lichtenstein. Whether studying art history, seeking investment opportunities, or simply exploring renowned artworks, readers will find valuable insights in this blog post. By engaging with the themes and techniques present in \"Whaam,\" audiences can deepen their understanding of Pop Art and modern art movements, fostering a greater appreciation for Lichtenstein's contributions to the art world.\n",
       "\n",
       "In conclusion, \"Whaam\" by Roy Lichtenstein continues to hold a prominent place in the art world, captivating audiences with its bold imagery and cultural commentary. By exploring the impact of this iconic artwork, we can gain a deeper appreciation for Lichtenstein's legacy and the enduring relevance of Pop Art in contemporary society. I encourage readers to visit galleries and museums to view \"Whaam\" in person, engage in discussions on social media, and explore more artworks by Lichtenstein and other Pop Art artists to further enrich their artistic experience."
      ],
      "text/plain": [
       "<IPython.core.display.Markdown object>"
      ]
     },
     "execution_count": 15,
     "metadata": {},
     "output_type": "execute_result"
    }
   ],
   "source": [
    "Markdown(result)"
   ]
  },
  {
   "cell_type": "markdown",
   "metadata": {},
   "source": [
    "<a name='1'></a>\n",
    " ## Other Popular Models as LLM for your Agents"
   ]
  },
  {
   "cell_type": "markdown",
   "metadata": {},
   "source": [
    "#### Hugging Face (HuggingFaceHub endpoint)\n",
    "\n",
    "```Python\n",
    "from langchain_community.llms import HuggingFaceHub\n",
    "\n",
    "llm = HuggingFaceHub(\n",
    "    repo_id=\"HuggingFaceH4/zephyr-7b-beta\",\n",
    "    huggingfacehub_api_token=\"<HF_TOKEN_HERE>\",\n",
    "    task=\"text-generation\",\n",
    ")\n",
    "\n",
    "### you will pass \"llm\" to your agent function\n",
    "```"
   ]
  },
  {
   "cell_type": "markdown",
   "metadata": {},
   "source": [
    "#### Mistral API\n",
    "\n",
    "```Python\n",
    "OPENAI_API_KEY=your-mistral-api-key\n",
    "OPENAI_API_BASE=https://api.mistral.ai/v1\n",
    "OPENAI_MODEL_NAME=\"mistral-small\"\n",
    "```"
   ]
  },
  {
   "cell_type": "markdown",
   "metadata": {},
   "source": [
    "#### Cohere\n",
    "\n",
    "```Python\n",
    "from langchain_community.chat_models import ChatCohere\n",
    "# Initialize language model\n",
    "os.environ[\"COHERE_API_KEY\"] = \"your-cohere-api-key\"\n",
    "llm = ChatCohere()\n",
    "\n",
    "### you will pass \"llm\" to your agent function\n",
    "```"
   ]
  },
  {
   "cell_type": "markdown",
   "metadata": {},
   "source": [
    "### For using Llama locally with Ollama and more, checkout the crewAI documentation on [Connecting to any LLM](https://docs.crewai.com/how-to/LLM-Connections/)."
   ]
  },
  {
   "cell_type": "code",
   "execution_count": null,
   "metadata": {
    "height": 30
   },
   "outputs": [],
   "source": []
  },
  {
   "cell_type": "code",
   "execution_count": null,
   "metadata": {
    "height": 30
   },
   "outputs": [],
   "source": []
  },
  {
   "cell_type": "code",
   "execution_count": null,
   "metadata": {
    "height": 30
   },
   "outputs": [],
   "source": []
  }
 ],
 "metadata": {
  "colab": {
   "gpuType": "T4",
   "provenance": []
  },
  "kernelspec": {
   "display_name": "Python 3 (ipykernel)",
   "language": "python",
   "name": "python3"
  },
  "language_info": {
   "codemirror_mode": {
    "name": "ipython",
    "version": 3
   },
   "file_extension": ".py",
   "mimetype": "text/x-python",
   "name": "python",
   "nbconvert_exporter": "python",
   "pygments_lexer": "ipython3",
   "version": "3.11.9"
  }
 },
 "nbformat": 4,
 "nbformat_minor": 4
}
