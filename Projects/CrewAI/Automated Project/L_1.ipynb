{
 "cells": [
  {
   "cell_type": "markdown",
   "id": "bae53a09-c04c-4916-a146-00e0bb188954",
   "metadata": {},
   "source": [
    "# L1: Automated Project: Planning, Estimation, and Allocation"
   ]
  },
  {
   "cell_type": "markdown",
   "id": "2a4058e8-a52c-4365-ac27-da08b67d7fb8",
   "metadata": {},
   "source": [
    "<p style=\"background-color:#fff6e4; padding:15px; border-width:3px; border-color:#f5ecda; border-style:solid; border-radius:6px\"> ⏳ <b>Note <code>(Kernel Starting)</code>:</b> This notebook takes about 30 seconds to be ready to use. You may start and watch the video while you wait.</p>"
   ]
  },
  {
   "cell_type": "markdown",
   "id": "30ada5b1-06ec-41e8-8f60-5e0e0d389ffb",
   "metadata": {},
   "source": [
    "## Initial Imports"
   ]
  },
  {
   "cell_type": "code",
   "execution_count": 1,
   "id": "4193708e-9802-4161-844a-735f6361e24d",
   "metadata": {
    "height": 200
   },
   "outputs": [],
   "source": [
    "# Warning control\n",
    "import warnings\n",
    "warnings.filterwarnings('ignore')\n",
    "\n",
    "# Load environment variables\n",
    "from helper import load_env\n",
    "load_env()\n",
    "\n",
    "import os\n",
    "import yaml\n",
    "from crewai import Agent, Task, Crew"
   ]
  },
  {
   "cell_type": "markdown",
   "id": "66752d49-82ae-4b58-b76b-fc57c6b5f23e",
   "metadata": {},
   "source": [
    "<p style=\"background-color:#fff6ff; padding:15px; border-width:3px; border-color:#efe6ef; border-style:solid; border-radius:6px\"> 💻 &nbsp; <b>Access <code>requirements.txt</code> and <code>helper.py</code> files:</b> 1) click on the <em>\"File\"</em> option on the top menu of the notebook and then 2) click on <em>\"Open\"</em>. For more help, please see the <em>\"Appendix - Tips and Help\"</em> Lesson.</p>"
   ]
  },
  {
   "cell_type": "markdown",
   "id": "b930b575-a2d5-467b-878f-de78e10b6ba5",
   "metadata": {},
   "source": [
    "## Set OpenAI Model"
   ]
  },
  {
   "cell_type": "code",
   "execution_count": 2,
   "id": "91cb8100-3058-4cdc-969b-c64a46a408e4",
   "metadata": {
    "height": 30
   },
   "outputs": [],
   "source": [
    "os.environ['OPENAI_MODEL_NAME'] = 'gpt-4o-mini'"
   ]
  },
  {
   "cell_type": "markdown",
   "id": "96b83836-9ccb-47d7-a97b-9a68aebfaa42",
   "metadata": {},
   "source": [
    "## Loading Tasks and Agents YAML files"
   ]
  },
  {
   "cell_type": "code",
   "execution_count": 5,
   "id": "5a4e362d-c010-43dd-88c4-e7db87834fb4",
   "metadata": {
    "height": 251
   },
   "outputs": [],
   "source": [
    "# Define file paths for YAML configurations\n",
    "files = {\n",
    "    'agents': 'config/agents.yaml',\n",
    "    'tasks': 'config/tasks.yaml'\n",
    "}\n",
    "# Load configurations from YAML files\n",
    "configs = {}\n",
    "for config_type, file_path in files.items():\n",
    "    with open(file_path, 'r') as file:\n",
    "        configs[config_type] = yaml.safe_load(file)\n",
    "\n",
    "# Assign loaded configurations to specific variables\n",
    "agents_config = configs['agents']\n",
    "tasks_config = configs['tasks']"
   ]
  },
  {
   "cell_type": "markdown",
   "id": "c5f50c89-a326-4e4c-93a1-79be3fcda14b",
   "metadata": {},
   "source": [
    "## Create Pydantic Models for Structured Output"
   ]
  },
  {
   "cell_type": "code",
   "execution_count": 6,
   "id": "0e8626d2-e48a-4b7e-a061-a8eb492c9036",
   "metadata": {
    "height": 268
   },
   "outputs": [],
   "source": [
    "from typing import List\n",
    "from pydantic import BaseModel, Field\n",
    "\n",
    "class TaskEstimate(BaseModel):\n",
    "    task_name: str = Field(..., description=\"Name of the task\")\n",
    "    estimated_time_hours: float = Field(..., description=\"Estimated time to complete the task in hours\")\n",
    "    required_resources: List[str] = Field(..., description=\"List of resources required to complete the task\")\n",
    "\n",
    "class Milestone(BaseModel):\n",
    "    milestone_name: str = Field(..., description=\"Name of the milestone\")\n",
    "    tasks: List[str] = Field(..., description=\"List of task IDs associated with this milestone\")\n",
    "\n",
    "class ProjectPlan(BaseModel):\n",
    "    tasks: List[TaskEstimate] = Field(..., description=\"List of tasks with their estimates\")\n",
    "    milestones: List[Milestone] = Field(..., description=\"List of project milestones\")"
   ]
  },
  {
   "cell_type": "markdown",
   "id": "92d6524c-48e7-460e-8345-3b7a872b714a",
   "metadata": {},
   "source": [
    "## Create Crew, Agents and Tasks"
   ]
  },
  {
   "cell_type": "code",
   "execution_count": 9,
   "id": "a655927f-c10c-4c06-852a-d9c96fdfbfb9",
   "metadata": {
    "height": 761
   },
   "outputs": [],
   "source": [
    "# Creating Agents\n",
    "project_planning_agent = Agent(\n",
    "  config=agents_config['project_planning_agent']\n",
    ")\n",
    "\n",
    "estimation_agent = Agent(\n",
    "  config=agents_config['estimation_agent']\n",
    ")\n",
    "\n",
    "resource_allocation_agent = Agent(\n",
    "  config=agents_config['resource_allocation_agent']\n",
    ")\n",
    "\n",
    "# Creating Tasks\n",
    "task_breakdown = Task(\n",
    "  config=tasks_config['task_breakdown'],\n",
    "  agent=project_planning_agent\n",
    ")\n",
    "\n",
    "time_resource_estimation = Task(\n",
    "  config=tasks_config['time_resource_estimation'],\n",
    "  agent=estimation_agent\n",
    ")\n",
    "\n",
    "resource_allocation = Task(\n",
    "  config=tasks_config['resource_allocation'],\n",
    "  agent=resource_allocation_agent,\n",
    "  output_pydantic=ProjectPlan # This is the structured output we want\n",
    ")\n",
    "\n",
    "# Creating Crew\n",
    "crew = Crew(\n",
    "  agents=[\n",
    "    project_planning_agent,\n",
    "    estimation_agent,\n",
    "    resource_allocation_agent\n",
    "  ],\n",
    "  tasks=[\n",
    "    task_breakdown,\n",
    "    time_resource_estimation,\n",
    "    resource_allocation\n",
    "  ],\n",
    "  verbose=True\n",
    ")"
   ]
  },
  {
   "cell_type": "markdown",
   "id": "51b901cf-3630-4662-81a7-762da6773d3b",
   "metadata": {},
   "source": [
    "## Crew's Inputs"
   ]
  },
  {
   "cell_type": "code",
   "execution_count": 10,
   "id": "9e861574-0f9b-4f2c-b2d1-a230fc3a53a3",
   "metadata": {
    "height": 693
   },
   "outputs": [
    {
     "data": {
      "text/markdown": [
       "\n",
       "**Project Type:** Website\n",
       "\n",
       "**Project Objectives:** Create a website for a small business\n",
       "\n",
       "**Industry:** Technology\n",
       "\n",
       "**Team Members:**\n",
       "\n",
       "- John Doe (Project Manager)\n",
       "- Jane Doe (Software Engineer)\n",
       "- Bob Smith (Designer)\n",
       "- Alice Johnson (QA Engineer)\n",
       "- Tom Brown (QA Engineer)\n",
       "\n",
       "**Project Requirements:**\n",
       "\n",
       "- Create a responsive design that works well on desktop and mobile devices\n",
       "- Implement a modern, visually appealing user interface with a clean look\n",
       "- Develop a user-friendly navigation system with intuitive menu structure\n",
       "- Include an \"About Us\" page highlighting the company's history and values\n",
       "- Design a \"Services\" page showcasing the business's offerings with descriptions\n",
       "- Create a \"Contact Us\" page with a form and integrated map for communication\n",
       "- Implement a blog section for sharing industry news and company updates\n",
       "- Ensure fast loading times and optimize for search engines (SEO)\n",
       "- Integrate social media links and sharing capabilities\n",
       "- Include a testimonials section to showcase customer feedback and build trust\n",
       "\n"
      ],
      "text/plain": [
       "<IPython.core.display.Markdown object>"
      ]
     },
     "metadata": {},
     "output_type": "display_data"
    }
   ],
   "source": [
    "from IPython.display import display, Markdown\n",
    "\n",
    "project = 'Website'\n",
    "industry = 'Technology'\n",
    "project_objectives = 'Create a website for a small business'\n",
    "team_members = \"\"\"\n",
    "- John Doe (Project Manager)\n",
    "- Jane Doe (Software Engineer)\n",
    "- Bob Smith (Designer)\n",
    "- Alice Johnson (QA Engineer)\n",
    "- Tom Brown (QA Engineer)\n",
    "\"\"\"\n",
    "project_requirements = \"\"\"\n",
    "- Create a responsive design that works well on desktop and mobile devices\n",
    "- Implement a modern, visually appealing user interface with a clean look\n",
    "- Develop a user-friendly navigation system with intuitive menu structure\n",
    "- Include an \"About Us\" page highlighting the company's history and values\n",
    "- Design a \"Services\" page showcasing the business's offerings with descriptions\n",
    "- Create a \"Contact Us\" page with a form and integrated map for communication\n",
    "- Implement a blog section for sharing industry news and company updates\n",
    "- Ensure fast loading times and optimize for search engines (SEO)\n",
    "- Integrate social media links and sharing capabilities\n",
    "- Include a testimonials section to showcase customer feedback and build trust\n",
    "\"\"\"\n",
    "\n",
    "# Format the dictionary as Markdown for a better display in Jupyter Lab\n",
    "formatted_output = f\"\"\"\n",
    "**Project Type:** {project}\n",
    "\n",
    "**Project Objectives:** {project_objectives}\n",
    "\n",
    "**Industry:** {industry}\n",
    "\n",
    "**Team Members:**\n",
    "{team_members}\n",
    "**Project Requirements:**\n",
    "{project_requirements}\n",
    "\"\"\"\n",
    "# Display the formatted output as Markdown\n",
    "display(Markdown(formatted_output))"
   ]
  },
  {
   "cell_type": "markdown",
   "id": "15198e13-e9ec-44d8-b15e-c97b7b7320bb",
   "metadata": {},
   "source": [
    "## Kicking off the crew"
   ]
  },
  {
   "cell_type": "code",
   "execution_count": 11,
   "id": "fa40b53e-0a49-4198-a263-c79a6a3af603",
   "metadata": {
    "height": 234
   },
   "outputs": [
    {
     "name": "stdout",
     "output_type": "stream",
     "text": [
      "\u001b[1m\u001b[95m# Agent:\u001b[00m \u001b[1m\u001b[92mThe Ultimate Project Planner\u001b[00m\n",
      "\u001b[95m## Task:\u001b[00m \u001b[92mCarefully analyze the project_requirements for the Website project and break them down into individual tasks. Define each task's scope in detail, set achievable timelines, and ensure that all dependencies are accounted for:\n",
      "\n",
      "- Create a responsive design that works well on desktop and mobile devices\n",
      "- Implement a modern, visually appealing user interface with a clean look\n",
      "- Develop a user-friendly navigation system with intuitive menu structure\n",
      "- Include an \"About Us\" page highlighting the company's history and values\n",
      "- Design a \"Services\" page showcasing the business's offerings with descriptions\n",
      "- Create a \"Contact Us\" page with a form and integrated map for communication\n",
      "- Implement a blog section for sharing industry news and company updates\n",
      "- Ensure fast loading times and optimize for search engines (SEO)\n",
      "- Integrate social media links and sharing capabilities\n",
      "- Include a testimonials section to showcase customer feedback and build trust\n",
      "\n",
      "\n",
      "Team members:\n",
      "\n",
      "- John Doe (Project Manager)\n",
      "- Jane Doe (Software Engineer)\n",
      "- Bob Smith (Designer)\n",
      "- Alice Johnson (QA Engineer)\n",
      "- Tom Brown (QA Engineer)\n",
      "\n",
      "\u001b[00m\n",
      "\n",
      "\n",
      "\u001b[1m\u001b[95m# Agent:\u001b[00m \u001b[1m\u001b[92mThe Ultimate Project Planner\u001b[00m\n",
      "\u001b[95m## Final Answer:\u001b[00m \u001b[92m\n",
      "### Website Project Breakdown\n",
      "\n",
      "#### Project Requirements Breakdown:\n",
      "\n",
      "1. **Create Responsive Design**\n",
      "   - **Scope**: Design a website layout that is mobile-friendly and adjusts to various screen sizes and resolutions.\n",
      "   - **Timeline**: 1 week\n",
      "   - **Dependencies**: None \n",
      "   - **Deliverables**: Wireframes and mockups for desktop and mobile.\n",
      "\n",
      "2. **Implement User Interface**\n",
      "   - **Scope**: Create a visually appealing user interface with a modern aesthetic, including icons, images, and a color scheme consistent with the brand.\n",
      "   - **Timeline**: 1 week (Concurrent with Task 1)\n",
      "   - **Dependencies**: Completion of responsive design \n",
      "   - **Deliverables**: UI design specifications and style guide.\n",
      "\n",
      "3. **Develop Navigation System**\n",
      "   - **Scope**: Build an intuitive navigation menu that allows users to easily access all sections of the website.\n",
      "   - **Timeline**: 3 days\n",
      "   - **Dependencies**: Completion of user interface design \n",
      "   - **Deliverables**: Navigation structure documentation and prototype.\n",
      "\n",
      "4. **Create \"About Us\" Page**\n",
      "   - **Scope**: Design and develop a page that highlights the company's history, mission, and values.\n",
      "   - **Timeline**: 4 days\n",
      "   - **Dependencies**: None\n",
      "   - **Deliverables**: Functional \"About Us\" page with copy and images.\n",
      "\n",
      "5. **Design \"Services\" Page**\n",
      "   - **Scope**: Create a page that lists services offered with descriptions and visuals where applicable.\n",
      "   - **Timeline**: 4 days\n",
      "   - **Dependencies**: Completion of UI design \n",
      "   - **Deliverables**: Functional \"Services\" page with descriptions and images.\n",
      "\n",
      "6. **Create \"Contact Us\" Page**\n",
      "   - **Scope**: Develop a page that includes a contact form, embedded map location, and relevant contact information.\n",
      "   - **Timeline**: 4 days\n",
      "   - **Dependencies**: None\n",
      "   - **Deliverables**: Functional \"Contact Us\" page with integrated form and map.\n",
      "\n",
      "7. **Implement Blog Section**\n",
      "   - **Scope**: Establish a blog feature to share posts regarding industry news and updates regarding the company.\n",
      "   - **Timeline**: 1 week\n",
      "   - **Dependencies**: Completion of Services page \n",
      "   - **Deliverables**: Blog functionality with the ability to create and manage posts.\n",
      "\n",
      "8. **Optimize Loading Times & SEO**\n",
      "   - **Scope**: Ensure that the website loads quickly by optimizing images, scripts, and implementing SEO best practices.\n",
      "   - **Timeline**: 1 week (After all pages are developed)\n",
      "   - **Dependencies**: Completion of all pages\n",
      "   - **Deliverables**: Optimized site performance report.\n",
      "\n",
      "9. **Integrate Social Media Links**\n",
      "   - **Scope**: Integrate social media icons linked to the company's profiles on all pages.\n",
      "   - **Timeline**: 3 days\n",
      "   - **Dependencies**: Completion of UI design \n",
      "   - **Deliverables**: Integrated social media links in the website footer.\n",
      "\n",
      "10. **Include Testimonials Section**\n",
      "    - **Scope**: Design and develop a section to showcase customer testimonials.\n",
      "    - **Timeline**: 2 days\n",
      "    - **Dependencies**: Completion of homepage layout \n",
      "    - **Deliverables**: Functioning testimonials section with input options for new testimonials.\n",
      "\n",
      "### Team Roles\n",
      "\n",
      "- **John Doe**: Facilitate project management, oversee timelines, and coordinate between team members.\n",
      "- **Jane Doe**: Responsible for developing the website’s back-end functionalities and ensuring code efficiency.\n",
      "- **Bob Smith**: Lead designer for the visual elements of the website, ensuring brand alignment and creative output.\n",
      "- **Alice Johnson & Tom Brown**: Quality assurance engineers focused on testing and verifying site functionalities and user experience.\n",
      "\n",
      "### Timeline Visualization (Gantt Chart)\n",
      "\n",
      "| Task                               | Start Date | Duration  | End Date   | Dependencies         |\n",
      "|------------------------------------|------------|-----------|------------|-----------------------|\n",
      "| Create Responsive Design           | Day 1      | 7 days    | Day 7      | None                  |\n",
      "| Implement User Interface           | Day 1      | 7 days    | Day 7      | Responsive Design      |\n",
      "| Develop Navigation System          | Day 8      | 3 days    | Day 10     | User Interface         |\n",
      "| Create \"About Us\" Page            | Day 11     | 4 days    | Day 14     | None                  |\n",
      "| Design \"Services\" Page            | Day 8      | 4 days    | Day 14     | UI Design              |\n",
      "| Create \"Contact Us\" Page          | Day 11     | 4 days    | Day 14     | None                  |\n",
      "| Implement Blog Section             | Day 15     | 7 days    | Day 21     | Services Page          |\n",
      "| Optimize Loading Times & SEO       | Day 22     | 7 days    | Day 28     | All pages completed    |\n",
      "| Integrate Social Media Links       | Day 8      | 3 days    | Day 10     | UI Design              |\n",
      "| Include Testimonials Section        | Day 15     | 2 days    | Day 16     | Homepage Layout        |\n",
      "\n",
      "**Total Project Duration**: 28 Days\n",
      "\n",
      "### Final Notes\n",
      "This detailed breakdown ensures that each critical aspect of the website development is accounted for, with precise timelines and clearly defined responsibilities, positioning us for successful project completion on schedule. \n",
      "\n",
      "If you require further refinement or discussion on any specific area, feel free to ask.\u001b[00m\n",
      "\n",
      "\n",
      "\u001b[1m\u001b[95m# Agent:\u001b[00m \u001b[1m\u001b[92mExpert Estimation Analyst\u001b[00m\n",
      "\u001b[95m## Task:\u001b[00m \u001b[92mThoroughly evaluate each task in the Website project to estimate the time, resources, and effort required. Use historical data, task complexity, and available resources to provide a realistic estimation for each task.\n",
      "\u001b[00m\n",
      "\n",
      "\n",
      "\u001b[1m\u001b[95m# Agent:\u001b[00m \u001b[1m\u001b[92mExpert Estimation Analyst\u001b[00m\n",
      "\u001b[95m## Final Answer:\u001b[00m \u001b[92m\n",
      "### Website Project Estimation Report\n",
      "\n",
      "#### 1. **Create Responsive Design**\n",
      "- **Estimated Time**: 7 days\n",
      "- **Resources Required**: 1 designer (Bob Smith)\n",
      "- **Effort**: Moderate\n",
      "- **Risks**: Potential delays if feedback is slow or requires multiple iterations.\n",
      "\n",
      "#### 2. **Implement User Interface**\n",
      "- **Estimated Time**: 7 days (Concurrent with Task 1)\n",
      "- **Resources Required**: 1 designer (Bob Smith), 1 developer (Jane Doe)\n",
      "- **Effort**: Moderate to high\n",
      "- **Risks**: Dependence on the timely completion and approval of the responsive design may cause a ripple effect on the timeline.\n",
      "\n",
      "#### 3. **Develop Navigation System**\n",
      "- **Estimated Time**: 3 days\n",
      "- **Resources Required**: 1 developer (Jane Doe)\n",
      "- **Effort**: Low\n",
      "- **Risks**: If the UI is not finalized on time, this task could be delayed.\n",
      "\n",
      "#### 4. **Create \"About Us\" Page**\n",
      "- **Estimated Time**: 4 days\n",
      "- **Resources Required**: 1 developer (Jane Doe)\n",
      "- **Effort**: Moderate\n",
      "- **Risks**: Availability and quality of content provided by stakeholders may impact timeline.\n",
      "\n",
      "#### 5. **Design \"Services\" Page**\n",
      "- **Estimated Time**: 4 days\n",
      "- **Resources Required**: 1 designer (Bob Smith), 1 developer (Jane Doe)\n",
      "- **Effort**: Moderate \n",
      "- **Risks**: Similar to Task 2, any delay in UI completion may affect this task.\n",
      "\n",
      "#### 6. **Create \"Contact Us\" Page**\n",
      "- **Estimated Time**: 4 days\n",
      "- **Resources Required**: 1 developer (Jane Doe)\n",
      "- **Effort**: Moderate\n",
      "- **Risks**: Integration of contact form functionalities might require additional testing.\n",
      "\n",
      "#### 7. **Implement Blog Section**\n",
      "- **Estimated Time**: 7 days\n",
      "- **Resources Required**: 1 developer (Jane Doe)\n",
      "- **Effort**: High\n",
      "- **Risks**: User acceptance testing may reveal bugs or additional requirements if the service page does not match needs.\n",
      "\n",
      "#### 8. **Optimize Loading Times & SEO**\n",
      "- **Estimated Time**: 7 days (After all pages are developed)\n",
      "- **Resources Required**: 1 developer (Jane Doe) for optimization, Quality Assurance Engineers (Alice Johnson & Tom Brown) for testing\n",
      "- **Effort**: Moderate to high\n",
      "- **Risks**: Requires complete functioning of all pages; potential for unforeseen bugs during optimization.\n",
      "\n",
      "#### 9. **Integrate Social Media Links**\n",
      "- **Estimated Time**: 3 days\n",
      "- **Resources Required**: 1 developer (Jane Doe)\n",
      "- **Effort**: Low\n",
      "- **Risks**: Minimal; straightforward implementation unless design changes occur.\n",
      "\n",
      "#### 10. **Include Testimonials Section**\n",
      "- **Estimated Time**: 2 days\n",
      "- **Resources Required**: 1 developer (Jane Doe)\n",
      "- **Effort**: Low\n",
      "- **Risks**: Dependence on the quality of the input options provided; potential functional issues may require additional regression testing.\n",
      "\n",
      "### Summary of Risks and Uncertainties\n",
      "1. **Time Delays**: Many tasks are dependent on preceding tasks, especially design-related tasks.\n",
      "2. **Resource Availability**: Team members’ availability could impact the project timeline if any member is delayed due to unforeseen circumstances.\n",
      "3. **Quality of Deliverables**: Over-reliance on initial feedback could necessitate revisions, impacting overall duration.\n",
      "4. **Integration Challenges**: Potential bugs may arise during the integration phase when components must work together seamlessly.\n",
      "\n",
      "### Conclusion\n",
      "This detailed estimation report provides a clear understanding of the time, resources, and effort required for each task in the Website project. It allows for better planning, coordination, and execution to meet project deadlines and budgets while taking into account potential risks that might affect overall efficiency and delivery. \n",
      "\n",
      "Regular communication and monitoring will be essential to tackle the identified risks and ensure successful project completion.\u001b[00m\n",
      "\n",
      "\n",
      "\u001b[1m\u001b[95m# Agent:\u001b[00m \u001b[1m\u001b[92mResource Allocation Strategist\u001b[00m\n",
      "\u001b[95m## Task:\u001b[00m \u001b[92mStrategically allocate tasks for the Website project to team members based on their skills, availability, and current workload. Ensure that each task is assigned to the most suitable team member and that the workload is evenly distributed.\n",
      "\n",
      "Team members:\n",
      "\n",
      "- John Doe (Project Manager)\n",
      "- Jane Doe (Software Engineer)\n",
      "- Bob Smith (Designer)\n",
      "- Alice Johnson (QA Engineer)\n",
      "- Tom Brown (QA Engineer)\n",
      "\n",
      "\u001b[00m\n"
     ]
    },
    {
     "name": "stdout",
     "output_type": "stream",
     "text": [
      "\n",
      "\n",
      "\u001b[1m\u001b[95m# Agent:\u001b[00m \u001b[1m\u001b[92mResource Allocation Strategist\u001b[00m\n",
      "\u001b[95m## Final Answer:\u001b[00m \u001b[92m\n",
      "### Resource Allocation Chart for Website Project\n",
      "\n",
      "| Task                          | Assigned Team Member(s)     | Start Date   | End Date     |\n",
      "|-------------------------------|------------------------------|--------------|--------------|\n",
      "| Create Responsive Design       | Bob Smith                    | Day 1        | Day 7        |\n",
      "| Implement User Interface       | Bob Smith, Jane Doe         | Day 7        | Day 14       |\n",
      "| Develop Navigation System      | Jane Doe                     | Day 14       | Day 17       |\n",
      "| Create \"About Us\" Page        | Jane Doe                     | Day 17       | Day 21       |\n",
      "| Design \"Services\" Page        | Bob Smith, Jane Doe         | Day 14       | Day 18       |\n",
      "| Create \"Contact Us\" Page      | Jane Doe                     | Day 21       | Day 25       |\n",
      "| Implement Blog Section         | Jane Doe                     | Day 25       | Day 32       |\n",
      "| Optimize Loading Times & SEO   | Jane Doe, Alice Johnson, Tom Brown | Day 32 | Day 39       |\n",
      "| Integrate Social Media Links   | Jane Doe                     | Day 39       | Day 42       |\n",
      "| Include Testimonials Section    | Jane Doe                     | Day 42       | Day 44       |\n",
      "\n",
      "### Rationale Behind Each Allocation Decision\n",
      "\n",
      "1. **Create Responsive Design**: Assigned to Bob Smith as the sole designer. This multistakeholder task requires expertise in design and a high degree of creativity, where Bob's skill set aligns perfectly. The task spans 7 days to allow for ample iterations based on stakeholder feedback.\n",
      "\n",
      "2. **Implement User Interface**: This task overlaps with the Responsive Design, requiring collaboration between both Jane and Bob. Bob will utilize the design work while Jane implements the interface, completing in the next 7 days.\n",
      "\n",
      "3. **Develop Navigation System**: Assigned exclusively to Jane Doe post the UI task, showcasing her development skills. This 3-day task is low in effort, providing buffer time.\n",
      "\n",
      "4. **Create \"About Us\" Page**: Jane continues to leverage her skills to develop this page. Given that content quality may affect delivery, she has been allocated 4 days to ensure thoroughness.\n",
      "\n",
      "5. **Design \"Services\" Page**: Both Bob Smith and Jane Doe are necessary here to design and develop concurrently. This task relies on both designers and developers with a moderate timeline due to potential dependencies with the UI.\n",
      "\n",
      "6. **Create \"Contact Us\" Page**: Following the \"About Us,\" it's essential that Jane also oversees this task to maintain design consistency since it requires tight integration with front-end elements.\n",
      "\n",
      "7. **Implement Blog Section**: A more complex component requiring extended time will be handled exclusively by Jane, as it demands her ongoing input and integration of prior developed pages.\n",
      "\n",
      "8. **Optimize Loading Times & SEO**: This task spans 7 days once all primary pages are constructed, focusing on technical optimization. Jane will handle the bulk of this with support from QA Engineers Alice and Tom to ensure comprehensive testing.\n",
      "\n",
      "9. **Integrate Social Media Links**: This straightforward task is cost-effective with Jane as the sole developer, expected to take only 3 days. \n",
      "\n",
      "10. **Include Testimonials Section**: Assigned to Jane as a finalizing task that requires her to manage this low-effort implementation within the remaining time.\n",
      "\n",
      "### Conclusion\n",
      "This task allocation focuses on balancing team member workloads while aligning responsibilities with individual skills. The plan prioritizes efficiency, synchronizes dependencies, and allows for adequate time management, thereby enhancing the chance of meeting project deadlines. Regular check-ins will be implemented to address potential risks and ensure no team member is overburdened, fostering a collaborative environment throughout the project.\u001b[00m\n",
      "\n",
      "\n"
     ]
    }
   ],
   "source": [
    "# The given Python dictionary\n",
    "inputs = {\n",
    "  'project_type': project,\n",
    "  'project_objectives': project_objectives,\n",
    "  'industry': industry,\n",
    "  'team_members': team_members,\n",
    "  'project_requirements': project_requirements\n",
    "}\n",
    "\n",
    "# Run the crew\n",
    "result = crew.kickoff(\n",
    "  inputs=inputs\n",
    ")"
   ]
  },
  {
   "cell_type": "markdown",
   "id": "7879258f-52df-4503-b08e-acd516d0a946",
   "metadata": {},
   "source": [
    "## Usage Metrics and Costs"
   ]
  },
  {
   "cell_type": "markdown",
   "id": "d94dad33-91c9-4aac-8e16-24117dbbef46",
   "metadata": {},
   "source": [
    "Let’s see how much it would cost each time if this crew runs at scale."
   ]
  },
  {
   "cell_type": "code",
   "execution_count": 12,
   "id": "66b3b165-2a4b-46cc-93f7-696dffff1e10",
   "metadata": {
    "height": 149
   },
   "outputs": [
    {
     "name": "stdout",
     "output_type": "stream",
     "text": [
      "Total costs: $0.0024\n"
     ]
    },
    {
     "data": {
      "text/html": [
       "<div>\n",
       "<style scoped>\n",
       "    .dataframe tbody tr th:only-of-type {\n",
       "        vertical-align: middle;\n",
       "    }\n",
       "\n",
       "    .dataframe tbody tr th {\n",
       "        vertical-align: top;\n",
       "    }\n",
       "\n",
       "    .dataframe thead th {\n",
       "        text-align: right;\n",
       "    }\n",
       "</style>\n",
       "<table border=\"1\" class=\"dataframe\">\n",
       "  <thead>\n",
       "    <tr style=\"text-align: right;\">\n",
       "      <th></th>\n",
       "      <th>total_tokens</th>\n",
       "      <th>prompt_tokens</th>\n",
       "      <th>completion_tokens</th>\n",
       "      <th>successful_requests</th>\n",
       "    </tr>\n",
       "  </thead>\n",
       "  <tbody>\n",
       "    <tr>\n",
       "      <th>0</th>\n",
       "      <td>16215</td>\n",
       "      <td>10073</td>\n",
       "      <td>6142</td>\n",
       "      <td>9</td>\n",
       "    </tr>\n",
       "  </tbody>\n",
       "</table>\n",
       "</div>"
      ],
      "text/plain": [
       "   total_tokens  prompt_tokens  completion_tokens  successful_requests\n",
       "0         16215          10073               6142                    9"
      ]
     },
     "execution_count": 12,
     "metadata": {},
     "output_type": "execute_result"
    }
   ],
   "source": [
    "import pandas as pd\n",
    "\n",
    "costs = 0.150 * (crew.usage_metrics.prompt_tokens + crew.usage_metrics.completion_tokens) / 1_000_000\n",
    "print(f\"Total costs: ${costs:.4f}\")\n",
    "\n",
    "# Convert UsageMetrics instance to a DataFrame\n",
    "df_usage_metrics = pd.DataFrame([crew.usage_metrics.dict()])\n",
    "df_usage_metrics"
   ]
  },
  {
   "cell_type": "markdown",
   "id": "4982e83a-9e54-4510-9f06-751b34848287",
   "metadata": {},
   "source": [
    "## Result"
   ]
  },
  {
   "cell_type": "code",
   "execution_count": 13,
   "id": "6396b0f6-e3ae-4a89-a3e9-ca53aa042c40",
   "metadata": {
    "height": 30
   },
   "outputs": [
    {
     "data": {
      "text/plain": [
       "{'tasks': [{'task_name': 'Create Responsive Design',\n",
       "   'estimated_time_hours': 56.0,\n",
       "   'required_resources': ['Bob Smith']},\n",
       "  {'task_name': 'Implement User Interface',\n",
       "   'estimated_time_hours': 56.0,\n",
       "   'required_resources': ['Bob Smith', 'Jane Doe']},\n",
       "  {'task_name': 'Develop Navigation System',\n",
       "   'estimated_time_hours': 24.0,\n",
       "   'required_resources': ['Jane Doe']},\n",
       "  {'task_name': \"Create 'About Us' Page\",\n",
       "   'estimated_time_hours': 32.0,\n",
       "   'required_resources': ['Jane Doe']},\n",
       "  {'task_name': \"Design 'Services' Page\",\n",
       "   'estimated_time_hours': 32.0,\n",
       "   'required_resources': ['Bob Smith', 'Jane Doe']},\n",
       "  {'task_name': \"Create 'Contact Us' Page\",\n",
       "   'estimated_time_hours': 32.0,\n",
       "   'required_resources': ['Jane Doe']},\n",
       "  {'task_name': 'Implement Blog Section',\n",
       "   'estimated_time_hours': 56.0,\n",
       "   'required_resources': ['Jane Doe']},\n",
       "  {'task_name': 'Optimize Loading Times & SEO',\n",
       "   'estimated_time_hours': 56.0,\n",
       "   'required_resources': ['Jane Doe', 'Alice Johnson', 'Tom Brown']},\n",
       "  {'task_name': 'Integrate Social Media Links',\n",
       "   'estimated_time_hours': 24.0,\n",
       "   'required_resources': ['Jane Doe']},\n",
       "  {'task_name': 'Include Testimonials Section',\n",
       "   'estimated_time_hours': 16.0,\n",
       "   'required_resources': ['Jane Doe']}],\n",
       " 'milestones': [{'milestone_name': 'Design Phase Completed',\n",
       "   'tasks': ['Create Responsive Design',\n",
       "    'Implement User Interface',\n",
       "    \"Design 'Services' Page\"]},\n",
       "  {'milestone_name': 'Development Phase Completed',\n",
       "   'tasks': ['Develop Navigation System',\n",
       "    \"Create 'About Us' Page\",\n",
       "    \"Create 'Contact Us' Page\",\n",
       "    'Implement Blog Section']},\n",
       "  {'milestone_name': 'Final Optimization Completed',\n",
       "   'tasks': ['Optimize Loading Times & SEO',\n",
       "    'Integrate Social Media Links',\n",
       "    'Include Testimonials Section']}]}"
      ]
     },
     "execution_count": 13,
     "metadata": {},
     "output_type": "execute_result"
    }
   ],
   "source": [
    "result.pydantic.dict()"
   ]
  },
  {
   "cell_type": "markdown",
   "id": "18ffcc83-350e-4f99-b03b-458690cc0ed2",
   "metadata": {},
   "source": [
    "## Inspect further"
   ]
  },
  {
   "cell_type": "code",
   "execution_count": 14,
   "id": "da1bbf90-4bfc-4529-84dd-d0bd00198353",
   "metadata": {
    "height": 132
   },
   "outputs": [
    {
     "data": {
      "text/html": [
       "<style type=\"text/css\">\n",
       "#T_71902 th {\n",
       "  font-size: 120%;\n",
       "}\n",
       "#T_71902  td {\n",
       "  font-size: 120%;\n",
       "}\n",
       "</style>\n",
       "<table id=\"T_71902\" border=\"1\">\n",
       "  <caption>Task Details</caption>\n",
       "  <thead>\n",
       "    <tr>\n",
       "      <th class=\"blank level0\" >&nbsp;</th>\n",
       "      <th id=\"T_71902_level0_col0\" class=\"col_heading level0 col0\" >task_name</th>\n",
       "      <th id=\"T_71902_level0_col1\" class=\"col_heading level0 col1\" >estimated_time_hours</th>\n",
       "      <th id=\"T_71902_level0_col2\" class=\"col_heading level0 col2\" >required_resources</th>\n",
       "    </tr>\n",
       "  </thead>\n",
       "  <tbody>\n",
       "    <tr>\n",
       "      <th id=\"T_71902_level0_row0\" class=\"row_heading level0 row0\" >0</th>\n",
       "      <td id=\"T_71902_row0_col0\" class=\"data row0 col0\" >Create Responsive Design</td>\n",
       "      <td id=\"T_71902_row0_col1\" class=\"data row0 col1\" >56.000000</td>\n",
       "      <td id=\"T_71902_row0_col2\" class=\"data row0 col2\" >['Bob Smith']</td>\n",
       "    </tr>\n",
       "    <tr>\n",
       "      <th id=\"T_71902_level0_row1\" class=\"row_heading level0 row1\" >1</th>\n",
       "      <td id=\"T_71902_row1_col0\" class=\"data row1 col0\" >Implement User Interface</td>\n",
       "      <td id=\"T_71902_row1_col1\" class=\"data row1 col1\" >56.000000</td>\n",
       "      <td id=\"T_71902_row1_col2\" class=\"data row1 col2\" >['Bob Smith', 'Jane Doe']</td>\n",
       "    </tr>\n",
       "    <tr>\n",
       "      <th id=\"T_71902_level0_row2\" class=\"row_heading level0 row2\" >2</th>\n",
       "      <td id=\"T_71902_row2_col0\" class=\"data row2 col0\" >Develop Navigation System</td>\n",
       "      <td id=\"T_71902_row2_col1\" class=\"data row2 col1\" >24.000000</td>\n",
       "      <td id=\"T_71902_row2_col2\" class=\"data row2 col2\" >['Jane Doe']</td>\n",
       "    </tr>\n",
       "    <tr>\n",
       "      <th id=\"T_71902_level0_row3\" class=\"row_heading level0 row3\" >3</th>\n",
       "      <td id=\"T_71902_row3_col0\" class=\"data row3 col0\" >Create 'About Us' Page</td>\n",
       "      <td id=\"T_71902_row3_col1\" class=\"data row3 col1\" >32.000000</td>\n",
       "      <td id=\"T_71902_row3_col2\" class=\"data row3 col2\" >['Jane Doe']</td>\n",
       "    </tr>\n",
       "    <tr>\n",
       "      <th id=\"T_71902_level0_row4\" class=\"row_heading level0 row4\" >4</th>\n",
       "      <td id=\"T_71902_row4_col0\" class=\"data row4 col0\" >Design 'Services' Page</td>\n",
       "      <td id=\"T_71902_row4_col1\" class=\"data row4 col1\" >32.000000</td>\n",
       "      <td id=\"T_71902_row4_col2\" class=\"data row4 col2\" >['Bob Smith', 'Jane Doe']</td>\n",
       "    </tr>\n",
       "    <tr>\n",
       "      <th id=\"T_71902_level0_row5\" class=\"row_heading level0 row5\" >5</th>\n",
       "      <td id=\"T_71902_row5_col0\" class=\"data row5 col0\" >Create 'Contact Us' Page</td>\n",
       "      <td id=\"T_71902_row5_col1\" class=\"data row5 col1\" >32.000000</td>\n",
       "      <td id=\"T_71902_row5_col2\" class=\"data row5 col2\" >['Jane Doe']</td>\n",
       "    </tr>\n",
       "    <tr>\n",
       "      <th id=\"T_71902_level0_row6\" class=\"row_heading level0 row6\" >6</th>\n",
       "      <td id=\"T_71902_row6_col0\" class=\"data row6 col0\" >Implement Blog Section</td>\n",
       "      <td id=\"T_71902_row6_col1\" class=\"data row6 col1\" >56.000000</td>\n",
       "      <td id=\"T_71902_row6_col2\" class=\"data row6 col2\" >['Jane Doe']</td>\n",
       "    </tr>\n",
       "    <tr>\n",
       "      <th id=\"T_71902_level0_row7\" class=\"row_heading level0 row7\" >7</th>\n",
       "      <td id=\"T_71902_row7_col0\" class=\"data row7 col0\" >Optimize Loading Times & SEO</td>\n",
       "      <td id=\"T_71902_row7_col1\" class=\"data row7 col1\" >56.000000</td>\n",
       "      <td id=\"T_71902_row7_col2\" class=\"data row7 col2\" >['Jane Doe', 'Alice Johnson', 'Tom Brown']</td>\n",
       "    </tr>\n",
       "    <tr>\n",
       "      <th id=\"T_71902_level0_row8\" class=\"row_heading level0 row8\" >8</th>\n",
       "      <td id=\"T_71902_row8_col0\" class=\"data row8 col0\" >Integrate Social Media Links</td>\n",
       "      <td id=\"T_71902_row8_col1\" class=\"data row8 col1\" >24.000000</td>\n",
       "      <td id=\"T_71902_row8_col2\" class=\"data row8 col2\" >['Jane Doe']</td>\n",
       "    </tr>\n",
       "    <tr>\n",
       "      <th id=\"T_71902_level0_row9\" class=\"row_heading level0 row9\" >9</th>\n",
       "      <td id=\"T_71902_row9_col0\" class=\"data row9 col0\" >Include Testimonials Section</td>\n",
       "      <td id=\"T_71902_row9_col1\" class=\"data row9 col1\" >16.000000</td>\n",
       "      <td id=\"T_71902_row9_col2\" class=\"data row9 col2\" >['Jane Doe']</td>\n",
       "    </tr>\n",
       "  </tbody>\n",
       "</table>\n"
      ],
      "text/plain": [
       "<pandas.io.formats.style.Styler at 0x7f8cf0a18d90>"
      ]
     },
     "execution_count": 14,
     "metadata": {},
     "output_type": "execute_result"
    }
   ],
   "source": [
    "tasks = result.pydantic.dict()['tasks']\n",
    "df_tasks = pd.DataFrame(tasks)\n",
    "\n",
    "# Display the DataFrame as an HTML table\n",
    "df_tasks.style.set_table_attributes('border=\"1\"').set_caption(\"Task Details\").set_table_styles(\n",
    "    [{'selector': 'th, td', 'props': [('font-size', '120%')]}]\n",
    ")"
   ]
  },
  {
   "cell_type": "markdown",
   "id": "1210cae8-e028-4f7e-90ed-950ef86d41e5",
   "metadata": {},
   "source": [
    "### Inspecting Milestones"
   ]
  },
  {
   "cell_type": "code",
   "execution_count": 15,
   "id": "91c2f18c-2d5b-41a9-837b-265e7aa245d0",
   "metadata": {
    "height": 132
   },
   "outputs": [
    {
     "data": {
      "text/html": [
       "<style type=\"text/css\">\n",
       "#T_ae8c1 th {\n",
       "  font-size: 120%;\n",
       "}\n",
       "#T_ae8c1  td {\n",
       "  font-size: 120%;\n",
       "}\n",
       "</style>\n",
       "<table id=\"T_ae8c1\" border=\"1\">\n",
       "  <caption>Task Details</caption>\n",
       "  <thead>\n",
       "    <tr>\n",
       "      <th class=\"blank level0\" >&nbsp;</th>\n",
       "      <th id=\"T_ae8c1_level0_col0\" class=\"col_heading level0 col0\" >milestone_name</th>\n",
       "      <th id=\"T_ae8c1_level0_col1\" class=\"col_heading level0 col1\" >tasks</th>\n",
       "    </tr>\n",
       "  </thead>\n",
       "  <tbody>\n",
       "    <tr>\n",
       "      <th id=\"T_ae8c1_level0_row0\" class=\"row_heading level0 row0\" >0</th>\n",
       "      <td id=\"T_ae8c1_row0_col0\" class=\"data row0 col0\" >Design Phase Completed</td>\n",
       "      <td id=\"T_ae8c1_row0_col1\" class=\"data row0 col1\" >['Create Responsive Design', 'Implement User Interface', \"Design 'Services' Page\"]</td>\n",
       "    </tr>\n",
       "    <tr>\n",
       "      <th id=\"T_ae8c1_level0_row1\" class=\"row_heading level0 row1\" >1</th>\n",
       "      <td id=\"T_ae8c1_row1_col0\" class=\"data row1 col0\" >Development Phase Completed</td>\n",
       "      <td id=\"T_ae8c1_row1_col1\" class=\"data row1 col1\" >['Develop Navigation System', \"Create 'About Us' Page\", \"Create 'Contact Us' Page\", 'Implement Blog Section']</td>\n",
       "    </tr>\n",
       "    <tr>\n",
       "      <th id=\"T_ae8c1_level0_row2\" class=\"row_heading level0 row2\" >2</th>\n",
       "      <td id=\"T_ae8c1_row2_col0\" class=\"data row2 col0\" >Final Optimization Completed</td>\n",
       "      <td id=\"T_ae8c1_row2_col1\" class=\"data row2 col1\" >['Optimize Loading Times & SEO', 'Integrate Social Media Links', 'Include Testimonials Section']</td>\n",
       "    </tr>\n",
       "  </tbody>\n",
       "</table>\n"
      ],
      "text/plain": [
       "<pandas.io.formats.style.Styler at 0x7f8cef562910>"
      ]
     },
     "execution_count": 15,
     "metadata": {},
     "output_type": "execute_result"
    }
   ],
   "source": [
    "milestones = result.pydantic.dict()['milestones']\n",
    "df_milestones = pd.DataFrame(milestones)\n",
    "\n",
    "# Display the DataFrame as an HTML table\n",
    "df_milestones.style.set_table_attributes('border=\"1\"').set_caption(\"Task Details\").set_table_styles(\n",
    "    [{'selector': 'th, td', 'props': [('font-size', '120%')]}]\n",
    ")"
   ]
  },
  {
   "cell_type": "code",
   "execution_count": null,
   "id": "a593fd80-36ef-48a1-a7c7-e45c37815f67",
   "metadata": {
    "height": 30
   },
   "outputs": [],
   "source": []
  },
  {
   "cell_type": "code",
   "execution_count": null,
   "id": "2e2c2526-de6d-4006-bd25-8c51e1f3d5f7",
   "metadata": {
    "height": 30
   },
   "outputs": [],
   "source": []
  },
  {
   "cell_type": "code",
   "execution_count": null,
   "id": "1ac3e1e0-e14f-446e-a912-18794337925c",
   "metadata": {
    "height": 30
   },
   "outputs": [],
   "source": []
  },
  {
   "cell_type": "code",
   "execution_count": null,
   "id": "c34b5062-29e2-4fbb-b771-02f5f547e47c",
   "metadata": {
    "height": 30
   },
   "outputs": [],
   "source": []
  },
  {
   "cell_type": "code",
   "execution_count": null,
   "id": "70303180-389e-4e90-8444-aba384ec8751",
   "metadata": {
    "height": 30
   },
   "outputs": [],
   "source": []
  },
  {
   "cell_type": "code",
   "execution_count": null,
   "id": "109926d3-50e5-43e7-87f8-a1d38e45d79d",
   "metadata": {
    "height": 30
   },
   "outputs": [],
   "source": []
  }
 ],
 "metadata": {
  "kernelspec": {
   "display_name": "Python 3 (ipykernel)",
   "language": "python",
   "name": "python3"
  },
  "language_info": {
   "codemirror_mode": {
    "name": "ipython",
    "version": 3
   },
   "file_extension": ".py",
   "mimetype": "text/x-python",
   "name": "python",
   "nbconvert_exporter": "python",
   "pygments_lexer": "ipython3",
   "version": "3.11.9"
  }
 },
 "nbformat": 4,
 "nbformat_minor": 5
}
