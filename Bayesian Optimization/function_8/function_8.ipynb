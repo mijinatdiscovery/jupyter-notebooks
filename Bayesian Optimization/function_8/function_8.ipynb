{
 "cells": [
  {
   "cell_type": "code",
   "execution_count": 1,
   "metadata": {
    "id": "wgiUppZDI97Y"
   },
   "outputs": [],
   "source": [
    "import pandas as pd\n",
    "import numpy as np\n",
    "import matplotlib.pyplot as plt\n",
    "from sklearn.metrics import mean_squared_error\n",
    "from sklearn.model_selection import cross_val_score\n",
    "from skopt import BayesSearchCV\n",
    "from skopt.space import Real, Integer, Categorical\n",
    "from sklearn.model_selection import train_test_split\n",
    "from sklearn.svm import SVR"
   ]
  },
  {
   "cell_type": "markdown",
   "metadata": {},
   "source": [
    "# Problem\n",
    "High-dimensional Optimisation - You’ve reach the final, 8-dimensional search space. High-dimensional black-box optimisation can be very difficult, so sticking to local solutions is not the worst idea here."
   ]
  },
  {
   "cell_type": "code",
   "execution_count": 2,
   "metadata": {},
   "outputs": [],
   "source": [
    "np.int = np.int_"
   ]
  },
  {
   "cell_type": "code",
   "execution_count": 3,
   "metadata": {},
   "outputs": [],
   "source": [
    "X = np.load('initial_inputs.npy')\n",
    "Y = np.load('initial_outputs.npy')"
   ]
  },
  {
   "cell_type": "code",
   "execution_count": 4,
   "metadata": {},
   "outputs": [],
   "source": [
    "# data = pd.read_csv('../observations.csv')\n",
    "# data = data[data['Fn'] == 8]\n",
    "# X_ = data[['X1', 'X2', 'X3', 'X4', 'X5', 'X6', 'X7', 'X8']]\n",
    "# Y_ = data['Y']\n",
    "\n",
    "# X = np.concatenate((X, X_), axis=0)\n",
    "# Y = np.append(Y, Y_)"
   ]
  },
  {
   "cell_type": "code",
   "execution_count": 5,
   "metadata": {},
   "outputs": [],
   "source": [
    "X_train, X_test, y_train, y_test = train_test_split(X, Y, random_state=1234)"
   ]
  },
  {
   "cell_type": "code",
   "execution_count": 279,
   "metadata": {},
   "outputs": [
    {
     "name": "stdout",
     "output_type": "stream",
     "text": [
      "train. score: 0.9996830924000897\n",
      "test score: 0.9997934165608959\n",
      "best params: OrderedDict([('C', 27903.0280395747), ('epsilon', 2.5980856908077314e-05), ('gamma', 0.018575432525474667), ('kernel', 'rbf')])\n",
      "Mean Squared Error of the Best Model: 0.0006450822854883764\n"
     ]
    }
   ],
   "source": [
    "search_space = {\n",
    "    'C': Real(1e-6, 1e+6, prior='log-uniform'),\n",
    "    'epsilon': Real(1e-6, 1e+1, prior='log-uniform'),\n",
    "    'gamma': Real(1e-6, 1e+1, prior='log-uniform'),\n",
    "    'kernel': Categorical(['rbf'])\n",
    "}\n",
    "\n",
    "bayes_search = BayesSearchCV(\n",
    "    SVR(),\n",
    "    search_spaces=search_space,\n",
    "    n_iter=65, \n",
    "    cv=5\n",
    ")\n",
    "bayes_search.fit(X_train_scaled, y_train)\n",
    "print(\"train. score: %s\" % bayes_search.best_score_)\n",
    "print(\"test score: %s\" % bayes_search.score(X_test_scaled, y_test))\n",
    "print(\"best params: %s\" % str(bayes_search.best_params_))\n",
    "\n",
    "best_estimator = bayes_search.best_estimator_\n",
    "\n",
    "# Evaluate the best model\n",
    "predictions = best_estimator.predict(X_test_scaled)\n",
    "mse = mean_squared_error(y_test, predictions)\n",
    "print(\"Mean Squared Error of the Best Model:\", mse)"
   ]
  },
  {
   "cell_type": "markdown",
   "metadata": {},
   "source": [
    "Week 10 - train. score: 0.9995435490616366\n",
    "test score: 0.9999318559534323\n",
    "best params: OrderedDict([('C', 70456.96103165064), ('epsilon', 0.0003361820264921724), ('gamma', 0.014152435180834103), ('kernel', 'rbf')])\n",
    "Mean Squared Error of the Best Model: 0.0001385720333001916\n",
    "\n",
    "Week 8 - train. score: 0.9993964367496003\n",
    "test score: 0.999865397447822\n",
    "best params: OrderedDict([('C', 33751.02108675229), ('epsilon', 1.5076977582664344e-05), ('gamma', 0.028741317952931125), ('kernel', 'rbf')])\n",
    "Mean Squared Error of the Best Model: 0.0002590002109514943\n",
    "\n",
    "Week 7 - train. score: 0.9786263058971375\n",
    "test score: 0.9951265829936222\n",
    "best params: OrderedDict([('C', 5607.275056505338), ('epsilon', 1.5962500716886472e-05), ('gamma', 0.015357818918361629), ('kernel', 'rbf')])\n",
    "Mean Squared Error of the Best Model: 0.007173837196658522\n",
    "\n",
    "Week 5 -\n",
    "train. score: 0.9593122727778879\n",
    "test score: 0.9973420750058608\n",
    "best params: OrderedDict([('C', 7340.555840276544), ('epsilon', 0.00022964149320824618), ('gamma', 0.019763592385008463), ('kernel', 'rbf')])\n",
    "Mean Squared Error of the Best Model: 0.003622031250744552"
   ]
  },
  {
   "cell_type": "code",
   "execution_count": 357,
   "metadata": {
    "scrolled": true
   },
   "outputs": [],
   "source": [
    "# When exploring a large search space if needed.\n",
    "search_space = [(0, 1),(0, 1),(0, 1),(0, 1),(0, 1),(0, 1), (0, 1),(0, 1)]\n",
    "# Narrowing down the focus (± 0.1/0.01) to the areas known to yield good results when evaluating.\n",
    "search_space = [(0.09341, 0.10402), (0.1451, 0.155134), (0.122341, 0.13468), (0.144059, 0.154240), (0.798709, 0.8087), (0.489635, 0.5), (0.19221161, 0.208255), (0.570933, 0.58121933)]\n",
    "num_candidates = 100^8\n",
    "\n",
    "best_value = 10.00002\n",
    "# Optimization for loop.\n",
    "for i in range(10000000):\n",
    "    candidates = np.random.uniform(low=[s[0] for s in search_space],\n",
    "                               high=[s[1] for s in search_space],\n",
    "                               size=(num_candidates, len(search_space)))\n",
    "\n",
    "    predicted_values = best_estimator.predict(candidates)\n",
    "\n",
    "    max_index = np.argmax(predicted_values)\n",
    "    max_optima_value = predicted_values[max_index]\n",
    "    if max_optima_value > best_value:\n",
    "        best_value = max_optima_value\n",
    "        max_optima_point = candidates[max_index]\n",
    "        print(\"Maximum Optima Point:\", max_optima_point)\n",
    "        print(\"Maximum Optima Value:\", max_optima_value)"
   ]
  },
  {
   "cell_type": "code",
   "execution_count": 349,
   "metadata": {},
   "outputs": [
    {
     "name": "stdout",
     "output_type": "stream",
     "text": [
      "10.00002074160048\n",
      "0.099802-0.145820-0.132512-0.156556-0.804737-0.499757-0.199474-0.581027\n"
     ]
    }
   ],
   "source": [
    "print(best_value)\n",
    "rounded = [format(value, \".6f\") for value in max_optima_point]\n",
    "separator = \"-\"\n",
    "string = separator.join(map(str, rounded))\n",
    "print(string)"
   ]
  },
  {
   "cell_type": "code",
   "execution_count": 350,
   "metadata": {},
   "outputs": [
    {
     "name": "stdout",
     "output_type": "stream",
     "text": [
      "New Search Space: [(0.09341, 0.10402), (0.1451, 0.155134), (0.12234199999999999, 0.13468), (0.144059, 0.15424000000000002), (0.798709, 0.8087), (0.489635, 0.5), (0.19221161, 0.208255), (0.570933, 0.58121933)]\n"
     ]
    }
   ],
   "source": [
    "optimal_point = [0.098945, 0.148167, 0.132342, 0.14424 , 0.800284, 0.499635,\n",
    "       0.198255, 0.580933]\n",
    "new_search_space = []\n",
    "\n",
    "for i, (start, end) in enumerate(search_space):\n",
    "    optimal_value = optimal_point[i]\n",
    "    new_range = (max(start, optimal_value - 0.01), min(end, optimal_value + 0.01))\n",
    "    new_search_space.append(new_range)\n",
    "\n",
    "print(\"New Search Space:\", new_search_space)"
   ]
  },
  {
   "cell_type": "code",
   "execution_count": 334,
   "metadata": {},
   "outputs": [
    {
     "name": "stdout",
     "output_type": "stream",
     "text": [
      "[9.99984974]\n"
     ]
    }
   ],
   "source": [
    "# Test the best optimal points from the previous restuls if it prediects closely. \n",
    "print(best_estimator.predict([[0.098945, 0.148167, 0.132342, 0.14424 , 0.800284, 0.499635,\n",
    "       0.198255, 0.580933]]))"
   ]
  },
  {
   "cell_type": "markdown",
   "metadata": {},
   "source": [
    "# Retrain the best model previously found if needed"
   ]
  },
  {
   "cell_type": "code",
   "execution_count": 333,
   "metadata": {},
   "outputs": [
    {
     "name": "stdout",
     "output_type": "stream",
     "text": [
      "train. score: 0.9996776030799633\n",
      "test score: 0.9999213174586448\n",
      "best params: OrderedDict([('C', 31082.87635117268), ('epsilon', 3.934829925239749e-05), ('gamma', 0.01217577172253597), ('kernel', 'rbf')])\n",
      "Mean Squared Error: 0.00024569594651737493\n"
     ]
    }
   ],
   "source": [
    "# X_train = np.concatenate((X_train, [[0.098945, 0.148167, 0.132342, 0.14424 , 0.800284, 0.499635,\n",
    "#        0.198255, 0.580933]]), axis=0)\n",
    "# y_train = np.append(y_train, 9.9999021629171)\n",
    "\n",
    "# Fit the optimizer to your data\n",
    "bayes_search.fit(X_train, y_train)\n",
    "print(\"train. score: %s\" % bayes_search.best_score_)\n",
    "print(\"test score: %s\" % bayes_search.score(X_test, y_test))\n",
    "print(\"best params: %s\" % str(bayes_search.best_params_))\n",
    "\n",
    "best_estimator = bayes_search.best_estimator_\n",
    "# Make predictions on the test data using the best estimator\n",
    "predictions = best_estimator.predict(X_test)\n",
    "\n",
    "# Evaluate the performance of the best estimator\n",
    "mse = mean_squared_error(y_test, predictions)\n",
    "print(\"Mean Squared Error:\", mse)"
   ]
  },
  {
   "cell_type": "markdown",
   "metadata": {},
   "source": [
    "Week 11 - train. score: 0.9996632979356551\n",
    "test score: 0.9996053575912377\n",
    "best params: OrderedDict([('C', 45068.694373509294), ('epsilon', 8.570482998478355e-06), ('gamma', 0.020413393116625187), ('kernel', 'rbf')])\n",
    "Mean Squared Error: 0.0012323196288102016\n",
    "\n",
    "Week 12 - train. score: 0.9996776030799633\n",
    "test score: 0.9999213174586448\n",
    "best params: OrderedDict([('C', 31082.87635117268), ('epsilon', 3.934829925239749e-05), ('gamma', 0.01217577172253597), ('kernel', 'rbf')])\n",
    "Mean Squared Error: 0.00024569594651737493"
   ]
  }
 ],
 "metadata": {
  "colab": {
   "provenance": []
  },
  "interpreter": {
   "hash": "d37abda7630e259e5026a5079657683a09f6e3d11473720762ebe7250c494840"
  },
  "kernelspec": {
   "display_name": "Python 3 (ipykernel)",
   "language": "python",
   "name": "python3"
  },
  "language_info": {
   "codemirror_mode": {
    "name": "ipython",
    "version": 3
   },
   "file_extension": ".py",
   "mimetype": "text/x-python",
   "name": "python",
   "nbconvert_exporter": "python",
   "pygments_lexer": "ipython3",
   "version": "3.11.8"
  }
 },
 "nbformat": 4,
 "nbformat_minor": 4
}
