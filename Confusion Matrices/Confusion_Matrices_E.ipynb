{
 "cells": [
  {
   "cell_type": "code",
   "execution_count": 1,
   "id": "010bb7d1",
   "metadata": {},
   "outputs": [],
   "source": [
    "import numpy as np\n",
    "from sklearn import metrics\n",
    "from sklearn.preprocessing import PolynomialFeatures\n",
    "from sklearn.linear_model import LinearRegression\n",
    "from sklearn.pipeline import Pipeline\n",
    "import pathlib as pl\n",
    "import os \n",
    "import pandas as pd\n",
    "import seaborn as sn\n",
    "import matplotlib.pyplot as plt"
   ]
  },
  {
   "cell_type": "markdown",
   "id": "a1b8c436",
   "metadata": {},
   "source": [
    "# Breast Cancer Screening Classification \n",
    "\n",
    "The dataset you will be working with comes from The Breast Cancer Surveillance Consortium, an American organisation that does research into Breast Cancer. To download a fresh copy of the dataset, go to https://www.bcsc-research.org/data/rfdataset, and for information on each of variables in the dataset, see https://www.bcsc-research.org/data/mammography_dataset/dataset_documentation.\n",
    "\n",
    "In this notebook you will be looking at the effectiveness of mammogram breast cancer screening for women aged 60-83. For more information on breast cancer screening see https://www.cancerresearchuk.org/about-cancer/breast-cancer/getting-diagnosed/screening/breast-screening\n",
    "\n",
    "In this notebook you will create confusion matrices and calculate the specificity and sensitivity of both the whole data and each age group within the datasets. "
   ]
  },
  {
   "cell_type": "markdown",
   "id": "15e938dc",
   "metadata": {},
   "source": [
    "### First load the dataset"
   ]
  },
  {
   "cell_type": "code",
   "execution_count": 2,
   "id": "9ccd9095",
   "metadata": {},
   "outputs": [
    {
     "name": "stdout",
     "output_type": "stream",
     "text": [
      "   age_c  assess_c  cancer_c  compfilm_c  density_c  famhx_c  hrt_c  prvmam_c  \\\n",
      "0     62         1         0           1          2        0      0         1   \n",
      "1     65         1         0           1          4        0      0         1   \n",
      "2     69         0         0           1          2        0      0         1   \n",
      "3     64         2         0           1          2        0      0         1   \n",
      "4     63         3         0           1          2        0      0         1   \n",
      "\n",
      "   biophx_c  mammtype  CaTypeO      bmi_c  ptid  \n",
      "0         0         1        8  24.023544     1  \n",
      "1         0         1        8 -99.000000     2  \n",
      "2         0         1        8  29.052429     3  \n",
      "3         0         1        8 -99.000000     4  \n",
      "4         1         1        8  33.729523     5  \n"
     ]
    }
   ],
   "source": [
    "path_csv = pl.Path(os.getcwd()) / f'dataset.csv'\n",
    "with open(path_csv, 'rb') as file:\n",
    "    data = pd.read_csv(file)\n",
    "print(data.head())"
   ]
  },
  {
   "cell_type": "markdown",
   "id": "d024876a",
   "metadata": {},
   "source": [
    "## Section 1: Confusion Matrix \n",
    "\n",
    "### TODO: Write code to create a confusion matrix for the dataset\n",
    "\n",
    "For this dataset, we are comparing the radiologist's assessment to the true cancer state of the patient. \n",
    "\n",
    "Values of  1, 2 or 3 in the assess_c column are counted as being predictions of no cancer, while predictions of 0, 4 or 5 are counted as being predictions of cancer. \n",
    "\n",
    "Use the 'cancer_c' column as the true indicator of if the patient has cancer, with 0 indicating no cancer and 1 indicating cancer. \n",
    "\n",
    "Use these values to calculate the number of true positives, false negatives, true negatives and false positives and plot a confusion matrix. \n",
    "\n",
    "HINT: you can use seaborn heatmaps to plot your confusion matrix. If you convert your confusion matrix into a dataframe first with correctly labelled columns and indexes, you can get the correct labels on your heatmap. "
   ]
  },
  {
   "cell_type": "code",
   "execution_count": 14,
   "id": "97f3e299",
   "metadata": {},
   "outputs": [
    {
     "name": "stdout",
     "output_type": "stream",
     "text": [
      "[[36856  2885]\n",
      " [   33   226]]\n"
     ]
    },
    {
     "data": {
      "text/plain": [
       "<Axes: >"
      ]
     },
     "execution_count": 14,
     "metadata": {},
     "output_type": "execute_result"
    },
    {
     "data": {
      "image/png": "[encoded data removed]",
      "text/plain": [
       "<Figure size 640x480 with 2 Axes>"
      ]
     },
     "metadata": {},
     "output_type": "display_data"
    }
   ],
   "source": [
    "def predict_cancer(data):\n",
    "    predicted = [None] * data.size\n",
    "    for i, value in enumerate(data):\n",
    "        if (value == 1 or value == 2 or value == 3):\n",
    "            predicted[i] = 0\n",
    "        elif value == 0 or value == 4 or value == 5:\n",
    "            predicted[i] = 1\n",
    "    return predicted\n",
    "\n",
    "actual = data['cancer_c']\n",
    "predicted = predict_cancer(data['assess_c'])\n",
    "\n",
    "confusion_matrix = metrics.confusion_matrix(actual, predicted)\n",
    "print(confusion_matrix)\n",
    "sn.heatmap(confusion_matrix, annot=True)"
   ]
  },
  {
   "cell_type": "markdown",
   "id": "61243425",
   "metadata": {},
   "source": [
    "## Section 2: Calculate the Sensitivity and Specificity \n",
    "\n",
    "### TODO: Write a function to calculate the sensitivity and specificity of the breast cancer screening \n",
    "\n",
    "Calculate the sensitivity and specificity of the breast cancer screening and answer the first questions that go alongside this notebook. "
   ]
  },
  {
   "cell_type": "code",
   "execution_count": 15,
   "id": "02dd1890",
   "metadata": {},
   "outputs": [
    {
     "name": "stdout",
     "output_type": "stream",
     "text": [
      "0.8725868725868726 0.9274049470320324\n"
     ]
    }
   ],
   "source": [
    "sensitivity = metrics.recall_score(actual, predicted)\n",
    "specificity = metrics.recall_score(actual, predicted, pos_label=0)\n",
    "print(sensitivity, specificity)"
   ]
  }
 ],
 "metadata": {
  "kernelspec": {
   "display_name": "Python 3 (ipykernel)",
   "language": "python",
   "name": "python3"
  },
  "language_info": {
   "codemirror_mode": {
    "name": "ipython",
    "version": 3
   },
   "file_extension": ".py",
   "mimetype": "text/x-python",
   "name": "python",
   "nbconvert_exporter": "python",
   "pygments_lexer": "ipython3",
   "version": "3.11.4"
  }
 },
 "nbformat": 4,
 "nbformat_minor": 5
}
