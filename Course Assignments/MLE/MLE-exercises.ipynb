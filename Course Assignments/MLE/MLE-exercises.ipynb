{
 "cells": [
  {
   "cell_type": "code",
   "execution_count": 1,
   "id": "043da400",
   "metadata": {},
   "outputs": [],
   "source": [
    "import numpy as np\n",
    "from scipy.stats import bernoulli"
   ]
  },
  {
   "cell_type": "markdown",
   "id": "44ed6541",
   "metadata": {},
   "source": [
    "## Q1. Load the file \"sample_1.npy\" and convert it to a binary array\n",
    "- This is simply a Numpy array of previous tosses of a single coin\n",
    "- Convert it to 0/1's instead of H/T's"
   ]
  },
  {
   "cell_type": "code",
   "execution_count": 2,
   "id": "8e9cb0cb",
   "metadata": {},
   "outputs": [],
   "source": [
    "#search for how to load a \".npy\" file\n",
    "sample = np.load('sample_1.npy')"
   ]
  },
  {
   "cell_type": "code",
   "execution_count": 3,
   "id": "760bdc85",
   "metadata": {},
   "outputs": [],
   "source": [
    "#convert 'sample' to a binary array\n",
    "sample = np.array([1 if x == \"H\" else 0 for x in sample])"
   ]
  },
  {
   "cell_type": "markdown",
   "id": "2f1f7da2",
   "metadata": {},
   "source": [
    "## Q2. Answer the following\n",
    "- How many coin tosses do we have recorded?\n",
    "- How many \"heads\" are there in total?\n",
    "- What is the maximum number of consecutive \"heads\" appearing together?"
   ]
  },
  {
   "cell_type": "code",
   "execution_count": 4,
   "id": "e4b5b2e0",
   "metadata": {},
   "outputs": [
    {
     "name": "stdout",
     "output_type": "stream",
     "text": [
      "1000\n"
     ]
    }
   ],
   "source": [
    "#total coin tosses\n",
    "n = sample.size\n",
    "print(n)"
   ]
  },
  {
   "cell_type": "code",
   "execution_count": 5,
   "id": "1b8a0c6c",
   "metadata": {},
   "outputs": [
    {
     "name": "stdout",
     "output_type": "stream",
     "text": [
      "620\n"
     ]
    }
   ],
   "source": [
    "#number of heads\n",
    "heads_total = sum(sample)\n",
    "print(heads_total)"
   ]
  },
  {
   "cell_type": "code",
   "execution_count": 6,
   "id": "4d5ccf02",
   "metadata": {},
   "outputs": [
    {
     "name": "stdout",
     "output_type": "stream",
     "text": [
      "15\n"
     ]
    }
   ],
   "source": [
    "#number of max running heads\n",
    "def max_running_heads(sequence = sample):\n",
    "    max_count = 0\n",
    "    current_count = 0\n",
    "    for toss in sequence:\n",
    "        if toss == 1:\n",
    "            current_count += 1\n",
    "            if current_count > max_count:\n",
    "                max_count = current_count\n",
    "        else:\n",
    "            current_count = 0\n",
    "    return max_count\n",
    "\n",
    "max_running = max_running_heads()\n",
    "print(max_running)"
   ]
  },
  {
   "cell_type": "markdown",
   "id": "a379dbc6",
   "metadata": {},
   "source": [
    "## Q3: Find the MLE estimate for $\\theta$ \n",
    "- $\\theta$ is the probability of head showing in a single toss"
   ]
  },
  {
   "cell_type": "code",
   "execution_count": 7,
   "id": "c8a29acf",
   "metadata": {},
   "outputs": [
    {
     "name": "stdout",
     "output_type": "stream",
     "text": [
      "There were 620 many H's in the given sample.\n",
      "0.62\n"
     ]
    }
   ],
   "source": [
    "print(\"There were\", np.sum(sample),\"many H's in the given sample.\")\n",
    "hat_theta = np.mean(sample)\n",
    "print(hat_theta)"
   ]
  },
  {
   "cell_type": "markdown",
   "id": "cdea341a",
   "metadata": {},
   "source": [
    "## Q4: Load the file \"sample_2.npy\"\n",
    "- You analyze a new coin, where there are 1 million tosses of the same coin where the true $\\theta$ value is $0.97$\n",
    "- Here \"1\" stands for \"head\""
   ]
  },
  {
   "cell_type": "code",
   "execution_count": 8,
   "id": "9d933f33",
   "metadata": {},
   "outputs": [],
   "source": [
    "#load the file\n",
    "sample_2 = np.load('sample_2.npy')"
   ]
  },
  {
   "cell_type": "markdown",
   "id": "21473815",
   "metadata": {},
   "source": [
    "## Q5: After how many tosses, your MLE estimate is within $[0.97001, 0.96999]$ \n",
    "- report the minimum number that satisfies this"
   ]
  },
  {
   "cell_type": "code",
   "execution_count": 9,
   "id": "dd819f45",
   "metadata": {},
   "outputs": [],
   "source": [
    "#first compute the running ratios\n",
    "ratios = np.cumsum(sample_2) / (np.arange(1,pow(10,6)+ 1))"
   ]
  },
  {
   "cell_type": "code",
   "execution_count": 10,
   "id": "6508427a",
   "metadata": {},
   "outputs": [
    {
     "name": "stdout",
     "output_type": "stream",
     "text": [
      "Number of tosses required: 5298\n"
     ]
    }
   ],
   "source": [
    "smallest_accurate_n = np.argmax((ratios >= 0.96999) & (ratios <= 0.97001))\n",
    "print(\"Number of tosses required:\", smallest_accurate_n)"
   ]
  }
 ],
 "metadata": {
  "kernelspec": {
   "display_name": "Python 3 (ipykernel)",
   "language": "python",
   "name": "python3"
  },
  "language_info": {
   "codemirror_mode": {
    "name": "ipython",
    "version": 3
   },
   "file_extension": ".py",
   "mimetype": "text/x-python",
   "name": "python",
   "nbconvert_exporter": "python",
   "pygments_lexer": "ipython3",
   "version": "3.11.4"
  }
 },
 "nbformat": 4,
 "nbformat_minor": 5
}
