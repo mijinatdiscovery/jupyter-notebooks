{
 "cells": [
  {
   "cell_type": "markdown",
   "metadata": {
    "id": "7r_EEpmLUyZt"
   },
   "source": [
    "# Module 11, Naïve Bayes\n"
   ]
  },
  {
   "cell_type": "markdown",
   "metadata": {
    "id": "4pRn7lklUyZ0"
   },
   "source": [
    "## Assignment overview\n",
    "\n",
    "\n",
    "In this assignment, we will apply the Naïve Bayes technique to a database that contains text messages.\n",
    "Naïve Bayes is a classification technique based on Bayes’ Theorem with an assumption of independence among predictors. \n",
    "\n",
    "For clarity, Bayes' Theorem is stated mathematically as the following equation,\n",
    "\n",
    "$$P(A | B) = \\frac{P(B|A)P(A)}{P(B)},$$\n",
    "\n",
    "where\n",
    "\n",
    " - $P(A| B)$ is a conditional probability: the likelihood of event $A$ occurring given that $B$ is true.\n",
    " - $P(B|A)$ is also a conditional probability: the likelihood of event $B$ occurring given that $A$ is true.\n",
    " - $P(A)$ and $P(B)$ are the probabilities of observing $A$ and $B$.\n",
    "\n",
    "\n",
    "In simple terms, a Naïve Bayes classifier assumes that the presence of a particular feature in a class is unrelated to the presence of any other feature. For example, a fruit may be considered to be an apple if it is red, round, and about three inches in diameter. Even if these features depend on each other or upon the existence of the other features, these properties independently contribute to the probability that this fruit is an apple and that is why it is known as ‘Naïve’.\n",
    "\n",
    "This assignment is designed to help you apply the machine learning algorithms you have learnt using packages in Python. Python concepts, instructions, and the starter code are embedded within this Jupyter Notebook to help guide you as you progress through the assignment. Remember to run the code of each code cell prior to your submission. Upon completing the assignment, we encourage you to compare your work against the solution file to perform a self assessment.\n",
    "\n",
    "\n",
    "### Learning objectives\n",
    "\n",
    "- Use Bayes's Theorem to calculate  conditional probabilities\n",
    "- Outline the exact Bayes algorithm and the drawbacks to this approach\n",
    "- Outline the exact Naïve Bayes algorithm and explain the class-conditional independence\n",
    "- Discuss real-life applications of Naïve Bayes"
   ]
  },
  {
   "cell_type": "markdown",
   "metadata": {
    "id": "k2Vivg6RUyZ3"
   },
   "source": [
    "## Index:\n",
    "\n",
    "\n",
    "#### Module 11:  Naïve Bayes\n",
    "\n",
    "- [Part 1 - Importing the Dataset and Exploratory Data Analysis (EDA)](#part1)\n",
    "- [Part 2 - Shuffling  and splitting the text messages](#part3)\n",
    "- [Part 3 - Building a simple Naïve Bayes classifier from scratch](#part4)\n",
    "- [Part 4 - Explaining the code given in Part 4](#part5)\n",
    "- [Part 5 - Train the classifier `train`](#part6)\n",
    "- [Part 6 - Explore the performance of `train` classifier ](#part7)\n",
    "- [Part 7 - Training the train2 classifier ](#part9)\n"
   ]
  },
  {
   "cell_type": "markdown",
   "metadata": {
    "id": "XmQvran_UyZ4"
   },
   "source": [
    "\n",
    "## Module 11:  Naïve Bayes \n",
    "\n",
    "\n",
    "In Week 8, you learned about the **Naïve Bayes algorithm ** for classification. \n",
    "\n",
    "The pseudo-algorithm for Naïve Bayes can be summarized as follows: \n",
    "1. Load the training and test data \n",
    "2. Shuffle the messages and split them\n",
    "3. Build a simple Naïve Bayes classifier from scratch\n",
    "4. Train the classifier and explore the performance"
   ]
  },
  {
   "cell_type": "markdown",
   "metadata": {
    "id": "ZmdHxDfIUyZ6"
   },
   "source": [
    "###  Build a Naïve Bayes spam filter\n",
    "\n",
    "\n",
    "For this exercise, we will use the data set  “SMSSpamCollection” (downloadable from [here](https://archive.ics.uci.edu/ml/machine-learning-databases/00228/)) to build a Naïve Bayes spam filter by going through the following steps:\n",
    "\n",
    "1. Load the data file.\n",
    "2. Shuffle the messages and split them into a training set (2,500 messages), a validation set (1,000 messages) and a test set (all remaining messages).\n",
    "3. Build a simple Naïve Bayes classifier. While Python’s SciKit-Learn library has a Naïve Bayes classifier, it works with continuous probability distributions and assumes numerical features. Although it is possible to transform categorical variables into numerical features using a binary encoding, we will instead build a simple Naïve Bayes classifier from scratch.\n",
    "4. Explain the code given in Part 3.\n",
    "5. Use your training set to train the classifier ‘train’. Note that the interfaces of our classifiers require you to pass the ham and spam messages separately.\n",
    "6. Using the validation set, explore how the  classifier performs out-of-sample.\n",
    "7. Define a second classifier, and compare its performance with the one defined in Part 3.\n"
   ]
  },
  {
   "cell_type": "markdown",
   "metadata": {
    "id": "CdjOCwCNUyZ8"
   },
   "source": [
    "[Back to top](#Index:) \n",
    "\n",
    "<a id='part1'></a>\n",
    "\n",
    "### Part 1 - Importing the data set and  exploratory data analysis (EDA)\n",
    "\n",
    "We begin by using `pandas` to import the data set. To do so, we import `pandas` first and we read the file using the `.read_csv()` function by passing the name of the data set we want to read as a string.\n",
    "\n",
    "Notice that, because the rows in the  data set are separated using a `\\t`, we specified the type of delimiter in the `.read_csv()` function (the default value is `,`). Additionally, we specified the list of column names to use (`\"label\"` and `\"sms\"`).\n",
    "\n",
    "Complete the code cell below by adding the name of the dataset inside `.read_csv()`."
   ]
  },
  {
   "cell_type": "code",
   "execution_count": null,
   "metadata": {
    "id": "teJk5MLKUyZ9"
   },
   "outputs": [],
   "source": [
    "import pandas as pd\n",
    "\n",
    "messages = pd.read_csv('SMSSpamCollection', sep = '\\t', names = [\"label\", \"sms\"])"
   ]
  },
  {
   "cell_type": "markdown",
   "metadata": {
    "id": "7lieIzzqUyaA"
   },
   "source": [
    "Before performing any algorithm on the dataframe, it is always good practice to perform exploratory data analysis.\n",
    "\n",
    "We begin by visualising the first ten rows of the dataframe df using the function .head(). By default, .head() displays the first five rows of a dataframe.\n",
    "\n",
    "Complete the code cell below by passing the desired number of rows to the function .head() as an integer."
   ]
  },
  {
   "cell_type": "code",
   "execution_count": null,
   "metadata": {
    "id": "DB2SD-SaUyaB",
    "outputId": "e2f257db-28d5-4d95-b10b-30a09144256f"
   },
   "outputs": [
    {
     "data": {
      "text/html": [
       "<div>\n",
       "<style scoped>\n",
       "    .dataframe tbody tr th:only-of-type {\n",
       "        vertical-align: middle;\n",
       "    }\n",
       "\n",
       "    .dataframe tbody tr th {\n",
       "        vertical-align: top;\n",
       "    }\n",
       "\n",
       "    .dataframe thead th {\n",
       "        text-align: right;\n",
       "    }\n",
       "</style>\n",
       "<table border=\"1\" class=\"dataframe\">\n",
       "  <thead>\n",
       "    <tr style=\"text-align: right;\">\n",
       "      <th></th>\n",
       "      <th>label</th>\n",
       "      <th>sms</th>\n",
       "    </tr>\n",
       "  </thead>\n",
       "  <tbody>\n",
       "    <tr>\n",
       "      <td>0</td>\n",
       "      <td>ham</td>\n",
       "      <td>Go until jurong point, crazy.. Available only ...</td>\n",
       "    </tr>\n",
       "    <tr>\n",
       "      <td>1</td>\n",
       "      <td>ham</td>\n",
       "      <td>Ok lar... Joking wif u oni...</td>\n",
       "    </tr>\n",
       "    <tr>\n",
       "      <td>2</td>\n",
       "      <td>spam</td>\n",
       "      <td>Free entry in 2 a wkly comp to win FA Cup fina...</td>\n",
       "    </tr>\n",
       "    <tr>\n",
       "      <td>3</td>\n",
       "      <td>ham</td>\n",
       "      <td>U dun say so early hor... U c already then say...</td>\n",
       "    </tr>\n",
       "    <tr>\n",
       "      <td>4</td>\n",
       "      <td>ham</td>\n",
       "      <td>Nah I don't think he goes to usf, he lives aro...</td>\n",
       "    </tr>\n",
       "    <tr>\n",
       "      <td>5</td>\n",
       "      <td>spam</td>\n",
       "      <td>FreeMsg Hey there darling it's been 3 week's n...</td>\n",
       "    </tr>\n",
       "    <tr>\n",
       "      <td>6</td>\n",
       "      <td>ham</td>\n",
       "      <td>Even my brother is not like to speak with me. ...</td>\n",
       "    </tr>\n",
       "    <tr>\n",
       "      <td>7</td>\n",
       "      <td>ham</td>\n",
       "      <td>As per your request 'Melle Melle (Oru Minnamin...</td>\n",
       "    </tr>\n",
       "    <tr>\n",
       "      <td>8</td>\n",
       "      <td>spam</td>\n",
       "      <td>WINNER!! As a valued network customer you have...</td>\n",
       "    </tr>\n",
       "    <tr>\n",
       "      <td>9</td>\n",
       "      <td>spam</td>\n",
       "      <td>Had your mobile 11 months or more? U R entitle...</td>\n",
       "    </tr>\n",
       "  </tbody>\n",
       "</table>\n",
       "</div>"
      ],
      "text/plain": [
       "  label                                                sms\n",
       "0   ham  Go until jurong point, crazy.. Available only ...\n",
       "1   ham                      Ok lar... Joking wif u oni...\n",
       "2  spam  Free entry in 2 a wkly comp to win FA Cup fina...\n",
       "3   ham  U dun say so early hor... U c already then say...\n",
       "4   ham  Nah I don't think he goes to usf, he lives aro...\n",
       "5  spam  FreeMsg Hey there darling it's been 3 week's n...\n",
       "6   ham  Even my brother is not like to speak with me. ...\n",
       "7   ham  As per your request 'Melle Melle (Oru Minnamin...\n",
       "8  spam  WINNER!! As a valued network customer you have...\n",
       "9  spam  Had your mobile 11 months or more? U R entitle..."
      ]
     },
     "execution_count": 5,
     "metadata": {},
     "output_type": "execute_result"
    }
   ],
   "source": [
    "messages.head(10)\n"
   ]
  },
  {
   "cell_type": "markdown",
   "metadata": {
    "id": "cTQcNRnWUyaD"
   },
   "source": [
    "\n",
    "Next, we retrieve some more information about our dataframe by using the properties `.shape` and `columns` and the function `.describe()`.\n",
    "\n",
    "Here's a brief description of what each of the above functions does:\n",
    "- shape: returns a tuple representing the dimensionality of the dataframe.\n",
    "- columns: returns the column labels of the dataframe.\n",
    "- describe(): returns summary statistics of the columns in the dataframe provided, such as mean, count, standad deviation and so on.\n",
    "\n",
    "Run the cells below to review information about the dataframe."
   ]
  },
  {
   "cell_type": "code",
   "execution_count": null,
   "metadata": {
    "id": "CriQiBBeUyaE",
    "outputId": "abba4756-8fa1-4d52-d69e-5bacbdfe311a"
   },
   "outputs": [
    {
     "data": {
      "text/plain": [
       "(5572, 2)"
      ]
     },
     "execution_count": 6,
     "metadata": {},
     "output_type": "execute_result"
    }
   ],
   "source": [
    "messages.shape"
   ]
  },
  {
   "cell_type": "code",
   "execution_count": null,
   "metadata": {
    "id": "vKJ8iSYjUyaF",
    "outputId": "46bb7598-2a17-44ed-c35f-1bf04df8fe7e"
   },
   "outputs": [
    {
     "data": {
      "text/plain": [
       "Index(['label', 'sms'], dtype='object')"
      ]
     },
     "execution_count": 7,
     "metadata": {},
     "output_type": "execute_result"
    }
   ],
   "source": [
    "messages.columns"
   ]
  },
  {
   "cell_type": "code",
   "execution_count": null,
   "metadata": {
    "id": "qyZuEFpzUyaG",
    "outputId": "5b41f3a0-a8d8-41fc-9919-015af0a06577"
   },
   "outputs": [
    {
     "data": {
      "text/html": [
       "<div>\n",
       "<style scoped>\n",
       "    .dataframe tbody tr th:only-of-type {\n",
       "        vertical-align: middle;\n",
       "    }\n",
       "\n",
       "    .dataframe tbody tr th {\n",
       "        vertical-align: top;\n",
       "    }\n",
       "\n",
       "    .dataframe thead th {\n",
       "        text-align: right;\n",
       "    }\n",
       "</style>\n",
       "<table border=\"1\" class=\"dataframe\">\n",
       "  <thead>\n",
       "    <tr style=\"text-align: right;\">\n",
       "      <th></th>\n",
       "      <th>label</th>\n",
       "      <th>sms</th>\n",
       "    </tr>\n",
       "  </thead>\n",
       "  <tbody>\n",
       "    <tr>\n",
       "      <td>count</td>\n",
       "      <td>5572</td>\n",
       "      <td>5572</td>\n",
       "    </tr>\n",
       "    <tr>\n",
       "      <td>unique</td>\n",
       "      <td>2</td>\n",
       "      <td>5169</td>\n",
       "    </tr>\n",
       "    <tr>\n",
       "      <td>top</td>\n",
       "      <td>ham</td>\n",
       "      <td>Sorry, I'll call later</td>\n",
       "    </tr>\n",
       "    <tr>\n",
       "      <td>freq</td>\n",
       "      <td>4825</td>\n",
       "      <td>30</td>\n",
       "    </tr>\n",
       "  </tbody>\n",
       "</table>\n",
       "</div>"
      ],
      "text/plain": [
       "       label                     sms\n",
       "count   5572                    5572\n",
       "unique     2                    5169\n",
       "top      ham  Sorry, I'll call later\n",
       "freq    4825                      30"
      ]
     },
     "execution_count": 8,
     "metadata": {},
     "output_type": "execute_result"
    }
   ],
   "source": [
    "messages.describe()"
   ]
  },
  {
   "cell_type": "markdown",
   "metadata": {
    "id": "S0SlO1yUUyaH"
   },
   "source": [
    "[Back to top](#Index:) \n",
    "\n",
    "<a id='part3'></a>\n",
    "\n",
    "### Part 2 - Shuffling  and splitting the text messages\n",
    "\n",
    "In the third part of this assignment, we shuffle the messages and split them into a training set (2,500 messages), a validation set (1,000 messages) and a test set (all remaining messages).\n",
    "\n",
    "We begin by shuffling the messages. This can be done in `pandas` by using the function `sample`.\n",
    "\n",
    "Complete the code cell below by applying the function `.sample()` to messages. Set the argument `frac = 1` and `random_state = 0`. `frac` denotes the proportion of the dataframe to sample, and `random_state` is a random seed that ensures reproducibility. \n",
    "\n",
    "Next, \n",
    "reset the index of `messages` to align with the shuffled messages by using the function `reset_index` with the appropriate argument. \n",
    "\n",
    "You can find the documentation about `.reset_index()` [here](https://pandas.pydata.org/pandas-docs/stable/reference/api/pandas.DataFrame.reset_index.html)."
   ]
  },
  {
   "cell_type": "code",
   "execution_count": null,
   "metadata": {
    "id": "WxY0CuPuUyaH"
   },
   "outputs": [],
   "source": [
    "messages = messages.sample(frac = 1, random_state = 0).reset_index(drop = True)\n"
   ]
  },
  {
   "cell_type": "markdown",
   "metadata": {
    "id": "dFkOHJZtUyaH"
   },
   "source": [
    "Run the code cell below to visualise the updated dataframe"
   ]
  },
  {
   "cell_type": "code",
   "execution_count": null,
   "metadata": {
    "id": "NHk6ci2MUyaI",
    "outputId": "88471403-36f8-41e0-f00b-da49588584f7"
   },
   "outputs": [
    {
     "data": {
      "text/html": [
       "<div>\n",
       "<style scoped>\n",
       "    .dataframe tbody tr th:only-of-type {\n",
       "        vertical-align: middle;\n",
       "    }\n",
       "\n",
       "    .dataframe tbody tr th {\n",
       "        vertical-align: top;\n",
       "    }\n",
       "\n",
       "    .dataframe thead th {\n",
       "        text-align: right;\n",
       "    }\n",
       "</style>\n",
       "<table border=\"1\" class=\"dataframe\">\n",
       "  <thead>\n",
       "    <tr style=\"text-align: right;\">\n",
       "      <th></th>\n",
       "      <th>label</th>\n",
       "      <th>sms</th>\n",
       "      <th>length</th>\n",
       "    </tr>\n",
       "  </thead>\n",
       "  <tbody>\n",
       "    <tr>\n",
       "      <td>0</td>\n",
       "      <td>ham</td>\n",
       "      <td>Storming msg: Wen u lift d phne, u say \"HELLO\"...</td>\n",
       "      <td>324</td>\n",
       "    </tr>\n",
       "    <tr>\n",
       "      <td>1</td>\n",
       "      <td>spam</td>\n",
       "      <td>&lt;Forwarded from 448712404000&gt;Please CALL 08712...</td>\n",
       "      <td>111</td>\n",
       "    </tr>\n",
       "    <tr>\n",
       "      <td>2</td>\n",
       "      <td>ham</td>\n",
       "      <td>And also I've sorta blown him off a couple tim...</td>\n",
       "      <td>116</td>\n",
       "    </tr>\n",
       "    <tr>\n",
       "      <td>3</td>\n",
       "      <td>ham</td>\n",
       "      <td>Sir Goodmorning, Once free call me.</td>\n",
       "      <td>35</td>\n",
       "    </tr>\n",
       "    <tr>\n",
       "      <td>4</td>\n",
       "      <td>ham</td>\n",
       "      <td>All will come alive.better correct any good lo...</td>\n",
       "      <td>73</td>\n",
       "    </tr>\n",
       "  </tbody>\n",
       "</table>\n",
       "</div>"
      ],
      "text/plain": [
       "  label                                                sms  length\n",
       "0   ham  Storming msg: Wen u lift d phne, u say \"HELLO\"...     324\n",
       "1  spam  <Forwarded from 448712404000>Please CALL 08712...     111\n",
       "2   ham  And also I've sorta blown him off a couple tim...     116\n",
       "3   ham                Sir Goodmorning, Once free call me.      35\n",
       "4   ham  All will come alive.better correct any good lo...      73"
      ]
     },
     "execution_count": 9,
     "metadata": {},
     "output_type": "execute_result"
    }
   ],
   "source": [
    "messages.head()"
   ]
  },
  {
   "cell_type": "markdown",
   "metadata": {
    "id": "FTdbaCknUyaI"
   },
   "source": [
    "Next, we need to split the messages into a training set (2,500 messages), a validation set (1,000 messages) and a test set (remaining messages).\n",
    "\n",
    "In the code cell below, we have defined the messages and their correspoding labels. Next, we split the messages into the required sets according to the instructions."
   ]
  },
  {
   "cell_type": "code",
   "execution_count": null,
   "metadata": {
    "id": "qBvF3mzzUyaI"
   },
   "outputs": [],
   "source": [
    "msgs = list(messages.sms) \n",
    "lbls =list(messages.label) \n",
    "trainingMsgs = msgs[:2500] \n",
    "valMsgs = msgs[2500:3500] \n",
    "testingMsgs = msgs[3500:]"
   ]
  },
  {
   "cell_type": "markdown",
   "metadata": {
    "id": "7lzj0eieUyaJ"
   },
   "source": [
    "Following the syntax used above, complete the cell below to split the labels into training set, a validation set, and a test set."
   ]
  },
  {
   "cell_type": "code",
   "execution_count": null,
   "metadata": {
    "id": "TU0QysSgUyaJ"
   },
   "outputs": [],
   "source": [
    "trainingLbls = lbls[:2500] \n",
    "valLbls = lbls[2500:3500]\n",
    "testingLbls = lbls[3500:]\n"
   ]
  },
  {
   "cell_type": "markdown",
   "metadata": {
    "id": "k7-LbZSnUyaJ"
   },
   "source": [
    "[Back to top](#Index:) \n",
    "\n",
    "<a id='part4'></a>\n",
    "\n",
    "### Part 3- Building a simple Naïve Bayes classifier from scratch\n",
    "\n",
    "While Python’s SciKit-Learn library has a Naïve Bayes classifier (see [here](https://scikit-learn.org/stable/modules/naive_bayes.html) for more information), it works with continuous probability distributions and assumes numerical features. \n",
    "\n",
    "Although it is possible to transform categorical variables into numerical features using a binary encoding, we will instead build a simple Naıve Bayes classifier from scratch."
   ]
  },
  {
   "cell_type": "code",
   "execution_count": null,
   "metadata": {
    "id": "XXu7IKuwUyaK"
   },
   "outputs": [],
   "source": [
    "import numpy as np\n",
    "\n",
    "\n",
    "class NaiveBayesForSpam:\n",
    "    def train (self, hamMessages, spamMessages):\n",
    "        self.words = set (' '.join (hamMessages + spamMessages).split())\n",
    "        self.priors = np.zeros (2)\n",
    "        self.priors[0] = float (len (hamMessages)) / (len (hamMessages) + len (spamMessages))\n",
    "        self.priors[1] = 1.0 - self.priors[0]\n",
    "        self.likelihoods = []\n",
    "        for i, w in enumerate (self.words):\n",
    "            prob1 = (1.0 + len ([m for m in hamMessages if w in m])) / len (hamMessages)\n",
    "            prob2 = (1.0 + len ([m for m in spamMessages if w in m])) / len (spamMessages)\n",
    "            self.likelihoods.append ([min (prob1, 0.95), min (prob2, 0.95)])\n",
    "        self.likelihoods = np.array (self.likelihoods).T\n",
    "        \n",
    "    def predict (self, message):\n",
    "        posteriors = np.copy (self.priors)\n",
    "        for i, w in enumerate (self.words):\n",
    "            if w in message.lower():  # convert to lower-case\n",
    "                posteriors *= self.likelihoods[:,i]\n",
    "            else:                                   \n",
    "                posteriors *= np.ones (2) - self.likelihoods[:,i]\n",
    "            posteriors = posteriors / np.linalg.norm (posteriors)  # normalise\n",
    "        if posteriors[0] > 0.5:\n",
    "            return ['ham', posteriors[0]]\n",
    "        return ['spam', posteriors[1]]    \n",
    "\n",
    "    def score (self, messages, labels):\n",
    "        confusion = np.zeros(4).reshape (2,2)\n",
    "        for m, l in zip (messages, labels):\n",
    "            if self.predict(m)[0] == 'ham' and l == 'ham':\n",
    "                confusion[0,0] += 1\n",
    "            elif self.predict(m)[0] == 'ham' and l == 'spam':\n",
    "                confusion[0,1] += 1\n",
    "            elif self.predict(m)[0] == 'spam' and l == 'ham':\n",
    "                confusion[1,0] += 1\n",
    "            elif self.predict(m)[0] == 'spam' and l == 'spam':\n",
    "                confusion[1,1] += 1\n",
    "        return (confusion[0,0] + confusion[1,1]) / float (confusion.sum()), confusion"
   ]
  },
  {
   "cell_type": "markdown",
   "metadata": {
    "id": "C90ekJtWUyaL"
   },
   "source": [
    "[Back to top](#Index:) \n",
    "\n",
    "<a id='part5'></a>\n",
    "\n",
    "### Part 4 - Explaining the code given in Part 3\n",
    "\n",
    "Before explaining the code given in Part 3, it is important to have some level of intuition as to what a spammy text message might look like. Usually they have words designed to catch your eye and, in some sense, tempt you to open them. Also, spam messages tend to have words written in all capital letters and  use a lot of exclamation marks.\n",
    "\n",
    "\n",
    "The function `train` calculates and stores the prior probabilities and likelihoods based on the training data set. In Naïve Bayes, this is all the training phase does. The `predict` function repeatedly applies Bayes’ Theorem to every word in the constructed dictionary and, based on the posterior probability, it classifies each message as `spam` or `ham`. The `score` function calls `predict` for multiple messages and compares the outcomes with the supplied `ground truth` labels and thus evaluates the classifier. It also computes and returns a confusion matrix.\n"
   ]
  },
  {
   "cell_type": "markdown",
   "metadata": {
    "id": "ePNa5Lv8UyaL"
   },
   "source": [
    "[Back to top](#Index:) \n",
    "\n",
    "<a id='part6'></a>\n",
    "\n",
    "### Part 5 - Training the `train`  classifier\n",
    "\n",
    "Looking at the definition of the function `train` in Part 2, we can see that the training functions require the `ham` and `spam` messages to be passed on separately.\n",
    "\n",
    "The `ham` messages can be passed using the code given below:"
   ]
  },
  {
   "cell_type": "code",
   "execution_count": null,
   "metadata": {
    "id": "SxYVs8bQUyaM"
   },
   "outputs": [],
   "source": [
    "hammsgs = [m for (m, l) in zip(trainingMsgs, trainingLbls) if 'ham' in l]"
   ]
  },
  {
   "cell_type": "markdown",
   "metadata": {
    "id": "FyMA5vnPUyaM"
   },
   "source": [
    "Complete the cell below to pass the spam messages."
   ]
  },
  {
   "cell_type": "code",
   "execution_count": null,
   "metadata": {
    "id": "5u1UcID4UyaM"
   },
   "outputs": [],
   "source": [
    "spammsgs = [m for (m, l) in zip(trainingMsgs, trainingLbls) if 'spam' in l]\n"
   ]
  },
  {
   "cell_type": "markdown",
   "metadata": {
    "id": "pZ4y8S5uUyaM"
   },
   "source": [
    "Run the cell below to see how many `ham` and `spam` messages we have."
   ]
  },
  {
   "cell_type": "code",
   "execution_count": null,
   "metadata": {
    "id": "68Zl7e5vUyaN",
    "outputId": "2567a05f-d02f-4289-ac3b-9aaad23f13ca"
   },
   "outputs": [
    {
     "name": "stdout",
     "output_type": "stream",
     "text": [
      "2170\n",
      "330\n"
     ]
    }
   ],
   "source": [
    "print(len(hammsgs))\n",
    "print(len(spammsgs))"
   ]
  },
  {
   "cell_type": "markdown",
   "metadata": {
    "id": "AEXJzX5HUyaN"
   },
   "source": [
    "Perfect, their sum equals 2500 as expected. \n",
    "\n",
    "Next, we need to create the classifier for our analysis using the function `NaiveBayesForSpam`(). Complete the cell below to create the classifier `clf`.\n",
    "\n",
    "Next, train `hammsgs` and `spammsgs` using the function `train`. \n",
    "\n",
    "*HINT:* For this last part, look at the definition of the function `.train()`."
   ]
  },
  {
   "cell_type": "code",
   "execution_count": null,
   "metadata": {
    "id": "L534QNwJUyaN"
   },
   "outputs": [],
   "source": [
    "clf = NaiveBayesForSpam()\n",
    "clf.train(hammsgs, spammsgs)\n"
   ]
  },
  {
   "cell_type": "markdown",
   "metadata": {
    "id": "bJCHXKzgUyaN"
   },
   "source": [
    "[Back to top](#Index:) \n",
    "\n",
    "<a id='part7'></a>\n",
    "\n",
    "### Part 6 - Exploring the performance of the `train` classifier\n",
    "\n",
    "We can explore the performance of the two classifiers on the *validation set* by using the function `.score()`.\n",
    "\n",
    "Complete the code cell below to compute the score and the confusion matrix for this case.\n",
    "\n",
    "\n",
    "**IMPORTANT NOTE: Results in the following sections  will change. This is expected and due to the random shuffling. The results will be different for each shuffling. To ensure reproducible results, define `random_state` in the `sample` method when shuffling the data in [Part 2 - Shuffling  and splitting the text messages](#part3).**\n"
   ]
  },
  {
   "cell_type": "code",
   "execution_count": null,
   "metadata": {
    "id": "Jhjs5rigUyaO"
   },
   "outputs": [],
   "source": [
    "score, confusion = clf.score (valMsgs, valLbls)\n"
   ]
  },
  {
   "cell_type": "markdown",
   "metadata": {
    "id": "zdrcC3zqUyaO"
   },
   "source": [
    "Run the code cells below to print the score and the confusion matrix."
   ]
  },
  {
   "cell_type": "code",
   "execution_count": null,
   "metadata": {
    "id": "Ae5iQWtuUyaO",
    "outputId": "4576ce2a-c8fe-4aef-bce9-54debb46f259"
   },
   "outputs": [
    {
     "name": "stdout",
     "output_type": "stream",
     "text": [
      "The overall performance is: 0.977\n"
     ]
    }
   ],
   "source": [
    "print(\"The overall performance is:\", score)"
   ]
  },
  {
   "cell_type": "code",
   "execution_count": null,
   "metadata": {
    "id": "I14pFO-pUyaO",
    "outputId": "dc562b2f-7635-476e-ea17-f67575015224"
   },
   "outputs": [
    {
     "name": "stdout",
     "output_type": "stream",
     "text": [
      "The confusion matrix is:\n",
      " [[864.  20.]\n",
      " [  3. 113.]]\n"
     ]
    }
   ],
   "source": [
    "print(\"The confusion matrix is:\\n\", confusion)"
   ]
  },
  {
   "cell_type": "markdown",
   "metadata": {
    "id": "K8N-EseFUyaP"
   },
   "source": [
    "Our data is not equally divided into the two classes. As a baseline, let’s see what the\n",
    "success rate would be if we always guessed `ham`.\n",
    "\n",
    "Run the code cell below to print the new score."
   ]
  },
  {
   "cell_type": "code",
   "execution_count": null,
   "metadata": {
    "id": "7Ug4KeGzUyaP",
    "outputId": "f3f5e010-8a16-4ffc-ba0e-f71b47be3632"
   },
   "outputs": [
    {
     "name": "stdout",
     "output_type": "stream",
     "text": [
      "new_score 0.867\n"
     ]
    }
   ],
   "source": [
    "print('new_score', len([1 for l in valLbls if 'ham' in l]) / float (len ( valLbls)))"
   ]
  },
  {
   "cell_type": "markdown",
   "metadata": {
    "id": "BdDBftGnUyaP"
   },
   "source": [
    "Compare the baseline score to the performance on the validation set. Which is better?\n",
    "\n",
    "We can also calculate the sample error by calculating the score and the confusion matrix on the *training set*."
   ]
  },
  {
   "cell_type": "code",
   "execution_count": null,
   "metadata": {
    "id": "dntfggtKUyaQ"
   },
   "outputs": [],
   "source": [
    "#Note: this cell may take a LONG time to run!\n",
    "score, confusion = clf.score (trainingMsgs, trainingLbls)\n"
   ]
  },
  {
   "cell_type": "code",
   "execution_count": null,
   "metadata": {
    "id": "5DD_1GWKUyaQ",
    "outputId": "eb20540d-8af4-47e1-96be-964cdd572b2f"
   },
   "outputs": [
    {
     "name": "stdout",
     "output_type": "stream",
     "text": [
      "The overall performance is: 0.9804\n"
     ]
    }
   ],
   "source": [
    "print(\"The overall performance is:\", score)"
   ]
  },
  {
   "cell_type": "code",
   "execution_count": null,
   "metadata": {
    "id": "T2E4SxL0UyaQ",
    "outputId": "ead0b070-8e29-45c2-bf88-9d2c573d2d1f"
   },
   "outputs": [
    {
     "name": "stdout",
     "output_type": "stream",
     "text": [
      "The confusion matrix is:\n",
      " [[2163.   42.]\n",
      " [   7.  288.]]\n"
     ]
    }
   ],
   "source": [
    "print(\"The confusion matrix is:\\n\", confusion)"
   ]
  },
  {
   "cell_type": "markdown",
   "metadata": {
    "id": "7y8nxaghUyaQ"
   },
   "source": [
    "[Back to top](#Index:) \n",
    "\n",
    "<a id='part9'></a>\n",
    "\n",
    "### Part 7 - Training the `train2` classifier\n",
    "\n",
    "In this section, we will define a second classifier, `train2`, and compare its performances to the classifier `train` defined above.\n",
    "\n",
    "The `train2` classifier is defined in the code cell below."
   ]
  },
  {
   "cell_type": "code",
   "execution_count": null,
   "metadata": {
    "id": "HXj-eDq1UyaQ"
   },
   "outputs": [],
   "source": [
    "class NaiveBayesForSpam:\n",
    "    def train2 ( self , hamMessages , spamMessages) :\n",
    "            self.words = set (' '.join (hamMessages + spamMessages).split())\n",
    "            self.priors = np. zeros (2)\n",
    "            self.priors [0] = float (len (hamMessages)) / (len (hamMessages) +len( spamMessages ) )\n",
    "            self.priors [1] = 1.0 - self . priors [0] \n",
    "            self.likelihoods = []\n",
    "            spamkeywords = [ ]\n",
    "            for i, w in enumerate (self.words):\n",
    "                prob1 = (1.0 + len ([m for m in hamMessages if w in m])) /len ( hamMessages )\n",
    "                prob2 = (1.0 + len ([m for m in spamMessages if w in m])) /len ( spamMessages ) \n",
    "                if prob1 * 20 < prob2:\n",
    "                    self.likelihoods.append([min (prob1 , 0.95) , min (prob2 , 0.95) ])\n",
    "                    spamkeywords . append (w) \n",
    "            self.words = spamkeywords\n",
    "            self.likelihoods = np.array (self.likelihoods).T \n",
    "            \n",
    "    def predict (self, message):\n",
    "        posteriors = np.copy (self.priors)\n",
    "        for i, w in enumerate (self.words):\n",
    "            if w in message.lower():  # convert to lower-case\n",
    "                posteriors *= self.likelihoods[:,i]\n",
    "            else:                                   \n",
    "                posteriors *= np.ones (2) - self.likelihoods[:,i]\n",
    "            posteriors = posteriors / np.linalg.norm (posteriors)  # normalise\n",
    "        if posteriors[0] > 0.5:\n",
    "            return ['ham', posteriors[0]]\n",
    "        return ['spam', posteriors[1]]    \n",
    "\n",
    "    def score (self, messages, labels):\n",
    "        confusion = np.zeros(4).reshape (2,2)\n",
    "        for m, l in zip (messages, labels):\n",
    "            if self.predict(m)[0] == 'ham' and l == 'ham':\n",
    "                confusion[0,0] += 1\n",
    "            elif self.predict(m)[0] == 'ham' and l == 'spam':\n",
    "                confusion[0,1] += 1\n",
    "            elif self.predict(m)[0] == 'spam' and l == 'ham':\n",
    "                confusion[1,0] += 1\n",
    "            elif self.predict(m)[0] == 'spam' and l == 'spam':\n",
    "                confusion[1,1] += 1\n",
    "        return (confusion[0,0] + confusion[1,1]) / float (confusion.sum()), confusion"
   ]
  },
  {
   "cell_type": "markdown",
   "metadata": {
    "id": "3T_9x6b8UyaR"
   },
   "source": [
    "Next, we need to update the classifier for our analysis using the function `NaiveBayesForSpam`(). Complete the cell below to create the classifier `clf`.\n",
    "\n",
    "Next, train `hammsgs` and `spammsgs` using the function `train2`. \n",
    "\n",
    "*HINT:* For this last part, look at the definition of the function `.train2()`."
   ]
  },
  {
   "cell_type": "code",
   "execution_count": null,
   "metadata": {
    "id": "eEgW5xItUyaR"
   },
   "outputs": [],
   "source": [
    "clf = NaiveBayesForSpam()\n",
    "clf.train2(hammsgs, spammsgs)\n"
   ]
  },
  {
   "cell_type": "markdown",
   "metadata": {
    "id": "_FW_0JAxUyaR"
   },
   "source": [
    "Re-compute the score and the confusion matrix on the *validation set* using the updated classifier."
   ]
  },
  {
   "cell_type": "code",
   "execution_count": null,
   "metadata": {
    "id": "Gx7oepdxUyaR"
   },
   "outputs": [],
   "source": [
    "#Again, this cell may take a long time to run!\n",
    "score_2, confusion_2 = clf.score(valMsgs, valLbls)\n"
   ]
  },
  {
   "cell_type": "markdown",
   "metadata": {
    "id": "KlRl2dzsUyaR"
   },
   "source": [
    "Run the code cells below to get the updated values."
   ]
  },
  {
   "cell_type": "code",
   "execution_count": null,
   "metadata": {
    "id": "Xaj0Jq_gUyaS",
    "outputId": "9c0b2d20-f500-4012-f43e-93b8f69e2c6a"
   },
   "outputs": [
    {
     "name": "stdout",
     "output_type": "stream",
     "text": [
      "The overall performance is:  0.979\n"
     ]
    }
   ],
   "source": [
    "print(\"The overall performance is: \", score_2)"
   ]
  },
  {
   "cell_type": "code",
   "execution_count": null,
   "metadata": {
    "id": "h4FexfiYUyaS",
    "outputId": "d4705ec0-5b15-47f9-aed7-d9fc9ef6a98d"
   },
   "outputs": [
    {
     "name": "stdout",
     "output_type": "stream",
     "text": [
      "The confusion matrix is:\n",
      " [[863.  17.]\n",
      " [  4. 116.]]\n"
     ]
    }
   ],
   "source": [
    "print(\"The confusion matrix is:\\n\", confusion_2)"
   ]
  },
  {
   "cell_type": "markdown",
   "metadata": {
    "id": "a-Z0coLSUyaS"
   },
   "source": [
    "Good job on completing the assignment!"
   ]
  },
  {
   "cell_type": "code",
   "execution_count": null,
   "metadata": {
    "id": "j-EuD4WEUyaS"
   },
   "outputs": [],
   "source": []
  }
 ],
 "metadata": {
  "colab": {
   "collapsed_sections": [],
   "name": "IMP-PCMLAI_M11_naive-bayes-solution.ipynb",
   "provenance": []
  },
  "kernelspec": {
   "display_name": "Python 3 (ipykernel)",
   "language": "python",
   "name": "python3"
  },
  "language_info": {
   "codemirror_mode": {
    "name": "ipython",
    "version": 3
   },
   "file_extension": ".py",
   "mimetype": "text/x-python",
   "name": "python",
   "nbconvert_exporter": "python",
   "pygments_lexer": "ipython3",
   "version": "3.11.8"
  }
 },
 "nbformat": 4,
 "nbformat_minor": 4
}
